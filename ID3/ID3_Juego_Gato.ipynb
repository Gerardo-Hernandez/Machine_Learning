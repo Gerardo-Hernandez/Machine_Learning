{
  "nbformat": 4,
  "nbformat_minor": 0,
  "metadata": {
    "colab": {
      "name": "ID3_Juego_Gato.ipynb",
      "provenance": [],
      "collapsed_sections": []
    },
    "kernelspec": {
      "name": "python3",
      "display_name": "Python 3"
    },
    "language_info": {
      "name": "python"
    }
  },
  "cells": [
    {
      "cell_type": "markdown",
      "source": [
        ""
      ],
      "metadata": {
        "id": "f-Ewj9T_8YFW"
      }
    },
    {
      "cell_type": "markdown",
      "source": [
        "## Librerias"
      ],
      "metadata": {
        "id": "6D97jzi18YCe"
      }
    },
    {
      "cell_type": "code",
      "execution_count": null,
      "metadata": {
        "id": "dp999bfn8Dmj"
      },
      "outputs": [],
      "source": [
        "import pandas as pd\n",
        "import math\n",
        "import numpy as np\n",
        "import operator\n",
        "import seaborn as sns\n",
        "import matplotlib.pyplot as plt\n",
        "from pandas.core.algorithms import unique"
      ]
    },
    {
      "cell_type": "markdown",
      "source": [
        "## Funciones"
      ],
      "metadata": {
        "id": "ch6ix8QO8pdT"
      }
    },
    {
      "cell_type": "markdown",
      "source": [
        "### Funciones para generar el arbol id3"
      ],
      "metadata": {
        "id": "t8d95GZZmUy_"
      }
    },
    {
      "cell_type": "code",
      "source": [
        "def contar_clases(atributo_decision_, clases_):\n",
        "    cont_clases_ = np.zeros((len(clases_)))\n",
        "    for n, c in enumerate(clases_):\n",
        "        cont_clases_[n] = int(np.sum(atributo_decision_ == c))\n",
        "    return cont_clases_"
      ],
      "metadata": {
        "id": "Z5f8WjLN84m7"
      },
      "execution_count": null,
      "outputs": []
    },
    {
      "cell_type": "code",
      "source": [
        "def calcular_entropia(cont_clases_):\n",
        "    entropia_decision_ = 0\n",
        "    total = int(sum(cont_clases_))\n",
        "    for d in cont_clases_:\n",
        "        if d == 0: entropia_decision_ += 0\n",
        "        else: entropia_decision_ -= (d/total)*np.log2(d/total)\n",
        "    return entropia_decision_"
      ],
      "metadata": {
        "id": "xGOBY6Gq84kz"
      },
      "execution_count": null,
      "outputs": []
    },
    {
      "cell_type": "code",
      "source": [
        "def ganancia_atributo(x_, y_, cont_clases_, entropia_, clases_):\n",
        "    Total_ = int(sum(cont_clases_))\n",
        "    ganancias_ = {}\n",
        "    for a in x_.columns:\n",
        "        ganancias_[a] = 0\n",
        "        observaciones = x_[a].unique()\n",
        "        for o in observaciones:\n",
        "            y_a_o_ = y_.loc[x_[a] == o]\n",
        "            cont_clases_y_a_o_ = contar_clases(y_a_o_, clases_)\n",
        "            entropia_a_o_ = calcular_entropia(cont_clases_y_a_o_)\n",
        "            total_ = int(sum(cont_clases_y_a_o_))\n",
        "            ganancias_[a] += (total_/Total_) * entropia_a_o_\n",
        "        ganancias_[a] = entropia_ - ganancias_[a]\n",
        "    return ganancias_"
      ],
      "metadata": {
        "id": "C9mBLeLo84iD"
      },
      "execution_count": null,
      "outputs": []
    },
    {
      "cell_type": "code",
      "source": [
        "def nodo_raiz(ganancias_):\n",
        "    raiz_ = max(ganancias_.items(), key=operator.itemgetter(1))[0]\n",
        "    entropia_r_ = ganancias_[raiz_]\n",
        "    return raiz_, entropia_r_"
      ],
      "metadata": {
        "id": "qkbHoKSj84fA"
      },
      "execution_count": null,
      "outputs": []
    },
    {
      "cell_type": "code",
      "source": [
        "def nodos_intermedios(x_, y_, atributo_, obs_):\n",
        "    subx_ = []\n",
        "    suby_ = []\n",
        "    for o in obs_:\n",
        "        pos_coinciden_ = x_[atributo_] == o\n",
        "        subx_.append(x_.loc[pos_coinciden_])\n",
        "        suby_.append(y_.loc[pos_coinciden_])\n",
        "    return subx_, suby_"
      ],
      "metadata": {
        "id": "Y7kigxv_84cR"
      },
      "execution_count": null,
      "outputs": []
    },
    {
      "cell_type": "code",
      "source": [
        "def fin_rama(y_fr_, obs_):\n",
        "    hoja_ = 0\n",
        "    clase_fr_ = 0\n",
        "    n = len(y_fr_)\n",
        "    for o in obs_:\n",
        "        coincidencias_ = int(np.sum(y_fr_ == o))\n",
        "        if coincidencias_ == n:\n",
        "            hoja_ = 1\n",
        "            clase_fr_ = o\n",
        "    return hoja_, clase_fr_"
      ],
      "metadata": {
        "id": "j5hqRfeQ84Zc"
      },
      "execution_count": null,
      "outputs": []
    },
    {
      "cell_type": "code",
      "source": [
        "def arbol_id3(x_, y_, clases_, arbol_):\n",
        "    conteo_clases = contar_clases(y_, clases_)\n",
        "    entropia_decision_ = calcular_entropia(conteo_clases)\n",
        "    ganancias_ = ganancia_atributo(x_, y_, conteo_clases, \n",
        "                                   entropia_decision_, clases_)\n",
        "    nodo_raiz_, entropia_raiz_ = nodo_raiz(ganancias_)\n",
        "    arbol_[nodo_raiz_] = {}\n",
        "    ramas_ = x_[nodo_raiz_].unique()\n",
        "    sub_x_, sub_y_ = nodos_intermedios(x_, y_, nodo_raiz_, ramas_)\n",
        "    for r, sx, sy in zip(ramas_, sub_x_, sub_y_):\n",
        "        arbol_[nodo_raiz_][r] = {}\n",
        "        hoja_, clase_f_ = fin_rama(sy, clases_)\n",
        "        if hoja_ == 1:\n",
        "            arbol_[nodo_raiz_][r] = clase_f_\n",
        "        else:\n",
        "            arbol_id3(sx, sy, clases_, arbol_[nodo_raiz_][r])\n",
        "    return arbol_"
      ],
      "metadata": {
        "id": "2pE5h1BO84Wr"
      },
      "execution_count": null,
      "outputs": []
    },
    {
      "cell_type": "markdown",
      "source": [
        "### Función para separa la base de datos en entrenamiento y prueba"
      ],
      "metadata": {
        "id": "LYw88lwpmn8d"
      }
    },
    {
      "cell_type": "code",
      "source": [
        "def split_80_20(datos_, etiquetas_):\n",
        "  n_ = len(datos_)\n",
        "  indices_ = np.arange(n_)\n",
        "  np.random.shuffle(indices_)\n",
        "  lim = int(n_ * 0.80) + 1\n",
        "  x_train_ = datos_.loc[indices_[0:lim]]\n",
        "  x_test_ = datos_.loc[indices_[lim:]]\n",
        "  y_train_ = etiquetas_.loc[indices_[0:lim]]\n",
        "  y_test_ = etiquetas_.loc[indices_[lim:]]\n",
        "  return x_train_, x_test_, y_train_, y_test_"
      ],
      "metadata": {
        "id": "ymXJ3jojS_R8"
      },
      "execution_count": null,
      "outputs": []
    },
    {
      "cell_type": "markdown",
      "source": [
        "### Funciones evaluar algoritmo"
      ],
      "metadata": {
        "id": "4qwixZbknej6"
      }
    },
    {
      "cell_type": "code",
      "source": [
        "def exactitud(y_calculada_, y_real_):\n",
        "  coincidencias = np.equal(y_calculada_, y_real_)\n",
        "  total_coin_ = np.sum(coincidencias)\n",
        "  porcentaje_ = (total_coin_ / len(y_calculada_))\n",
        "  return porcentaje_"
      ],
      "metadata": {
        "id": "v2BM1NETnrSP"
      },
      "execution_count": null,
      "outputs": []
    },
    {
      "cell_type": "code",
      "source": [
        "def precision(y_clas_, y_real_):\n",
        "  TP = 0\n",
        "  FP = 0\n",
        "  for c, r in zip(y_clas_, y_real_):\n",
        "    if (r == c) and r == 'positive': TP += 1\n",
        "    elif (r != c) and r == 'negative': FP += 1\n",
        "  pre_ = TP / (TP + FP)\n",
        "  return pre_"
      ],
      "metadata": {
        "id": "vtA_VeT0oAbh"
      },
      "execution_count": null,
      "outputs": []
    },
    {
      "cell_type": "code",
      "source": [
        "def sensitividad(y_clas_, y_real_):\n",
        "  TP_ = 0\n",
        "  FN_ = 0\n",
        "  for c, r in zip(y_clas_, y_real_):\n",
        "    if (r == c) and r == 'positive': TP_ += 1\n",
        "    elif (r != c) and r == 'positive': FN_ += 1\n",
        "  sens_ = TP_ / (TP_ + FN_)\n",
        "  return sens_"
      ],
      "metadata": {
        "id": "A_coSRpIoCvq"
      },
      "execution_count": null,
      "outputs": []
    },
    {
      "cell_type": "code",
      "source": [
        "def especificidad(y_clas_, y_real_):\n",
        "  TN_ = 0\n",
        "  FP_ = 0\n",
        "  for c, r in zip(y_clas_, y_real_):\n",
        "    if (r == c) and r == 'negative': TN_ += 1\n",
        "    elif (r != c) and r == 'negative': FP_ += 1\n",
        "  esp_ = TN_ / (TN_ + FP_)\n",
        "  return esp_"
      ],
      "metadata": {
        "id": "_SlMdhnLoLNo"
      },
      "execution_count": null,
      "outputs": []
    },
    {
      "cell_type": "code",
      "source": [
        "def puntaje_F1(y_clas_, y_real_):\n",
        "  prec_ = precision(y_clas_, y_real_)\n",
        "  sens_ = sensitividad(y_clas_, y_real_)\n",
        "  pf1_ = 2 * ((prec_ * sens_) / (prec_ + sens_))\n",
        "  return pf1_"
      ],
      "metadata": {
        "id": "bv1kjYXkoLKF"
      },
      "execution_count": null,
      "outputs": []
    },
    {
      "cell_type": "markdown",
      "source": [
        "## Base de datos"
      ],
      "metadata": {
        "id": "COvgpMrQ9jqU"
      }
    },
    {
      "cell_type": "markdown",
      "source": [
        "La base de datos se puede encontrar en:\n",
        "\n",
        "https://archive.ics.uci.edu/ml/datasets/Tic-Tac-Toe+Endgame"
      ],
      "metadata": {
        "id": "KOOATH4ZzbJk"
      }
    },
    {
      "cell_type": "code",
      "source": [
        "df = pd.read_csv('/content/drive/MyDrive/Bases_de_Datos/tic-tac-toe-endgame.csv')\n",
        "columnas = df.columns.values\n",
        "\n",
        "x = df[columnas[0:9]].copy()\n",
        "y = df['V10']\n",
        "clases = y.unique()"
      ],
      "metadata": {
        "id": "V7mQwouf-l0u"
      },
      "execution_count": null,
      "outputs": []
    },
    {
      "cell_type": "code",
      "source": [
        "print(\"Dimensión:\",df.shape)\n",
        "df.head()"
      ],
      "metadata": {
        "colab": {
          "base_uri": "https://localhost:8080/",
          "height": 224
        },
        "id": "gmd5OAH4cT5r",
        "outputId": "d9bdc7f8-22cc-432c-d5f9-75afa8cf480d"
      },
      "execution_count": null,
      "outputs": [
        {
          "output_type": "stream",
          "name": "stdout",
          "text": [
            "Dimensión: (958, 10)\n"
          ]
        },
        {
          "output_type": "execute_result",
          "data": {
            "text/plain": [
              "  V1 V2 V3 V4 V5 V6 V7 V8 V9       V10\n",
              "0  x  x  x  x  o  o  x  o  o  positive\n",
              "1  x  x  x  x  o  o  o  x  o  positive\n",
              "2  x  x  x  x  o  o  o  o  x  positive\n",
              "3  x  x  x  x  o  o  o  b  b  positive\n",
              "4  x  x  x  x  o  o  b  o  b  positive"
            ],
            "text/html": [
              "\n",
              "  <div id=\"df-afac1877-b89b-4151-b097-4219cd55686a\">\n",
              "    <div class=\"colab-df-container\">\n",
              "      <div>\n",
              "<style scoped>\n",
              "    .dataframe tbody tr th:only-of-type {\n",
              "        vertical-align: middle;\n",
              "    }\n",
              "\n",
              "    .dataframe tbody tr th {\n",
              "        vertical-align: top;\n",
              "    }\n",
              "\n",
              "    .dataframe thead th {\n",
              "        text-align: right;\n",
              "    }\n",
              "</style>\n",
              "<table border=\"1\" class=\"dataframe\">\n",
              "  <thead>\n",
              "    <tr style=\"text-align: right;\">\n",
              "      <th></th>\n",
              "      <th>V1</th>\n",
              "      <th>V2</th>\n",
              "      <th>V3</th>\n",
              "      <th>V4</th>\n",
              "      <th>V5</th>\n",
              "      <th>V6</th>\n",
              "      <th>V7</th>\n",
              "      <th>V8</th>\n",
              "      <th>V9</th>\n",
              "      <th>V10</th>\n",
              "    </tr>\n",
              "  </thead>\n",
              "  <tbody>\n",
              "    <tr>\n",
              "      <th>0</th>\n",
              "      <td>x</td>\n",
              "      <td>x</td>\n",
              "      <td>x</td>\n",
              "      <td>x</td>\n",
              "      <td>o</td>\n",
              "      <td>o</td>\n",
              "      <td>x</td>\n",
              "      <td>o</td>\n",
              "      <td>o</td>\n",
              "      <td>positive</td>\n",
              "    </tr>\n",
              "    <tr>\n",
              "      <th>1</th>\n",
              "      <td>x</td>\n",
              "      <td>x</td>\n",
              "      <td>x</td>\n",
              "      <td>x</td>\n",
              "      <td>o</td>\n",
              "      <td>o</td>\n",
              "      <td>o</td>\n",
              "      <td>x</td>\n",
              "      <td>o</td>\n",
              "      <td>positive</td>\n",
              "    </tr>\n",
              "    <tr>\n",
              "      <th>2</th>\n",
              "      <td>x</td>\n",
              "      <td>x</td>\n",
              "      <td>x</td>\n",
              "      <td>x</td>\n",
              "      <td>o</td>\n",
              "      <td>o</td>\n",
              "      <td>o</td>\n",
              "      <td>o</td>\n",
              "      <td>x</td>\n",
              "      <td>positive</td>\n",
              "    </tr>\n",
              "    <tr>\n",
              "      <th>3</th>\n",
              "      <td>x</td>\n",
              "      <td>x</td>\n",
              "      <td>x</td>\n",
              "      <td>x</td>\n",
              "      <td>o</td>\n",
              "      <td>o</td>\n",
              "      <td>o</td>\n",
              "      <td>b</td>\n",
              "      <td>b</td>\n",
              "      <td>positive</td>\n",
              "    </tr>\n",
              "    <tr>\n",
              "      <th>4</th>\n",
              "      <td>x</td>\n",
              "      <td>x</td>\n",
              "      <td>x</td>\n",
              "      <td>x</td>\n",
              "      <td>o</td>\n",
              "      <td>o</td>\n",
              "      <td>b</td>\n",
              "      <td>o</td>\n",
              "      <td>b</td>\n",
              "      <td>positive</td>\n",
              "    </tr>\n",
              "  </tbody>\n",
              "</table>\n",
              "</div>\n",
              "      <button class=\"colab-df-convert\" onclick=\"convertToInteractive('df-afac1877-b89b-4151-b097-4219cd55686a')\"\n",
              "              title=\"Convert this dataframe to an interactive table.\"\n",
              "              style=\"display:none;\">\n",
              "        \n",
              "  <svg xmlns=\"http://www.w3.org/2000/svg\" height=\"24px\"viewBox=\"0 0 24 24\"\n",
              "       width=\"24px\">\n",
              "    <path d=\"M0 0h24v24H0V0z\" fill=\"none\"/>\n",
              "    <path d=\"M18.56 5.44l.94 2.06.94-2.06 2.06-.94-2.06-.94-.94-2.06-.94 2.06-2.06.94zm-11 1L8.5 8.5l.94-2.06 2.06-.94-2.06-.94L8.5 2.5l-.94 2.06-2.06.94zm10 10l.94 2.06.94-2.06 2.06-.94-2.06-.94-.94-2.06-.94 2.06-2.06.94z\"/><path d=\"M17.41 7.96l-1.37-1.37c-.4-.4-.92-.59-1.43-.59-.52 0-1.04.2-1.43.59L10.3 9.45l-7.72 7.72c-.78.78-.78 2.05 0 2.83L4 21.41c.39.39.9.59 1.41.59.51 0 1.02-.2 1.41-.59l7.78-7.78 2.81-2.81c.8-.78.8-2.07 0-2.86zM5.41 20L4 18.59l7.72-7.72 1.47 1.35L5.41 20z\"/>\n",
              "  </svg>\n",
              "      </button>\n",
              "      \n",
              "  <style>\n",
              "    .colab-df-container {\n",
              "      display:flex;\n",
              "      flex-wrap:wrap;\n",
              "      gap: 12px;\n",
              "    }\n",
              "\n",
              "    .colab-df-convert {\n",
              "      background-color: #E8F0FE;\n",
              "      border: none;\n",
              "      border-radius: 50%;\n",
              "      cursor: pointer;\n",
              "      display: none;\n",
              "      fill: #1967D2;\n",
              "      height: 32px;\n",
              "      padding: 0 0 0 0;\n",
              "      width: 32px;\n",
              "    }\n",
              "\n",
              "    .colab-df-convert:hover {\n",
              "      background-color: #E2EBFA;\n",
              "      box-shadow: 0px 1px 2px rgba(60, 64, 67, 0.3), 0px 1px 3px 1px rgba(60, 64, 67, 0.15);\n",
              "      fill: #174EA6;\n",
              "    }\n",
              "\n",
              "    [theme=dark] .colab-df-convert {\n",
              "      background-color: #3B4455;\n",
              "      fill: #D2E3FC;\n",
              "    }\n",
              "\n",
              "    [theme=dark] .colab-df-convert:hover {\n",
              "      background-color: #434B5C;\n",
              "      box-shadow: 0px 1px 3px 1px rgba(0, 0, 0, 0.15);\n",
              "      filter: drop-shadow(0px 1px 2px rgba(0, 0, 0, 0.3));\n",
              "      fill: #FFFFFF;\n",
              "    }\n",
              "  </style>\n",
              "\n",
              "      <script>\n",
              "        const buttonEl =\n",
              "          document.querySelector('#df-afac1877-b89b-4151-b097-4219cd55686a button.colab-df-convert');\n",
              "        buttonEl.style.display =\n",
              "          google.colab.kernel.accessAllowed ? 'block' : 'none';\n",
              "\n",
              "        async function convertToInteractive(key) {\n",
              "          const element = document.querySelector('#df-afac1877-b89b-4151-b097-4219cd55686a');\n",
              "          const dataTable =\n",
              "            await google.colab.kernel.invokeFunction('convertToInteractive',\n",
              "                                                     [key], {});\n",
              "          if (!dataTable) return;\n",
              "\n",
              "          const docLinkHtml = 'Like what you see? Visit the ' +\n",
              "            '<a target=\"_blank\" href=https://colab.research.google.com/notebooks/data_table.ipynb>data table notebook</a>'\n",
              "            + ' to learn more about interactive tables.';\n",
              "          element.innerHTML = '';\n",
              "          dataTable['output_type'] = 'display_data';\n",
              "          await google.colab.output.renderOutput(dataTable, element);\n",
              "          const docLink = document.createElement('div');\n",
              "          docLink.innerHTML = docLinkHtml;\n",
              "          element.appendChild(docLink);\n",
              "        }\n",
              "      </script>\n",
              "    </div>\n",
              "  </div>\n",
              "  "
            ]
          },
          "metadata": {},
          "execution_count": 9
        }
      ]
    },
    {
      "cell_type": "code",
      "source": [
        "df.describe()"
      ],
      "metadata": {
        "colab": {
          "base_uri": "https://localhost:8080/",
          "height": 175
        },
        "id": "jD0SOFj5clXG",
        "outputId": "1b8a9f70-2742-462c-d91e-b9e10a302d39"
      },
      "execution_count": null,
      "outputs": [
        {
          "output_type": "execute_result",
          "data": {
            "text/plain": [
              "         V1   V2   V3   V4   V5   V6   V7   V8   V9       V10\n",
              "count   958  958  958  958  958  958  958  958  958       958\n",
              "unique    3    3    3    3    3    3    3    3    3         2\n",
              "top       x    x    x    x    x    x    x    x    x  positive\n",
              "freq    418  378  418  378  458  378  418  378  418       626"
            ],
            "text/html": [
              "\n",
              "  <div id=\"df-d1ed0f2e-3673-49ce-995a-8a7f0e331313\">\n",
              "    <div class=\"colab-df-container\">\n",
              "      <div>\n",
              "<style scoped>\n",
              "    .dataframe tbody tr th:only-of-type {\n",
              "        vertical-align: middle;\n",
              "    }\n",
              "\n",
              "    .dataframe tbody tr th {\n",
              "        vertical-align: top;\n",
              "    }\n",
              "\n",
              "    .dataframe thead th {\n",
              "        text-align: right;\n",
              "    }\n",
              "</style>\n",
              "<table border=\"1\" class=\"dataframe\">\n",
              "  <thead>\n",
              "    <tr style=\"text-align: right;\">\n",
              "      <th></th>\n",
              "      <th>V1</th>\n",
              "      <th>V2</th>\n",
              "      <th>V3</th>\n",
              "      <th>V4</th>\n",
              "      <th>V5</th>\n",
              "      <th>V6</th>\n",
              "      <th>V7</th>\n",
              "      <th>V8</th>\n",
              "      <th>V9</th>\n",
              "      <th>V10</th>\n",
              "    </tr>\n",
              "  </thead>\n",
              "  <tbody>\n",
              "    <tr>\n",
              "      <th>count</th>\n",
              "      <td>958</td>\n",
              "      <td>958</td>\n",
              "      <td>958</td>\n",
              "      <td>958</td>\n",
              "      <td>958</td>\n",
              "      <td>958</td>\n",
              "      <td>958</td>\n",
              "      <td>958</td>\n",
              "      <td>958</td>\n",
              "      <td>958</td>\n",
              "    </tr>\n",
              "    <tr>\n",
              "      <th>unique</th>\n",
              "      <td>3</td>\n",
              "      <td>3</td>\n",
              "      <td>3</td>\n",
              "      <td>3</td>\n",
              "      <td>3</td>\n",
              "      <td>3</td>\n",
              "      <td>3</td>\n",
              "      <td>3</td>\n",
              "      <td>3</td>\n",
              "      <td>2</td>\n",
              "    </tr>\n",
              "    <tr>\n",
              "      <th>top</th>\n",
              "      <td>x</td>\n",
              "      <td>x</td>\n",
              "      <td>x</td>\n",
              "      <td>x</td>\n",
              "      <td>x</td>\n",
              "      <td>x</td>\n",
              "      <td>x</td>\n",
              "      <td>x</td>\n",
              "      <td>x</td>\n",
              "      <td>positive</td>\n",
              "    </tr>\n",
              "    <tr>\n",
              "      <th>freq</th>\n",
              "      <td>418</td>\n",
              "      <td>378</td>\n",
              "      <td>418</td>\n",
              "      <td>378</td>\n",
              "      <td>458</td>\n",
              "      <td>378</td>\n",
              "      <td>418</td>\n",
              "      <td>378</td>\n",
              "      <td>418</td>\n",
              "      <td>626</td>\n",
              "    </tr>\n",
              "  </tbody>\n",
              "</table>\n",
              "</div>\n",
              "      <button class=\"colab-df-convert\" onclick=\"convertToInteractive('df-d1ed0f2e-3673-49ce-995a-8a7f0e331313')\"\n",
              "              title=\"Convert this dataframe to an interactive table.\"\n",
              "              style=\"display:none;\">\n",
              "        \n",
              "  <svg xmlns=\"http://www.w3.org/2000/svg\" height=\"24px\"viewBox=\"0 0 24 24\"\n",
              "       width=\"24px\">\n",
              "    <path d=\"M0 0h24v24H0V0z\" fill=\"none\"/>\n",
              "    <path d=\"M18.56 5.44l.94 2.06.94-2.06 2.06-.94-2.06-.94-.94-2.06-.94 2.06-2.06.94zm-11 1L8.5 8.5l.94-2.06 2.06-.94-2.06-.94L8.5 2.5l-.94 2.06-2.06.94zm10 10l.94 2.06.94-2.06 2.06-.94-2.06-.94-.94-2.06-.94 2.06-2.06.94z\"/><path d=\"M17.41 7.96l-1.37-1.37c-.4-.4-.92-.59-1.43-.59-.52 0-1.04.2-1.43.59L10.3 9.45l-7.72 7.72c-.78.78-.78 2.05 0 2.83L4 21.41c.39.39.9.59 1.41.59.51 0 1.02-.2 1.41-.59l7.78-7.78 2.81-2.81c.8-.78.8-2.07 0-2.86zM5.41 20L4 18.59l7.72-7.72 1.47 1.35L5.41 20z\"/>\n",
              "  </svg>\n",
              "      </button>\n",
              "      \n",
              "  <style>\n",
              "    .colab-df-container {\n",
              "      display:flex;\n",
              "      flex-wrap:wrap;\n",
              "      gap: 12px;\n",
              "    }\n",
              "\n",
              "    .colab-df-convert {\n",
              "      background-color: #E8F0FE;\n",
              "      border: none;\n",
              "      border-radius: 50%;\n",
              "      cursor: pointer;\n",
              "      display: none;\n",
              "      fill: #1967D2;\n",
              "      height: 32px;\n",
              "      padding: 0 0 0 0;\n",
              "      width: 32px;\n",
              "    }\n",
              "\n",
              "    .colab-df-convert:hover {\n",
              "      background-color: #E2EBFA;\n",
              "      box-shadow: 0px 1px 2px rgba(60, 64, 67, 0.3), 0px 1px 3px 1px rgba(60, 64, 67, 0.15);\n",
              "      fill: #174EA6;\n",
              "    }\n",
              "\n",
              "    [theme=dark] .colab-df-convert {\n",
              "      background-color: #3B4455;\n",
              "      fill: #D2E3FC;\n",
              "    }\n",
              "\n",
              "    [theme=dark] .colab-df-convert:hover {\n",
              "      background-color: #434B5C;\n",
              "      box-shadow: 0px 1px 3px 1px rgba(0, 0, 0, 0.15);\n",
              "      filter: drop-shadow(0px 1px 2px rgba(0, 0, 0, 0.3));\n",
              "      fill: #FFFFFF;\n",
              "    }\n",
              "  </style>\n",
              "\n",
              "      <script>\n",
              "        const buttonEl =\n",
              "          document.querySelector('#df-d1ed0f2e-3673-49ce-995a-8a7f0e331313 button.colab-df-convert');\n",
              "        buttonEl.style.display =\n",
              "          google.colab.kernel.accessAllowed ? 'block' : 'none';\n",
              "\n",
              "        async function convertToInteractive(key) {\n",
              "          const element = document.querySelector('#df-d1ed0f2e-3673-49ce-995a-8a7f0e331313');\n",
              "          const dataTable =\n",
              "            await google.colab.kernel.invokeFunction('convertToInteractive',\n",
              "                                                     [key], {});\n",
              "          if (!dataTable) return;\n",
              "\n",
              "          const docLinkHtml = 'Like what you see? Visit the ' +\n",
              "            '<a target=\"_blank\" href=https://colab.research.google.com/notebooks/data_table.ipynb>data table notebook</a>'\n",
              "            + ' to learn more about interactive tables.';\n",
              "          element.innerHTML = '';\n",
              "          dataTable['output_type'] = 'display_data';\n",
              "          await google.colab.output.renderOutput(dataTable, element);\n",
              "          const docLink = document.createElement('div');\n",
              "          docLink.innerHTML = docLinkHtml;\n",
              "          element.appendChild(docLink);\n",
              "        }\n",
              "      </script>\n",
              "    </div>\n",
              "  </div>\n",
              "  "
            ]
          },
          "metadata": {},
          "execution_count": 10
        }
      ]
    },
    {
      "cell_type": "code",
      "source": [
        "df.isnull().sum()"
      ],
      "metadata": {
        "colab": {
          "base_uri": "https://localhost:8080/"
        },
        "id": "_CwPAbGJct_B",
        "outputId": "4e9805ef-5632-4f21-de8f-78bea08fa725"
      },
      "execution_count": null,
      "outputs": [
        {
          "output_type": "execute_result",
          "data": {
            "text/plain": [
              "V1     0\n",
              "V2     0\n",
              "V3     0\n",
              "V4     0\n",
              "V5     0\n",
              "V6     0\n",
              "V7     0\n",
              "V8     0\n",
              "V9     0\n",
              "V10    0\n",
              "dtype: int64"
            ]
          },
          "metadata": {},
          "execution_count": 11
        }
      ]
    },
    {
      "cell_type": "code",
      "source": [
        "elementos_columnas = {}\n",
        "for c in columnas:\n",
        "  elementos_columnas[c] = df[c].unique()\n",
        "\n",
        "elementos_columnas"
      ],
      "metadata": {
        "colab": {
          "base_uri": "https://localhost:8080/"
        },
        "id": "P7TTDa15c2vk",
        "outputId": "d7bc75ea-d4df-4942-cdb6-70e6ac68cdfa"
      },
      "execution_count": null,
      "outputs": [
        {
          "output_type": "execute_result",
          "data": {
            "text/plain": [
              "{'V1': array(['x', 'o', 'b'], dtype=object),\n",
              " 'V10': array(['positive', 'negative'], dtype=object),\n",
              " 'V2': array(['x', 'o', 'b'], dtype=object),\n",
              " 'V3': array(['x', 'o', 'b'], dtype=object),\n",
              " 'V4': array(['x', 'o', 'b'], dtype=object),\n",
              " 'V5': array(['o', 'b', 'x'], dtype=object),\n",
              " 'V6': array(['o', 'b', 'x'], dtype=object),\n",
              " 'V7': array(['x', 'o', 'b'], dtype=object),\n",
              " 'V8': array(['o', 'x', 'b'], dtype=object),\n",
              " 'V9': array(['o', 'x', 'b'], dtype=object)}"
            ]
          },
          "metadata": {},
          "execution_count": 13
        }
      ]
    },
    {
      "cell_type": "code",
      "source": [
        "fig, axs = plt.subplots(df.shape[1], 1, figsize = (3,20))\n",
        "fig.suptitle('Distribución de la información por atributo.')\n",
        "plt.subplots_adjust(hspace = 1)\n",
        "for i, c in enumerate(columnas):\n",
        "  dist_datos = df[c]\n",
        "  axs[i].set_title(f'Distribución de {c}.')\n",
        "  axs[i].hist(dist_datos)\n",
        "  axs[i].grid(True)"
      ],
      "metadata": {
        "colab": {
          "base_uri": "https://localhost:8080/",
          "height": 1000
        },
        "id": "zlRL3WuiyRJJ",
        "outputId": "481456a9-d9d0-4555-8403-a567ff68f8e9"
      },
      "execution_count": null,
      "outputs": [
        {
          "output_type": "display_data",
          "data": {
            "text/plain": [
              "<Figure size 216x1440 with 10 Axes>"
            ],
            "image/png": "[encoded data removed]"
          },
          "metadata": {
            "needs_background": "light"
          }
        }
      ]
    },
    {
      "cell_type": "code",
      "source": [
        "x_train, x_test, y_train, y_test = split_80_20(x, y)"
      ],
      "metadata": {
        "id": "lJsVCnktUJA1"
      },
      "execution_count": null,
      "outputs": []
    },
    {
      "cell_type": "markdown",
      "source": [
        "## Entrenamineto de id3"
      ],
      "metadata": {
        "id": "syXTSv9X83L4"
      }
    },
    {
      "cell_type": "code",
      "source": [
        "arbol_gato = {}\n",
        "arbol_gato = arbol_id3(x_train, y_train, clases, arbol_gato)"
      ],
      "metadata": {
        "id": "6PShfXkg-HB_"
      },
      "execution_count": null,
      "outputs": []
    },
    {
      "cell_type": "code",
      "source": [
        "arbol_gato"
      ],
      "metadata": {
        "colab": {
          "base_uri": "https://localhost:8080/"
        },
        "id": "PWdtARvWVVru",
        "outputId": "a0f5ed68-4c42-4ea6-cc81-28ed5b559f1f"
      },
      "execution_count": null,
      "outputs": [
        {
          "output_type": "execute_result",
          "data": {
            "text/plain": [
              "{'V5': {'b': {'V7': {'b': {'V3': {'o': 'negative', 'x': 'positive'}},\n",
              "    'o': {'V3': {'b': 'negative',\n",
              "      'o': 'negative',\n",
              "      'x': {'V9': {'b': {'V1': {'o': 'negative', 'x': 'positive'}},\n",
              "        'o': {'V8': {'b': 'positive',\n",
              "          'o': 'negative',\n",
              "          'x': {'V1': {'o': 'negative', 'x': 'positive'}}}},\n",
              "        'x': {'V6': {'b': {'V1': {'o': 'negative', 'x': 'positive'}},\n",
              "          'o': {'V1': {'o': 'negative', 'x': 'positive'}},\n",
              "          'x': 'positive'}}}}}},\n",
              "    'x': {'V3': {'b': 'positive',\n",
              "      'o': {'V1': {'b': {'V9': {'o': 'negative', 'x': 'positive'}},\n",
              "        'o': {'V4': {'b': 'positive', 'o': 'positive', 'x': 'negative'}},\n",
              "        'x': 'positive'}},\n",
              "      'x': 'positive'}}}},\n",
              "  'o': {'V1': {'b': {'V9': {'b': 'negative',\n",
              "      'o': 'negative',\n",
              "      'x': {'V7': {'b': {'V4': {'b': 'positive',\n",
              "          'o': {'V2': {'b': 'negative', 'o': 'positive', 'x': 'negative'}},\n",
              "          'x': 'negative'}},\n",
              "        'o': {'V3': {'o': 'negative',\n",
              "          'x': {'V6': {'o': 'negative', 'x': 'positive'}}}},\n",
              "        'x': {'V8': {'b': {'V2': {'b': 'negative',\n",
              "            'o': 'positive',\n",
              "            'x': 'negative'}},\n",
              "          'o': {'V2': {'b': 'positive', 'o': 'negative', 'x': 'negative'}},\n",
              "          'x': 'positive'}}}}}},\n",
              "    'o': {'V9': {'b': 'negative',\n",
              "      'o': 'negative',\n",
              "      'x': {'V7': {'b': {'V3': {'o': 'negative',\n",
              "          'x': {'V6': {'o': 'negative', 'x': 'positive'}}}},\n",
              "        'o': {'V2': {'b': {'V3': {'o': 'negative', 'x': 'positive'}},\n",
              "          'x': 'negative'}},\n",
              "        'x': {'V8': {'b': {'V4': {'b': 'positive',\n",
              "            'o': 'negative',\n",
              "            'x': 'negative'}},\n",
              "          'o': {'V4': {'b': 'positive', 'o': 'positive', 'x': 'negative'}},\n",
              "          'x': 'positive'}}}}}},\n",
              "    'x': {'V3': {'b': {'V7': {'b': 'negative',\n",
              "        'o': 'negative',\n",
              "        'x': {'V4': {'b': {'V6': {'b': 'negative',\n",
              "            'o': 'positive',\n",
              "            'x': 'negative'}},\n",
              "          'o': {'V6': {'b': 'positive', 'o': 'negative', 'x': 'negative'}},\n",
              "          'x': 'positive'}}}},\n",
              "      'o': {'V7': {'b': 'negative',\n",
              "        'o': 'negative',\n",
              "        'x': {'V4': {'b': {'V2': {'b': 'positive',\n",
              "            'o': {'V6': {'b': 'positive', 'x': 'negative'}},\n",
              "            'x': 'negative'}},\n",
              "          'o': 'negative',\n",
              "          'x': 'positive'}}}},\n",
              "      'x': {'V2': {'b': {'V8': {'b': {'V9': {'b': 'negative',\n",
              "            'o': 'positive',\n",
              "            'x': 'positive'}},\n",
              "          'o': {'V4': {'o': {'V6': {'o': 'negative', 'x': 'positive'}},\n",
              "            'x': 'positive'}},\n",
              "          'x': 'negative'}},\n",
              "        'o': {'V8': {'b': {'V4': {'b': 'positive',\n",
              "            'o': {'V6': {'o': 'negative', 'x': 'positive'}},\n",
              "            'x': 'positive'}},\n",
              "          'o': 'negative',\n",
              "          'x': 'negative'}},\n",
              "        'x': 'positive'}}}}}},\n",
              "  'x': {'V1': {'b': {'V9': {'b': 'positive',\n",
              "      'o': {'V7': {'b': 'positive',\n",
              "        'o': {'V8': {'b': 'positive', 'o': 'negative', 'x': 'positive'}},\n",
              "        'x': {'V3': {'b': 'positive',\n",
              "          'o': {'V6': {'o': 'negative', 'x': 'positive'}},\n",
              "          'x': 'positive'}}}},\n",
              "      'x': 'positive'}},\n",
              "    'o': {'V7': {'b': {'V2': {'b': 'positive',\n",
              "        'o': {'V3': {'b': 'positive', 'o': 'negative', 'x': 'positive'}},\n",
              "        'x': 'positive'}},\n",
              "      'o': {'V4': {'b': {'V6': {'b': 'positive',\n",
              "          'o': 'positive',\n",
              "          'x': {'V2': {'b': 'positive',\n",
              "            'o': {'V3': {'o': 'negative', 'x': 'positive'}},\n",
              "            'x': 'negative'}}}},\n",
              "        'o': 'negative',\n",
              "        'x': {'V6': {'b': {'V3': {'b': 'positive',\n",
              "            'o': {'V2': {'o': 'negative', 'x': 'positive'}},\n",
              "            'x': 'negative'}},\n",
              "          'o': {'V3': {'b': 'positive',\n",
              "            'o': 'positive',\n",
              "            'x': {'V9': {'o': 'positive', 'x': 'negative'}}}},\n",
              "          'x': 'positive'}}}},\n",
              "      'x': {'V3': {'b': 'positive',\n",
              "        'o': {'V2': {'b': {'V6': {'b': 'positive',\n",
              "            'o': {'V4': {'b': 'positive', 'x': 'negative'}},\n",
              "            'x': 'positive'}},\n",
              "          'o': 'negative',\n",
              "          'x': {'V8': {'b': 'negative',\n",
              "            'o': {'V9': {'o': 'positive', 'x': 'negative'}},\n",
              "            'x': 'positive'}}}},\n",
              "        'x': 'positive'}}}},\n",
              "    'x': {'V9': {'b': 'positive',\n",
              "      'o': {'V7': {'b': {'V4': {'b': 'negative',\n",
              "          'o': 'positive',\n",
              "          'x': {'V6': {'o': 'negative', 'x': 'positive'}}}},\n",
              "        'o': {'V8': {'b': 'positive',\n",
              "          'o': 'negative',\n",
              "          'x': {'V2': {'b': 'negative', 'o': 'negative', 'x': 'positive'}}}},\n",
              "        'x': {'V3': {'b': 'positive',\n",
              "          'o': {'V4': {'b': 'negative', 'o': 'negative', 'x': 'positive'}},\n",
              "          'x': 'positive'}}}},\n",
              "      'x': 'positive'}}}}}}"
            ]
          },
          "metadata": {},
          "execution_count": 17
        }
      ]
    },
    {
      "cell_type": "markdown",
      "source": [
        "### Función para evaluar id3"
      ],
      "metadata": {
        "id": "WWUWp-_0sA31"
      }
    },
    {
      "cell_type": "code",
      "source": [
        "def clasificar_gato(x_clasificar):\n",
        "  V1 = x_clasificar['V1']\n",
        "  V2 = x_clasificar['V2']\n",
        "  V3 = x_clasificar['V3']\n",
        "  V4 = x_clasificar['V4']\n",
        "  V5 = x_clasificar['V5']\n",
        "  V6 = x_clasificar['V6']\n",
        "  V7 = x_clasificar['V7']\n",
        "  V8 = x_clasificar['V8']\n",
        "  V9 = x_clasificar['V9']\n",
        "  resultado = 'No se econtro'\n",
        "\n",
        "  if V5 == 'b':\n",
        "      if V3 == 'b':\n",
        "          if V7 == 'o': resultado = 'negative'\n",
        "          elif V7 == 'x': resultado = 'positive'\n",
        "\n",
        "      elif V3 == 'o':\n",
        "          if V7 == 'b': resultado = 'negative'\n",
        "          elif V7 == 'o': resultado = 'negative'\n",
        "          elif V7 == 'x':\n",
        "              if V1 == 'b':\n",
        "                  if V9 == 'o': resultado = 'negative'\n",
        "                  elif V9 == 'x': resultado = 'positive'\n",
        "\n",
        "              elif V1 == 'o':\n",
        "                  if V2 == 'b': resultado = 'positive'\n",
        "                  elif V2 == 'o': resultado = 'negative'\n",
        "                  elif V2 == 'x':\n",
        "                      if V4 == 'b': resultado = 'positive'\n",
        "                      elif V4 == 'x': resultado = 'negative'\n",
        "\n",
        "              elif V1 == 'x':\n",
        "                  if V4 == 'b':\n",
        "                      if V2 == 'b': resultado = 'negative'\n",
        "                      elif V2 == 'o': resultado = 'positive'\n",
        "\n",
        "                  elif V4 == 'o':\n",
        "                      if V2 == 'b': resultado = 'positive'\n",
        "                      elif V2 == 'o': resultado = 'positive'\n",
        "                      elif V2 == 'x': resultado = 'negative'\n",
        "                  \n",
        "                  elif V4 == 'x': resultado = 'positive'\n",
        "\n",
        "      elif V3 == 'x':\n",
        "          if V7 == 'b': resultado = 'positive'\n",
        "          elif V7 == 'o':\n",
        "              if V9 == 'b':\n",
        "                  if V1 == 'o': resultado = 'negative'\n",
        "                  elif V1 == 'x': resultado = 'positive'\n",
        "\n",
        "              elif V9 == 'o':\n",
        "                  if V8 == 'b': resultado = 'positive'\n",
        "                  elif V8 == 'o': resultado = 'negative'\n",
        "                  elif V8 == 'x':\n",
        "                      if V1 == 'o': resultado = 'negative'\n",
        "                      elif V1 == 'x': resultado = 'positive'\n",
        "\n",
        "              elif V9 == 'x':\n",
        "                  if V6 == 'b':\n",
        "                      if V1 == 'o': resultado = 'negative'\n",
        "                      elif V1 == 'x': resultado = 'positive'\n",
        "\n",
        "                  elif V6 == 'o':\n",
        "                      if V1 == 'o': resultado = 'negative'\n",
        "                      elif V1 == 'x': resultado = 'positive'\n",
        "\n",
        "                  elif V6 == 'x': resultado = 'positive'\n",
        "\n",
        "          elif V7 == 'x': resultado = 'positive'\n",
        "\n",
        "  elif V5 == 'o':\n",
        "      if V9 == 'b':\n",
        "          if V1 == 'b': resultado = 'negative'\n",
        "          elif V1 == 'o': resultado = 'negative'\n",
        "          elif V1 == 'x':\n",
        "              if V6 == 'b':\n",
        "                  if V2 == 'b': resultado = 'positive'\n",
        "                  elif V2 == 'o':\n",
        "                      if V3 == 'b': resultado = 'positive'\n",
        "                      elif V3 == 'o': resultado = 'positive'\n",
        "                      elif V3 == 'x': resultado = 'negative'\n",
        "\n",
        "                  elif V2 == 'x':\n",
        "                      if V3 == 'o':\n",
        "                          if V7 == 'o': resultado = 'negative'\n",
        "                          elif V7 == 'x': resultado = 'positive'\n",
        "                   \n",
        "                      elif V3 == 'x': resultado = 'positive'\n",
        "\n",
        "              elif V6 == 'o':\n",
        "                  if V4 == 'b': resultado = 'positive'\n",
        "                  elif V4 == 'o': resultado = 'negative'\n",
        "                  elif V4 == 'x':\n",
        "                      if V3 == 'b': resultado = 'positive'\n",
        "                      elif V3 == 'o':\n",
        "                          if V2 == 'b': resultado = 'positive'\n",
        "                          elif V2 == 'x': resultado = 'negative'\n",
        "                          \n",
        "                      elif V3 == 'x': resultado = 'positive'\n",
        "\n",
        "              elif V6 == 'x':\n",
        "                  if V8 == 'b':\n",
        "                      if V2 == 'b': resultado = 'negative'\n",
        "                      elif V2 == 'o': resultado = 'positive'\n",
        "\n",
        "                  elif V8 == 'o':\n",
        "                      if V2 == 'o': resultado = 'negative'\n",
        "                      elif V2 == 'x':\n",
        "                          if V3 == 'o': resultado = 'negative'\n",
        "                          elif V3 == 'x': resultado = 'positive'\n",
        "\n",
        "                  elif V8 == 'x': resultado = 'negative'\n",
        "\n",
        "      elif V9 == 'o':\n",
        "          if V1 == 'b': resultado = 'negative'\n",
        "          elif V1 == 'o': resultado = 'negative'\n",
        "          elif V1 == 'x':\n",
        "              if V6 == 'b':\n",
        "                  if V3 == 'b': resultado = 'positive'\n",
        "                  elif V3 == 'o':\n",
        "                      if V7 == 'o': resultado = 'negative'\n",
        "                      elif V7 == 'x': resultado = 'positive'\n",
        "                      \n",
        "                  elif V3 == 'x': resultado = 'positive'\n",
        "\n",
        "              elif V6 == 'o':\n",
        "                  if V3 == 'b': resultado = 'positive'\n",
        "                  elif V3 == 'o': resultado = 'negative'\n",
        "                  elif V3 == 'x': resultado = 'positive'\n",
        "\n",
        "              elif V6 == 'x':\n",
        "                  if V7 == 'b':\n",
        "                      if V2 == 'o': resultado = 'negative'\n",
        "                      elif V2 == 'x': resultado = 'positive'\n",
        "\n",
        "                  elif V7 == 'o': resultado = 'negative'\n",
        "                  elif V7 == 'x':\n",
        "                      if V4 == 'b': resultado = 'negative'\n",
        "\n",
        "                      elif V4 == 'o':\n",
        "                          if V3 == 'o': resultado = 'negative'\n",
        "                          elif V3 == 'x': resultado = 'positive'\n",
        "\n",
        "                      elif V4 == 'x': resultado = 'positive'\n",
        "                          \n",
        "      elif V9 == 'x':\n",
        "          if V3 == 'b':\n",
        "              if V7 == 'b': resultado = 'negative'\n",
        "              elif V7 == 'o': resultado = 'negative'\n",
        "              elif V7 == 'x':\n",
        "                  if V8 == 'b':\n",
        "                      if V1 == 'b': resultado = 'negative'\n",
        "                      elif V1 == 'x': resultado = 'positive'\n",
        "\n",
        "                  elif V8 == 'o':\n",
        "                      if V2 == 'b': resultado = 'positive'\n",
        "                      elif V2 == 'o': resultado = 'negative'\n",
        "                      elif V2 == 'x': resultado = 'negative'\n",
        "\n",
        "                  elif V8 == 'x': resultado = 'positive'\n",
        "\n",
        "          elif V3 == 'o':\n",
        "              if V7 == 'b': resultado = 'negative'\n",
        "              elif V7 == 'o': resultado = 'negative'\n",
        "              elif V7 == 'x':\n",
        "                  if V8 == 'b':\n",
        "                      if V2 == 'b': resultado = 'positive'\n",
        "                      elif V2 == 'o': resultado = 'negative'\n",
        "                      elif V2 == 'x': resultado = 'negative'\n",
        "\n",
        "                  elif V8 == 'o':\n",
        "                      if V2 == 'b': resultado = 'positive'\n",
        "                      elif V2 == 'o': resultado = 'negative'\n",
        "                      elif V2 == 'x': resultado = 'negative'\n",
        "\n",
        "                  elif V8 == 'x': resultado = 'positive'\n",
        "\n",
        "          elif V3 == 'x':\n",
        "              if V6 == 'b':\n",
        "                  if V2 == 'b': resultado = 'positive'\n",
        "                  elif V2 == 'o':\n",
        "                      if V8 == 'o': resultado = 'negative'\n",
        "                      elif V8 == 'x': resultado = 'positive'\n",
        "                      \n",
        "                  elif V2 == 'x': resultado = 'positive'\n",
        "\n",
        "              elif V6 == 'o':\n",
        "                  if V4 == 'b':\n",
        "                      if V2 == 'b': resultado = 'positive'\n",
        "                      elif V2 == 'o':\n",
        "                          if V1 == 'b': resultado = 'positive'\n",
        "                          elif V1 == 'x': resultado = 'negative'\n",
        "\n",
        "                      elif V2 == 'x': resultado = 'positive'\n",
        "\n",
        "                  elif V4 == 'o': resultado = 'negative'\n",
        "                  elif V4 == 'x':\n",
        "                      if V1 == 'b': resultado = 'negative'\n",
        "                      elif V1 == 'o':\n",
        "                          if V2 == 'o': resultado = 'positive'\n",
        "                          elif V2 == 'x': resultado = 'negative'\n",
        "\n",
        "                      elif V1 == 'x':\n",
        "                          if V2 == 'o': resultado = 'negative'\n",
        "                          elif V2 == 'x': resultado = 'positive'\n",
        "\n",
        "              elif V6 == 'x': resultado = 'positive'\n",
        "          \n",
        "  elif V5 == 'x':\n",
        "      if V1 == 'b':\n",
        "          if V4 == 'b':\n",
        "              if V2 == 'b':\n",
        "                  if V3 == 'o': resultado = 'negative'\n",
        "                  elif V3 == 'x': resultado = 'positive'\n",
        "\n",
        "              elif V2 == 'o': resultado = 'positive'\n",
        "              elif V2 == 'x': resultado = 'positive'\n",
        "\n",
        "          elif V4 == 'o': resultado = 'positive'\n",
        "\n",
        "          elif V4 == 'x':\n",
        "              if V6 == 'b':\n",
        "                  if V2 == 'b': resultado = 'negative'\n",
        "                  elif V2 == 'o': resultado = 'positive'\n",
        "                  elif V2 == 'x':\n",
        "                      if V3 == 'b': resultado = 'negative'\n",
        "                      elif V3 == 'o': resultado = 'positive'\n",
        "\n",
        "              elif V6 == 'o':\n",
        "                  if V3 == 'b': resultado = 'positive'\n",
        "                  elif V3 == 'o': resultado = 'negative'\n",
        "                  elif V3 == 'x':\n",
        "                      if V2 == 'b': resultado = 'positive'\n",
        "                      elif V2 == 'o': resultado = 'positive'\n",
        "                      elif V2 == 'x': resultado = 'negative'\n",
        "\n",
        "              elif V6 == 'x': resultado = 'positive'\n",
        "\n",
        "      elif V1 == 'o':\n",
        "          if V7 == 'b':\n",
        "              if V2 == 'b': resultado = 'positive'\n",
        "              elif V2 == 'o':\n",
        "                  if V3 == 'b': resultado = 'positive'\n",
        "                  elif V3 == 'o': resultado = 'negative'\n",
        "                  elif V3 == 'x': resultado = 'positive'\n",
        "\n",
        "              elif V2 == 'x': resultado = 'positive'\n",
        "              \n",
        "          elif V7 == 'o':\n",
        "              if V4 == 'b': resultado = 'positive'\n",
        "              elif V4 == 'o': resultado = 'negative'\n",
        "              elif V4 == 'x':\n",
        "                  if V6 == 'b':\n",
        "                      if V3 == 'b': resultado = 'positive'\n",
        "                      elif V3 == 'o':\n",
        "                          if V2 == 'o': resultado = 'negative'\n",
        "                          elif V2 == 'x': resultado = 'positive'\n",
        "\n",
        "                      elif V3 == 'x': resultado = 'negative'\n",
        "\n",
        "                  elif V6 == 'o':\n",
        "                      if V8 == 'o': resultado = 'negative'\n",
        "                      elif V8 == 'x': resultado = 'positive'\n",
        "\n",
        "                  elif V6 == 'x': resultado = 'positive'\n",
        "\n",
        "          elif V7 == 'x':\n",
        "              if V3 == 'b': resultado = 'positive'\n",
        "              elif V3 == 'o':\n",
        "                  if V2 == 'b':\n",
        "                      if V9 == 'b': resultado = 'positive'\n",
        "                      elif V9 == 'o': resultado = 'negative'\n",
        "                      elif V9 == 'x': resultado = 'positive'\n",
        "\n",
        "                  elif V2 == 'o': resultado = 'negative'\n",
        "                  elif V2 == 'x':\n",
        "                      if V8 == 'b': resultado = 'negative'\n",
        "                      elif V8 == 'o': resultado = 'negative'\n",
        "                      elif V8 == 'x': resultado = 'positive'\n",
        "\n",
        "              elif V3 == 'x': resultado = 'positive'\n",
        "\n",
        "      elif V1 == 'x':\n",
        "          if V9 == 'b': resultado = 'positive'\n",
        "\n",
        "          elif V9 == 'o':\n",
        "              if V7 == 'b':\n",
        "                  if V3 == 'b': resultado = 'positive'\n",
        "                  elif V3 == 'o':\n",
        "                      if V6 == 'b': resultado = 'positive'\n",
        "                      elif V6 == 'o': resultado = 'negative'\n",
        "                      elif V6 == 'x': resultado = 'positive'\n",
        "\n",
        "                  elif V3 == 'x': resultado = 'positive'\n",
        "              \n",
        "              elif V7 == 'o':\n",
        "                  if V8 == 'b':\n",
        "                      if V6 == 'b': resultado = 'positive'\n",
        "                      elif V6 == 'o': resultado = 'negative'\n",
        "                      elif V6 == 'x': resultado = 'positive'\n",
        "                      \n",
        "                  elif V8 == 'o': resultado = 'negative'\n",
        "                  elif V8 == 'x':\n",
        "                      if V2 == 'b': resultado = 'negative'\n",
        "                      elif V2 == 'o':\n",
        "                          if V3 == 'o': resultado = 'positive'\n",
        "                          elif V3 == 'x': resultado = 'negative'\n",
        "                          \n",
        "                      elif V2 == 'x': resultado = 'positive'\n",
        "    \n",
        "              elif V7 == 'x':\n",
        "                  if V3 == 'b': resultado = 'positive'\n",
        "                  elif V3 == 'o':\n",
        "                      if V4 == 'b': resultado = 'negative'                          \n",
        "                      elif V4 == 'o': resultado = 'negative'\n",
        "                      elif V4 == 'x': resultado = 'positive'\n",
        "\n",
        "                  elif V3 == 'x': resultado = 'positive'\n",
        "\n",
        "          elif V9 == 'x': resultado = 'positive'\n",
        "          \n",
        "  return resultado\n"
      ],
      "metadata": {
        "id": "E28zBKLCRlob"
      },
      "execution_count": null,
      "outputs": []
    },
    {
      "cell_type": "code",
      "source": [
        "def clasificar_id3(x_):\n",
        "  indices_ = x_.index\n",
        "  clasificaciones_ = []\n",
        "  for i in indices_:\n",
        "    clasifica_ = x_.loc[i]\n",
        "    resultado_i = clasificar_gato(clasifica_)\n",
        "    clasificaciones_.append(resultado_i)\n",
        "  return clasificaciones_"
      ],
      "metadata": {
        "id": "5THwW3uGWrua"
      },
      "execution_count": null,
      "outputs": []
    },
    {
      "cell_type": "markdown",
      "source": [
        "## Clasificar y evaluar árbol"
      ],
      "metadata": {
        "id": "Wl8y1ak3spfs"
      }
    },
    {
      "cell_type": "markdown",
      "source": [
        "Evaluar entrenamiento"
      ],
      "metadata": {
        "id": "NzJOJehD4SRO"
      }
    },
    {
      "cell_type": "code",
      "source": [
        "y_clasificada_ent = clasificar_id3(x_train)"
      ],
      "metadata": {
        "id": "H0MW_e8f4mcb"
      },
      "execution_count": null,
      "outputs": []
    },
    {
      "cell_type": "code",
      "source": [
        "exactitud_id3_ent = exactitud(y_clasificada_ent, y_train)\n",
        "precision_id3_ent = precision(y_clasificada_ent, y_train)\n",
        "sensitividad_id3_ent = sensitividad(y_clasificada_ent, y_train)\n",
        "especificidad_id3_ent = especificidad(y_clasificada_ent, y_train)\n",
        "puntaje_F1_id3_ent = puntaje_F1(y_clasificada_ent, y_train)"
      ],
      "metadata": {
        "id": "7ziTRNO04Y9S"
      },
      "execution_count": null,
      "outputs": []
    },
    {
      "cell_type": "code",
      "source": [
        "print(f'''Exactitud: {exactitud_id3_ent}\n",
        "Precisión: {precision_id3_ent}\n",
        "Sensitividad: {sensitividad_id3_ent}\n",
        "Especificidad: {especificidad_id3_ent}\n",
        "Puntaje F1: {puntaje_F1_id3_ent}''')"
      ],
      "metadata": {
        "colab": {
          "base_uri": "https://localhost:8080/"
        },
        "outputId": "c381e85a-1fc7-4e3f-a054-874db6588b3a",
        "id": "Yks6Hyof4Y9S"
      },
      "execution_count": null,
      "outputs": [
        {
          "output_type": "stream",
          "name": "stdout",
          "text": [
            "Exactitud: 1.0\n",
            "Precisión: 1.0\n",
            "Sensitividad: 1.0\n",
            "Especificidad: 1.0\n",
            "Puntaje F1: 1.0\n"
          ]
        }
      ]
    },
    {
      "cell_type": "markdown",
      "source": [
        "Evaluar prueba"
      ],
      "metadata": {
        "id": "JQRnTjwktA5_"
      }
    },
    {
      "cell_type": "code",
      "source": [
        "y_clasificada = clasificar_id3(x_test)"
      ],
      "metadata": {
        "id": "f2qtt3HlZv_H"
      },
      "execution_count": null,
      "outputs": []
    },
    {
      "cell_type": "code",
      "source": [
        "exactitud_id3 = exactitud(y_clasificada, y_test)\n",
        "precision_id3 = precision(y_clasificada, y_test)\n",
        "sensitividad_id3 = sensitividad(y_clasificada, y_test)\n",
        "especificidad_id3 = especificidad(y_clasificada, y_test)\n",
        "puntaje_F1_id3 = puntaje_F1(y_clasificada, y_test)"
      ],
      "metadata": {
        "id": "zanidqKaZ31i"
      },
      "execution_count": null,
      "outputs": []
    },
    {
      "cell_type": "code",
      "source": [
        "print(f'''Exactitud: {exactitud_id3}\n",
        "Precisión: {precision_id3}\n",
        "Sensitividad: {sensitividad_id3}\n",
        "Especificidad: {especificidad_id3}\n",
        "Puntaje F1: {puntaje_F1_id3}''')"
      ],
      "metadata": {
        "colab": {
          "base_uri": "https://localhost:8080/"
        },
        "id": "uMLfCdtSjdTe",
        "outputId": "59fea7fa-6d6a-45e0-ae7c-3b44f44cf170"
      },
      "execution_count": null,
      "outputs": [
        {
          "output_type": "stream",
          "name": "stdout",
          "text": [
            "Exactitud: 0.9685863874345549\n",
            "Precisión: 0.957983193277311\n",
            "Sensitividad: 0.991304347826087\n",
            "Especificidad: 0.9342105263157895\n",
            "Puntaje F1: 0.9743589743589743\n"
          ]
        }
      ]
    },
    {
      "cell_type": "code",
      "source": [
        ""
      ],
      "metadata": {
        "id": "xM7xVvwZU7Ur"
      },
      "execution_count": null,
      "outputs": []
    }
  ]
}