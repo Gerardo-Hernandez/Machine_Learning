{
  "cells": [
    {
      "cell_type": "markdown",
      "metadata": {
        "id": "_BI0H4fJC9Lj"
      },
      "source": [
        "## Librerias"
      ]
    },
    {
      "cell_type": "markdown",
      "source": [
        "Se importan las librerías necesarias."
      ],
      "metadata": {
        "id": "mAokY4zJ7OcF"
      }
    },
    {
      "cell_type": "code",
      "execution_count": 3,
      "metadata": {
        "id": "hDBB0RmuCvJA"
      },
      "outputs": [],
      "source": [
        "import numpy as np\n",
        "import pandas as pd\n",
        "import math\n",
        "import matplotlib.pyplot as plt\n",
        "import seaborn as sns\n",
        "from collections import Counter\n",
        "from tqdm import tqdm\n",
        "from sklearn.utils import shuffle\n",
        "from tensorflow.keras.utils import to_categorical\n",
        "from numpy.core.numeric import zeros_like\n",
        "import operator"
      ]
    },
    {
      "cell_type": "markdown",
      "metadata": {
        "id": "S1sME26PDW-D"
      },
      "source": [
        "## Funciones"
      ]
    },
    {
      "cell_type": "markdown",
      "source": [
        "Como en este script se pretende hacer uso de diferentes algoritmos y encontrar el que mejor se adecue a la base de datos. En este sentido las funciones son agrupadas por tipo de algoritmo."
      ],
      "metadata": {
        "id": "v0fBfrwL70ud"
      }
    },
    {
      "cell_type": "markdown",
      "metadata": {
        "id": "mGqby0vqXnOD"
      },
      "source": [
        "### PCA"
      ]
    },
    {
      "cell_type": "code",
      "execution_count": 4,
      "metadata": {
        "id": "w55pXmgCDbpW"
      },
      "outputs": [],
      "source": [
        "def covarianza(x_, y_):\n",
        "  x_media_ = x_.mean()\n",
        "  y_media_ = y_.mean()\n",
        "  n = len(x_)\n",
        "  covar = (((x_ - x_media_) * (y_ - y_media_)).sum()) / (n - 1)\n",
        "  return covar"
      ]
    },
    {
      "cell_type": "code",
      "execution_count": 5,
      "metadata": {
        "id": "aE8pOAYVDgjE"
      },
      "outputs": [],
      "source": [
        "def matriz_covarianza(datos_):\n",
        "  atributos_ = datos_.columns\n",
        "  n_ = len(atributos_)\n",
        "  matriz_ = np.zeros((n_, n_))\n",
        "  for i, atr_i in enumerate(atributos_):\n",
        "    for j, atr_j in enumerate(atributos_):\n",
        "      xmc_ = datos_[atr_i]\n",
        "      ymc_ = datos_[atr_j]\n",
        "      matriz_[i, j] = covarianza(xmc_, ymc_)\n",
        "  return matriz_"
      ]
    },
    {
      "cell_type": "markdown",
      "metadata": {
        "id": "WLwpUCliXxKH"
      },
      "source": [
        "### KNN"
      ]
    },
    {
      "cell_type": "code",
      "execution_count": 6,
      "metadata": {
        "id": "EnI8D47-KkNM"
      },
      "outputs": [],
      "source": [
        "def distancia_euclidiana(puntos_, c_):\n",
        "  n_ = len(puntos_)\n",
        "  de_ = np.zeros(n_)\n",
        "  for p in range(n_):\n",
        "    suma_cuadrados_ = sum((puntos_[p] - c_) ** 2)\n",
        "    de_[p] = np.sqrt(suma_cuadrados_)\n",
        "  de_ = pd.DataFrame(de_)\n",
        "  return de_"
      ]
    },
    {
      "cell_type": "code",
      "execution_count": 7,
      "metadata": {
        "id": "8GNHkxY1Kobb"
      },
      "outputs": [],
      "source": [
        "# Entrenar\n",
        "def entrenamiento_KNN(x_ent_, y_ent_, k_max_):\n",
        "  numero_clases_ = len(np.unique(y_ent_))\n",
        "  n_ = len(x_ent_)\n",
        "  exactitudes_ = np.zeros(k_max_ - numero_clases_)\n",
        "  for i in tqdm(range(numero_clases_ + 1, k_max_ + 1)):\n",
        "    y_clas_train_ = np.zeros(n_)\n",
        "    for j in range(n_):\n",
        "      distancias_p_ = distancia_euclidiana(x_ent_, x_ent_[j])\n",
        "      y_clas_train_[j] = pertenencia(distancias_p_, y_ent_, i)\n",
        "    exactitudes_[i - k_max_ - 1] = exactitud(y_clas_train_, y_ent_)\n",
        "  #print(exactitudes_)\n",
        "  max_exactitud_ = max(exactitudes_)\n",
        "  #print(max_exactitud_)\n",
        "  indices_ = np.where(exactitudes_ == max_exactitud_)\n",
        "  #print(indices_)\n",
        "  if len(indices_[0]) > 1: indices_ = indices_[0]\n",
        "  indices_ = int(indices_[0])\n",
        "  mejores_vecinos_ = indices_ + numero_clases_ + 1\n",
        "  return exactitudes_, max_exactitud_, mejores_vecinos_"
      ]
    },
    {
      "cell_type": "code",
      "execution_count": 8,
      "metadata": {
        "id": "SeWIWuT5Kmjb"
      },
      "outputs": [],
      "source": [
        "def pertenencia(distancias_, Y_, k_):\n",
        "  distancias_min_max_ = distancias_.sort_values(0)\n",
        "  vecinos_cercanos_ = distancias_min_max_.index.values[1:k_ + 1]\n",
        "  Y_vecinos_ = Y_[vecinos_cercanos_].tolist()\n",
        "  y_clasificacion_ = np.bincount(Y_vecinos_).argmax()\n",
        "  return y_clasificacion_"
      ]
    },
    {
      "cell_type": "code",
      "execution_count": 9,
      "metadata": {
        "id": "8kIlhvTuAXFo"
      },
      "outputs": [],
      "source": [
        "def clasificar_KNN(x_test_, x_train_, y_train_, k_):\n",
        "  n_ = len(x_test_)\n",
        "  y_clas_ = np.zeros(n_)\n",
        "  for i in tqdm(range(n_)):\n",
        "    distancias_p_ = distancia_euclidiana(x_train_, x_test_[i])\n",
        "    y_clas_[i] = pertenencia(distancias_p_, y_train_, k_)\n",
        "  return y_clas_"
      ]
    },
    {
      "cell_type": "markdown",
      "metadata": {
        "id": "tLouWeB3sCV6"
      },
      "source": [
        "### ID3"
      ]
    },
    {
      "cell_type": "code",
      "execution_count": 10,
      "metadata": {
        "id": "aC25udevsKT5"
      },
      "outputs": [],
      "source": [
        "def contar_clases(atributo_decision_, clases_):\n",
        "    cont_clases_ = np.zeros((len(clases_)))\n",
        "    for n, c in enumerate(clases_):\n",
        "        cont_clases_[n] = int(np.sum(atributo_decision_ == c))\n",
        "    return cont_clases_"
      ]
    },
    {
      "cell_type": "code",
      "source": [
        "def calcular_entropia(cont_clases_):\n",
        "    entropia_decision_ = 0\n",
        "    total = int(sum(cont_clases_))\n",
        "    for d in cont_clases_:\n",
        "        if d == 0: entropia_decision_ += 0\n",
        "        else: entropia_decision_ -= (d/total)*np.log2(d/total)\n",
        "    return entropia_decision_"
      ],
      "metadata": {
        "id": "a6DEph4l4Dui"
      },
      "execution_count": 11,
      "outputs": []
    },
    {
      "cell_type": "code",
      "source": [
        "def ganancia_atributo(x_, y_, cont_clases_, entropia_, clases_):\n",
        "    Total_ = int(sum(cont_clases_))\n",
        "    ganancias_ = {}\n",
        "    for a in x_.columns:\n",
        "        ganancias_[a] = 0\n",
        "        observaciones = x_[a].unique()\n",
        "        for o in observaciones:\n",
        "            y_a_o_ = y_.loc[x_[a] == o]\n",
        "            cont_clases_y_a_o_ = contar_clases(y_a_o_, clases_)\n",
        "            entropia_a_o_ = calcular_entropia(cont_clases_y_a_o_)\n",
        "            total_ = int(sum(cont_clases_y_a_o_))\n",
        "            ganancias_[a] += (total_/Total_) * entropia_a_o_\n",
        "        ganancias_[a] = entropia_ - ganancias_[a]\n",
        "    return ganancias_"
      ],
      "metadata": {
        "id": "vZBbyqmj4Drh"
      },
      "execution_count": 12,
      "outputs": []
    },
    {
      "cell_type": "code",
      "source": [
        "def nodo_raiz(ganancias_):\n",
        "    raiz_ = max(ganancias_.items(), key=operator.itemgetter(1))[0]\n",
        "    entropia_r_ = ganancias_[raiz_]\n",
        "    return raiz_, entropia_r_"
      ],
      "metadata": {
        "id": "qkbHoKSj84fA"
      },
      "execution_count": 13,
      "outputs": []
    },
    {
      "cell_type": "code",
      "source": [
        "def nodos_intermedios(x_, y_, atributo_, obs_):\n",
        "    subx_ = []\n",
        "    suby_ = []\n",
        "    for o in obs_:\n",
        "        pos_coinciden_ = x_[atributo_] == o\n",
        "        subx_.append(x_.loc[pos_coinciden_])\n",
        "        suby_.append(y_.loc[pos_coinciden_])\n",
        "    return subx_, suby_"
      ],
      "metadata": {
        "id": "Y7kigxv_84cR"
      },
      "execution_count": 14,
      "outputs": []
    },
    {
      "cell_type": "code",
      "source": [
        "def fin_rama(y_fr_, obs_):\n",
        "    hoja_ = 0\n",
        "    clase_fr_ = 0\n",
        "    n = len(y_fr_)\n",
        "    for o in obs_:\n",
        "        coincidencias_ = int(np.sum(y_fr_ == o))\n",
        "        if coincidencias_ == n:\n",
        "            hoja_ = 1\n",
        "            clase_fr_ = o\n",
        "    return hoja_, clase_fr_"
      ],
      "metadata": {
        "id": "j5hqRfeQ84Zc"
      },
      "execution_count": 15,
      "outputs": []
    },
    {
      "cell_type": "code",
      "source": [
        "def arbol_id3(x_, y_, clases_, arbol_):\n",
        "    conteo_clases = contar_clases(y_, clases_)\n",
        "    entropia_decision_ = calcular_entropia(conteo_clases)\n",
        "    ganancias_ = ganancia_atributo(x_, y_, conteo_clases, \n",
        "                                   entropia_decision_, clases_)\n",
        "    nodo_raiz_, entropia_raiz_ = nodo_raiz(ganancias_)\n",
        "    arbol_[nodo_raiz_] = {}\n",
        "    ramas_ = x_[nodo_raiz_].unique()\n",
        "    sub_x_, sub_y_ = nodos_intermedios(x_, y_, nodo_raiz_, ramas_)\n",
        "    for r, sx, sy in zip(ramas_, sub_x_, sub_y_):\n",
        "        arbol_[nodo_raiz_][r] = {}\n",
        "        hoja_, clase_f_ = fin_rama(sy, clases_)\n",
        "        if hoja_ == 1:\n",
        "            arbol_[nodo_raiz_][r] = clase_f_\n",
        "        else:\n",
        "            arbol_id3(sx, sy, clases_, arbol_[nodo_raiz_][r])\n",
        "    return arbol_"
      ],
      "metadata": {
        "id": "2pE5h1BO84Wr"
      },
      "execution_count": 16,
      "outputs": []
    },
    {
      "cell_type": "code",
      "source": [
        "def clasificar_id3(x_):\n",
        "  indices_ = x_.index\n",
        "  clasificaciones_ = []\n",
        "  for i in indices_:\n",
        "    clasifica_ = x_.loc[i]\n",
        "    resultado_i = clasificar_arbol(clasifica_)\n",
        "    clasificaciones_.append(resultado_i)\n",
        "  return clasificaciones_"
      ],
      "metadata": {
        "id": "XR2g5YMe4jS4"
      },
      "execution_count": 17,
      "outputs": []
    },
    {
      "cell_type": "markdown",
      "metadata": {
        "id": "3dNcfVv5EbHQ"
      },
      "source": [
        "### MLP"
      ]
    },
    {
      "cell_type": "code",
      "execution_count": 18,
      "metadata": {
        "id": "wInYKQeiEkf7"
      },
      "outputs": [],
      "source": [
        "class capa_neuronal():\n",
        "  def __init__(self, num_entradas, num_neuronas, funcion_activacion):\n",
        "    self.funcion_activacion = funcion_activacion\n",
        "    self.bias = np.random.rand(1, num_neuronas) * 2 - 1\n",
        "    self.w = np.random.rand(num_entradas, num_neuronas) * 2 - 1"
      ]
    },
    {
      "cell_type": "code",
      "execution_count": 19,
      "metadata": {
        "id": "9eoJURuEEkYg"
      },
      "outputs": [],
      "source": [
        "def compilar_red(neuronas_por_capa, funcion_activacion):\n",
        "  red_neuronal = []\n",
        "  for n, capa in enumerate(neuronas_por_capa[:-1]):\n",
        "    red_neuronal.append(capa_neuronal(neuronas_por_capa[n], neuronas_por_capa[n + 1], funcion_activacion))\n",
        "  return red_neuronal"
      ]
    },
    {
      "cell_type": "code",
      "execution_count": 20,
      "metadata": {
        "id": "MKEg1CsVEkNs"
      },
      "outputs": [],
      "source": [
        "def entrenar_red(x, y, red_neuronal, sigmoide_derivada, l2_derivada):\n",
        "\n",
        "  salidas = [(None, x)]\n",
        "  for n, capa in enumerate(red_neuronal):\n",
        "    I = np.dot(salidas[-1][1], red_neuronal[n].w) + red_neuronal[n].bias\n",
        "    _y = red_neuronal[n].funcion_activacion(I)\n",
        "    salidas.append((I, _y))\n",
        "\n",
        "  deltas = []\n",
        "  for n in reversed(range(0, len(red_neuronal))):\n",
        "    I = salidas[n + 1][0]\n",
        "    _y = salidas[n + 1][1]\n",
        "    if n == len(red_neuronal) - 1:\n",
        "      deltas.insert(0, l2_derivada(_y, y) * sigmoide_derivada(_y))\n",
        "    else:\n",
        "      deltas.insert(0, np.dot(deltas[0], _w.T) * sigmoide_derivada(_y))\n",
        "      \n",
        "    _w = red_neuronal[n].w\n",
        "\n",
        "    red_neuronal[n].bias = red_neuronal[n].bias - (np.mean(deltas[0],\n",
        "                                                        axis = 0,\n",
        "                                                        keepdims = True) * \n",
        "                                             learning_rate)\n",
        "    red_neuronal[n].w = red_neuronal[n].w - (np.dot(salidas[n][1].T, deltas[0]) *\n",
        "                                             learning_rate) \n",
        "    \n",
        "    return salidas[-1][1]"
      ]
    },
    {
      "cell_type": "code",
      "execution_count": 21,
      "metadata": {
        "id": "7CBHhfqBEkEY"
      },
      "outputs": [],
      "source": [
        "def predecir(x, red_neuronal):\n",
        "  salidas = [(None, x)]\n",
        "  for n, capa in enumerate(red_neuronal):\n",
        "    I = np.dot(salidas[-1][1], red_neuronal[n].w) + red_neuronal[n].bias\n",
        "    _y = red_neuronal[n].funcion_activacion(I)\n",
        "    salidas.append((I, _y))\n",
        "  return salidas[-1][1]"
      ]
    },
    {
      "cell_type": "markdown",
      "metadata": {
        "id": "7HCcLaiXCFwX"
      },
      "source": [
        "### Base de datos"
      ]
    },
    {
      "cell_type": "code",
      "execution_count": 22,
      "metadata": {
        "id": "tDCZxpM-DjTI"
      },
      "outputs": [],
      "source": [
        "def split_80_20(datos_, etiquetas_):\n",
        "  n_ = len(datos_)\n",
        "  indices_ = np.arange(n_)\n",
        "  np.random.shuffle(indices_)\n",
        "  lim = int(n_ * 0.80) + 1\n",
        "  x_train_ = datos_[indices_[0:lim]]\n",
        "  x_test_ = datos_[indices_[lim:]]\n",
        "  y_train_ = etiquetas_[indices_[0:lim]]\n",
        "  y_test_ = etiquetas_[indices_[lim:]]\n",
        "  return x_train_, x_test_, y_train_, y_test_"
      ]
    },
    {
      "cell_type": "code",
      "source": [
        "def split_80_20_df(datos_, etiquetas_):\n",
        "  n_ = len(datos_)\n",
        "  indices_ = np.arange(n_)\n",
        "  np.random.shuffle(indices_)\n",
        "  lim = int(n_ * 0.80) + 1\n",
        "  x_train_ = datos_.loc[indices_[0:lim]]\n",
        "  x_test_ = datos_.loc[indices_[lim:]]\n",
        "  y_train_ = etiquetas_.loc[indices_[0:lim]]\n",
        "  y_test_ = etiquetas_.loc[indices_[lim:]]\n",
        "  return x_train_, x_test_, y_train_, y_test_"
      ],
      "metadata": {
        "id": "sqcTSoOeJUbo"
      },
      "execution_count": 23,
      "outputs": []
    },
    {
      "cell_type": "code",
      "source": [
        "def normalizar(df_):\n",
        "    return (df_ - df_.min()) / ( df_.max() - df_.min())"
      ],
      "metadata": {
        "id": "kFUZqF0w7q2Q"
      },
      "execution_count": 24,
      "outputs": []
    },
    {
      "cell_type": "markdown",
      "metadata": {
        "id": "CWE0D7QpCW1V"
      },
      "source": [
        "### Cifras de mérito"
      ]
    },
    {
      "cell_type": "code",
      "execution_count": 25,
      "metadata": {
        "id": "eHpVT4sEKaMd"
      },
      "outputs": [],
      "source": [
        "def exactitud(y_calculada_, y_real_):\n",
        "  coincidencias = np.equal(y_calculada_, y_real_)\n",
        "  total_coin_ = np.sum(coincidencias)\n",
        "  porcentaje_ = (total_coin_ / len(y_calculada_))\n",
        "  return porcentaje_"
      ]
    },
    {
      "cell_type": "code",
      "execution_count": 26,
      "metadata": {
        "id": "cLUYCCCGKbtN"
      },
      "outputs": [],
      "source": [
        "def precision(y_clas_, y_real_):\n",
        "  TP = 0\n",
        "  FP = 0\n",
        "  for c, r in zip(y_clas_, y_real_):\n",
        "    if (r == c) and r == 1: TP += 1\n",
        "    elif (r != c) and r == 0: FP += 1\n",
        "  pre_ = TP / (TP + FP)\n",
        "  return pre_"
      ]
    },
    {
      "cell_type": "code",
      "source": [
        "def precision_mlp(m_entrenamiento, m_esperada):\n",
        "  m1 = np.round(m_entrenamiento)\n",
        "  m1[:,0] = m1[:,0]*1000\n",
        "  m1[:,1] = m1[:,1]*100\n",
        "  #m1[:,2] = m1[:,2]*10\n",
        "  m1 = np.sum(m1, axis=1)\n",
        "  m2 = zeros_like(m_esperada)\n",
        "  np.copyto(m2, m_esperada)\n",
        "  m2[:,0] = m2[:,0]*1000\n",
        "  m2[:,1] = m2[:,1]*100\n",
        "  #m2[:,2] = m2[:,2]*10\n",
        "  m2 = np.sum(m2, axis=1)\n",
        "  errores = []\n",
        "  for v1, v2 in zip(m1,m2):\n",
        "    if v1 == v2: errores.append(0)\n",
        "    else: errores.append(1)\n",
        "  porcentaje = 100 * sum(errores) / len(errores)\n",
        "  return sum(errores), porcentaje"
      ],
      "metadata": {
        "id": "jpBEQB__5moy"
      },
      "execution_count": 27,
      "outputs": []
    },
    {
      "cell_type": "code",
      "execution_count": 28,
      "metadata": {
        "id": "l5V-PtfPKdYq"
      },
      "outputs": [],
      "source": [
        "def sensitividad(y_clas_, y_real_):\n",
        "  TP_ = 0\n",
        "  FN_ = 0\n",
        "  for c, r in zip(y_clas_, y_real_):\n",
        "    if (r == c) and r == 1: TP_ += 1\n",
        "    elif (r != c) and r == 1: FN_ += 1\n",
        "  sens_ = TP_ / (TP_ + FN_)\n",
        "  return sens_"
      ]
    },
    {
      "cell_type": "code",
      "execution_count": 29,
      "metadata": {
        "id": "1yaO1JpSKfOM"
      },
      "outputs": [],
      "source": [
        "def especificidad(y_clas_, y_real_):\n",
        "  TN_ = 0\n",
        "  FP_ = 0\n",
        "  for c, r in zip(y_clas_, y_real_):\n",
        "    if (r == c) and r == 0: TN_ += 1\n",
        "    elif (r != c) and r == 0: FP_ += 1\n",
        "  esp_ = TN_ / (TN_ + FP_)\n",
        "  return esp_"
      ]
    },
    {
      "cell_type": "code",
      "execution_count": 30,
      "metadata": {
        "id": "0ZgCSBTlKhvh"
      },
      "outputs": [],
      "source": [
        "def puntaje_F1(y_clas_, y_real_):\n",
        "  prec_ = precision(y_clas_, y_real_)\n",
        "  sens_ = sensitividad(y_clas_, y_real_)\n",
        "  pf1_ = 2 * ((prec_ * sens_) / (prec_ + sens_))\n",
        "  return pf1_"
      ]
    },
    {
      "cell_type": "code",
      "execution_count": 31,
      "metadata": {
        "id": "r5MUUx0pKiYU"
      },
      "outputs": [],
      "source": [
        "def MSE(y_real_, y_clas_):\n",
        "  l2 = np.sum((y_clas_ - y_real_)**2) / (2 * len(y_real_))\n",
        "  return l2"
      ]
    },
    {
      "cell_type": "markdown",
      "metadata": {
        "id": "gf5hTLQqK6p2"
      },
      "source": [
        "## Base de datos"
      ]
    },
    {
      "cell_type": "code",
      "execution_count": 32,
      "metadata": {
        "colab": {
          "base_uri": "https://localhost:8080/",
          "height": 314
        },
        "id": "X9RExCx8K_Fj",
        "outputId": "0315c19e-7b8c-4526-8499-be22daacdbca"
      },
      "outputs": [
        {
          "output_type": "stream",
          "name": "stdout",
          "text": [
            "Dimensión: (8124, 23)\n"
          ]
        },
        {
          "output_type": "execute_result",
          "data": {
            "text/plain": [
              "  class cap-shape cap-surface cap-color bruises odor gill-attachment  \\\n",
              "0     p         x           s         n       t    p               f   \n",
              "1     e         x           s         y       t    a               f   \n",
              "2     e         b           s         w       t    l               f   \n",
              "3     p         x           y         w       t    p               f   \n",
              "4     e         x           s         g       f    n               f   \n",
              "\n",
              "  gill-spacing gill-size gill-color  ... stalk-surface-below-ring  \\\n",
              "0            c         n          k  ...                        s   \n",
              "1            c         b          k  ...                        s   \n",
              "2            c         b          n  ...                        s   \n",
              "3            c         n          n  ...                        s   \n",
              "4            w         b          k  ...                        s   \n",
              "\n",
              "  stalk-color-above-ring stalk-color-below-ring veil-type veil-color  \\\n",
              "0                      w                      w         p          w   \n",
              "1                      w                      w         p          w   \n",
              "2                      w                      w         p          w   \n",
              "3                      w                      w         p          w   \n",
              "4                      w                      w         p          w   \n",
              "\n",
              "  ring-number ring-type spore-print-color population habitat  \n",
              "0           o         p                 k          s       u  \n",
              "1           o         p                 n          n       g  \n",
              "2           o         p                 n          n       m  \n",
              "3           o         p                 k          s       u  \n",
              "4           o         e                 n          a       g  \n",
              "\n",
              "[5 rows x 23 columns]"
            ],
            "text/html": [
              "\n",
              "  <div id=\"df-6a058ecb-6b9e-4819-a903-9f35f37db1ec\">\n",
              "    <div class=\"colab-df-container\">\n",
              "      <div>\n",
              "<style scoped>\n",
              "    .dataframe tbody tr th:only-of-type {\n",
              "        vertical-align: middle;\n",
              "    }\n",
              "\n",
              "    .dataframe tbody tr th {\n",
              "        vertical-align: top;\n",
              "    }\n",
              "\n",
              "    .dataframe thead th {\n",
              "        text-align: right;\n",
              "    }\n",
              "</style>\n",
              "<table border=\"1\" class=\"dataframe\">\n",
              "  <thead>\n",
              "    <tr style=\"text-align: right;\">\n",
              "      <th></th>\n",
              "      <th>class</th>\n",
              "      <th>cap-shape</th>\n",
              "      <th>cap-surface</th>\n",
              "      <th>cap-color</th>\n",
              "      <th>bruises</th>\n",
              "      <th>odor</th>\n",
              "      <th>gill-attachment</th>\n",
              "      <th>gill-spacing</th>\n",
              "      <th>gill-size</th>\n",
              "      <th>gill-color</th>\n",
              "      <th>...</th>\n",
              "      <th>stalk-surface-below-ring</th>\n",
              "      <th>stalk-color-above-ring</th>\n",
              "      <th>stalk-color-below-ring</th>\n",
              "      <th>veil-type</th>\n",
              "      <th>veil-color</th>\n",
              "      <th>ring-number</th>\n",
              "      <th>ring-type</th>\n",
              "      <th>spore-print-color</th>\n",
              "      <th>population</th>\n",
              "      <th>habitat</th>\n",
              "    </tr>\n",
              "  </thead>\n",
              "  <tbody>\n",
              "    <tr>\n",
              "      <th>0</th>\n",
              "      <td>p</td>\n",
              "      <td>x</td>\n",
              "      <td>s</td>\n",
              "      <td>n</td>\n",
              "      <td>t</td>\n",
              "      <td>p</td>\n",
              "      <td>f</td>\n",
              "      <td>c</td>\n",
              "      <td>n</td>\n",
              "      <td>k</td>\n",
              "      <td>...</td>\n",
              "      <td>s</td>\n",
              "      <td>w</td>\n",
              "      <td>w</td>\n",
              "      <td>p</td>\n",
              "      <td>w</td>\n",
              "      <td>o</td>\n",
              "      <td>p</td>\n",
              "      <td>k</td>\n",
              "      <td>s</td>\n",
              "      <td>u</td>\n",
              "    </tr>\n",
              "    <tr>\n",
              "      <th>1</th>\n",
              "      <td>e</td>\n",
              "      <td>x</td>\n",
              "      <td>s</td>\n",
              "      <td>y</td>\n",
              "      <td>t</td>\n",
              "      <td>a</td>\n",
              "      <td>f</td>\n",
              "      <td>c</td>\n",
              "      <td>b</td>\n",
              "      <td>k</td>\n",
              "      <td>...</td>\n",
              "      <td>s</td>\n",
              "      <td>w</td>\n",
              "      <td>w</td>\n",
              "      <td>p</td>\n",
              "      <td>w</td>\n",
              "      <td>o</td>\n",
              "      <td>p</td>\n",
              "      <td>n</td>\n",
              "      <td>n</td>\n",
              "      <td>g</td>\n",
              "    </tr>\n",
              "    <tr>\n",
              "      <th>2</th>\n",
              "      <td>e</td>\n",
              "      <td>b</td>\n",
              "      <td>s</td>\n",
              "      <td>w</td>\n",
              "      <td>t</td>\n",
              "      <td>l</td>\n",
              "      <td>f</td>\n",
              "      <td>c</td>\n",
              "      <td>b</td>\n",
              "      <td>n</td>\n",
              "      <td>...</td>\n",
              "      <td>s</td>\n",
              "      <td>w</td>\n",
              "      <td>w</td>\n",
              "      <td>p</td>\n",
              "      <td>w</td>\n",
              "      <td>o</td>\n",
              "      <td>p</td>\n",
              "      <td>n</td>\n",
              "      <td>n</td>\n",
              "      <td>m</td>\n",
              "    </tr>\n",
              "    <tr>\n",
              "      <th>3</th>\n",
              "      <td>p</td>\n",
              "      <td>x</td>\n",
              "      <td>y</td>\n",
              "      <td>w</td>\n",
              "      <td>t</td>\n",
              "      <td>p</td>\n",
              "      <td>f</td>\n",
              "      <td>c</td>\n",
              "      <td>n</td>\n",
              "      <td>n</td>\n",
              "      <td>...</td>\n",
              "      <td>s</td>\n",
              "      <td>w</td>\n",
              "      <td>w</td>\n",
              "      <td>p</td>\n",
              "      <td>w</td>\n",
              "      <td>o</td>\n",
              "      <td>p</td>\n",
              "      <td>k</td>\n",
              "      <td>s</td>\n",
              "      <td>u</td>\n",
              "    </tr>\n",
              "    <tr>\n",
              "      <th>4</th>\n",
              "      <td>e</td>\n",
              "      <td>x</td>\n",
              "      <td>s</td>\n",
              "      <td>g</td>\n",
              "      <td>f</td>\n",
              "      <td>n</td>\n",
              "      <td>f</td>\n",
              "      <td>w</td>\n",
              "      <td>b</td>\n",
              "      <td>k</td>\n",
              "      <td>...</td>\n",
              "      <td>s</td>\n",
              "      <td>w</td>\n",
              "      <td>w</td>\n",
              "      <td>p</td>\n",
              "      <td>w</td>\n",
              "      <td>o</td>\n",
              "      <td>e</td>\n",
              "      <td>n</td>\n",
              "      <td>a</td>\n",
              "      <td>g</td>\n",
              "    </tr>\n",
              "  </tbody>\n",
              "</table>\n",
              "<p>5 rows × 23 columns</p>\n",
              "</div>\n",
              "      <button class=\"colab-df-convert\" onclick=\"convertToInteractive('df-6a058ecb-6b9e-4819-a903-9f35f37db1ec')\"\n",
              "              title=\"Convert this dataframe to an interactive table.\"\n",
              "              style=\"display:none;\">\n",
              "        \n",
              "  <svg xmlns=\"http://www.w3.org/2000/svg\" height=\"24px\"viewBox=\"0 0 24 24\"\n",
              "       width=\"24px\">\n",
              "    <path d=\"M0 0h24v24H0V0z\" fill=\"none\"/>\n",
              "    <path d=\"M18.56 5.44l.94 2.06.94-2.06 2.06-.94-2.06-.94-.94-2.06-.94 2.06-2.06.94zm-11 1L8.5 8.5l.94-2.06 2.06-.94-2.06-.94L8.5 2.5l-.94 2.06-2.06.94zm10 10l.94 2.06.94-2.06 2.06-.94-2.06-.94-.94-2.06-.94 2.06-2.06.94z\"/><path d=\"M17.41 7.96l-1.37-1.37c-.4-.4-.92-.59-1.43-.59-.52 0-1.04.2-1.43.59L10.3 9.45l-7.72 7.72c-.78.78-.78 2.05 0 2.83L4 21.41c.39.39.9.59 1.41.59.51 0 1.02-.2 1.41-.59l7.78-7.78 2.81-2.81c.8-.78.8-2.07 0-2.86zM5.41 20L4 18.59l7.72-7.72 1.47 1.35L5.41 20z\"/>\n",
              "  </svg>\n",
              "      </button>\n",
              "      \n",
              "  <style>\n",
              "    .colab-df-container {\n",
              "      display:flex;\n",
              "      flex-wrap:wrap;\n",
              "      gap: 12px;\n",
              "    }\n",
              "\n",
              "    .colab-df-convert {\n",
              "      background-color: #E8F0FE;\n",
              "      border: none;\n",
              "      border-radius: 50%;\n",
              "      cursor: pointer;\n",
              "      display: none;\n",
              "      fill: #1967D2;\n",
              "      height: 32px;\n",
              "      padding: 0 0 0 0;\n",
              "      width: 32px;\n",
              "    }\n",
              "\n",
              "    .colab-df-convert:hover {\n",
              "      background-color: #E2EBFA;\n",
              "      box-shadow: 0px 1px 2px rgba(60, 64, 67, 0.3), 0px 1px 3px 1px rgba(60, 64, 67, 0.15);\n",
              "      fill: #174EA6;\n",
              "    }\n",
              "\n",
              "    [theme=dark] .colab-df-convert {\n",
              "      background-color: #3B4455;\n",
              "      fill: #D2E3FC;\n",
              "    }\n",
              "\n",
              "    [theme=dark] .colab-df-convert:hover {\n",
              "      background-color: #434B5C;\n",
              "      box-shadow: 0px 1px 3px 1px rgba(0, 0, 0, 0.15);\n",
              "      filter: drop-shadow(0px 1px 2px rgba(0, 0, 0, 0.3));\n",
              "      fill: #FFFFFF;\n",
              "    }\n",
              "  </style>\n",
              "\n",
              "      <script>\n",
              "        const buttonEl =\n",
              "          document.querySelector('#df-6a058ecb-6b9e-4819-a903-9f35f37db1ec button.colab-df-convert');\n",
              "        buttonEl.style.display =\n",
              "          google.colab.kernel.accessAllowed ? 'block' : 'none';\n",
              "\n",
              "        async function convertToInteractive(key) {\n",
              "          const element = document.querySelector('#df-6a058ecb-6b9e-4819-a903-9f35f37db1ec');\n",
              "          const dataTable =\n",
              "            await google.colab.kernel.invokeFunction('convertToInteractive',\n",
              "                                                     [key], {});\n",
              "          if (!dataTable) return;\n",
              "\n",
              "          const docLinkHtml = 'Like what you see? Visit the ' +\n",
              "            '<a target=\"_blank\" href=https://colab.research.google.com/notebooks/data_table.ipynb>data table notebook</a>'\n",
              "            + ' to learn more about interactive tables.';\n",
              "          element.innerHTML = '';\n",
              "          dataTable['output_type'] = 'display_data';\n",
              "          await google.colab.output.renderOutput(dataTable, element);\n",
              "          const docLink = document.createElement('div');\n",
              "          docLink.innerHTML = docLinkHtml;\n",
              "          element.appendChild(docLink);\n",
              "        }\n",
              "      </script>\n",
              "    </div>\n",
              "  </div>\n",
              "  "
            ]
          },
          "metadata": {},
          "execution_count": 32
        }
      ],
      "source": [
        "df = pd.read_csv('/content/drive/MyDrive/Bases_de_Datos/mushrooms.csv')\n",
        "print(\"Dimensión:\",df.shape)\n",
        "df.head()"
      ]
    },
    {
      "cell_type": "markdown",
      "metadata": {
        "id": "NCr9LD_ThCxL"
      },
      "source": [
        "### Análisis de la base de datos"
      ]
    },
    {
      "cell_type": "code",
      "execution_count": 33,
      "metadata": {
        "colab": {
          "base_uri": "https://localhost:8080/",
          "height": 266
        },
        "id": "lVzD1RULS1tO",
        "outputId": "64b54522-9b86-4450-a91c-8bcdff0612d4"
      },
      "outputs": [
        {
          "output_type": "execute_result",
          "data": {
            "text/plain": [
              "       class cap-shape cap-surface cap-color bruises  odor gill-attachment  \\\n",
              "count   8124      8124        8124      8124    8124  8124            8124   \n",
              "unique     2         6           4        10       2     9               2   \n",
              "top        e         x           y         n       f     n               f   \n",
              "freq    4208      3656        3244      2284    4748  3528            7914   \n",
              "\n",
              "       gill-spacing gill-size gill-color  ... stalk-surface-below-ring  \\\n",
              "count          8124      8124       8124  ...                     8124   \n",
              "unique            2         2         12  ...                        4   \n",
              "top               c         b          b  ...                        s   \n",
              "freq           6812      5612       1728  ...                     4936   \n",
              "\n",
              "       stalk-color-above-ring stalk-color-below-ring veil-type veil-color  \\\n",
              "count                    8124                   8124      8124       8124   \n",
              "unique                      9                      9         1          4   \n",
              "top                         w                      w         p          w   \n",
              "freq                     4464                   4384      8124       7924   \n",
              "\n",
              "       ring-number ring-type spore-print-color population habitat  \n",
              "count         8124      8124              8124       8124    8124  \n",
              "unique           3         5                 9          6       7  \n",
              "top              o         p                 w          v       d  \n",
              "freq          7488      3968              2388       4040    3148  \n",
              "\n",
              "[4 rows x 23 columns]"
            ],
            "text/html": [
              "\n",
              "  <div id=\"df-056840f7-f8e7-40d7-9989-6e8755cd128c\">\n",
              "    <div class=\"colab-df-container\">\n",
              "      <div>\n",
              "<style scoped>\n",
              "    .dataframe tbody tr th:only-of-type {\n",
              "        vertical-align: middle;\n",
              "    }\n",
              "\n",
              "    .dataframe tbody tr th {\n",
              "        vertical-align: top;\n",
              "    }\n",
              "\n",
              "    .dataframe thead th {\n",
              "        text-align: right;\n",
              "    }\n",
              "</style>\n",
              "<table border=\"1\" class=\"dataframe\">\n",
              "  <thead>\n",
              "    <tr style=\"text-align: right;\">\n",
              "      <th></th>\n",
              "      <th>class</th>\n",
              "      <th>cap-shape</th>\n",
              "      <th>cap-surface</th>\n",
              "      <th>cap-color</th>\n",
              "      <th>bruises</th>\n",
              "      <th>odor</th>\n",
              "      <th>gill-attachment</th>\n",
              "      <th>gill-spacing</th>\n",
              "      <th>gill-size</th>\n",
              "      <th>gill-color</th>\n",
              "      <th>...</th>\n",
              "      <th>stalk-surface-below-ring</th>\n",
              "      <th>stalk-color-above-ring</th>\n",
              "      <th>stalk-color-below-ring</th>\n",
              "      <th>veil-type</th>\n",
              "      <th>veil-color</th>\n",
              "      <th>ring-number</th>\n",
              "      <th>ring-type</th>\n",
              "      <th>spore-print-color</th>\n",
              "      <th>population</th>\n",
              "      <th>habitat</th>\n",
              "    </tr>\n",
              "  </thead>\n",
              "  <tbody>\n",
              "    <tr>\n",
              "      <th>count</th>\n",
              "      <td>8124</td>\n",
              "      <td>8124</td>\n",
              "      <td>8124</td>\n",
              "      <td>8124</td>\n",
              "      <td>8124</td>\n",
              "      <td>8124</td>\n",
              "      <td>8124</td>\n",
              "      <td>8124</td>\n",
              "      <td>8124</td>\n",
              "      <td>8124</td>\n",
              "      <td>...</td>\n",
              "      <td>8124</td>\n",
              "      <td>8124</td>\n",
              "      <td>8124</td>\n",
              "      <td>8124</td>\n",
              "      <td>8124</td>\n",
              "      <td>8124</td>\n",
              "      <td>8124</td>\n",
              "      <td>8124</td>\n",
              "      <td>8124</td>\n",
              "      <td>8124</td>\n",
              "    </tr>\n",
              "    <tr>\n",
              "      <th>unique</th>\n",
              "      <td>2</td>\n",
              "      <td>6</td>\n",
              "      <td>4</td>\n",
              "      <td>10</td>\n",
              "      <td>2</td>\n",
              "      <td>9</td>\n",
              "      <td>2</td>\n",
              "      <td>2</td>\n",
              "      <td>2</td>\n",
              "      <td>12</td>\n",
              "      <td>...</td>\n",
              "      <td>4</td>\n",
              "      <td>9</td>\n",
              "      <td>9</td>\n",
              "      <td>1</td>\n",
              "      <td>4</td>\n",
              "      <td>3</td>\n",
              "      <td>5</td>\n",
              "      <td>9</td>\n",
              "      <td>6</td>\n",
              "      <td>7</td>\n",
              "    </tr>\n",
              "    <tr>\n",
              "      <th>top</th>\n",
              "      <td>e</td>\n",
              "      <td>x</td>\n",
              "      <td>y</td>\n",
              "      <td>n</td>\n",
              "      <td>f</td>\n",
              "      <td>n</td>\n",
              "      <td>f</td>\n",
              "      <td>c</td>\n",
              "      <td>b</td>\n",
              "      <td>b</td>\n",
              "      <td>...</td>\n",
              "      <td>s</td>\n",
              "      <td>w</td>\n",
              "      <td>w</td>\n",
              "      <td>p</td>\n",
              "      <td>w</td>\n",
              "      <td>o</td>\n",
              "      <td>p</td>\n",
              "      <td>w</td>\n",
              "      <td>v</td>\n",
              "      <td>d</td>\n",
              "    </tr>\n",
              "    <tr>\n",
              "      <th>freq</th>\n",
              "      <td>4208</td>\n",
              "      <td>3656</td>\n",
              "      <td>3244</td>\n",
              "      <td>2284</td>\n",
              "      <td>4748</td>\n",
              "      <td>3528</td>\n",
              "      <td>7914</td>\n",
              "      <td>6812</td>\n",
              "      <td>5612</td>\n",
              "      <td>1728</td>\n",
              "      <td>...</td>\n",
              "      <td>4936</td>\n",
              "      <td>4464</td>\n",
              "      <td>4384</td>\n",
              "      <td>8124</td>\n",
              "      <td>7924</td>\n",
              "      <td>7488</td>\n",
              "      <td>3968</td>\n",
              "      <td>2388</td>\n",
              "      <td>4040</td>\n",
              "      <td>3148</td>\n",
              "    </tr>\n",
              "  </tbody>\n",
              "</table>\n",
              "<p>4 rows × 23 columns</p>\n",
              "</div>\n",
              "      <button class=\"colab-df-convert\" onclick=\"convertToInteractive('df-056840f7-f8e7-40d7-9989-6e8755cd128c')\"\n",
              "              title=\"Convert this dataframe to an interactive table.\"\n",
              "              style=\"display:none;\">\n",
              "        \n",
              "  <svg xmlns=\"http://www.w3.org/2000/svg\" height=\"24px\"viewBox=\"0 0 24 24\"\n",
              "       width=\"24px\">\n",
              "    <path d=\"M0 0h24v24H0V0z\" fill=\"none\"/>\n",
              "    <path d=\"M18.56 5.44l.94 2.06.94-2.06 2.06-.94-2.06-.94-.94-2.06-.94 2.06-2.06.94zm-11 1L8.5 8.5l.94-2.06 2.06-.94-2.06-.94L8.5 2.5l-.94 2.06-2.06.94zm10 10l.94 2.06.94-2.06 2.06-.94-2.06-.94-.94-2.06-.94 2.06-2.06.94z\"/><path d=\"M17.41 7.96l-1.37-1.37c-.4-.4-.92-.59-1.43-.59-.52 0-1.04.2-1.43.59L10.3 9.45l-7.72 7.72c-.78.78-.78 2.05 0 2.83L4 21.41c.39.39.9.59 1.41.59.51 0 1.02-.2 1.41-.59l7.78-7.78 2.81-2.81c.8-.78.8-2.07 0-2.86zM5.41 20L4 18.59l7.72-7.72 1.47 1.35L5.41 20z\"/>\n",
              "  </svg>\n",
              "      </button>\n",
              "      \n",
              "  <style>\n",
              "    .colab-df-container {\n",
              "      display:flex;\n",
              "      flex-wrap:wrap;\n",
              "      gap: 12px;\n",
              "    }\n",
              "\n",
              "    .colab-df-convert {\n",
              "      background-color: #E8F0FE;\n",
              "      border: none;\n",
              "      border-radius: 50%;\n",
              "      cursor: pointer;\n",
              "      display: none;\n",
              "      fill: #1967D2;\n",
              "      height: 32px;\n",
              "      padding: 0 0 0 0;\n",
              "      width: 32px;\n",
              "    }\n",
              "\n",
              "    .colab-df-convert:hover {\n",
              "      background-color: #E2EBFA;\n",
              "      box-shadow: 0px 1px 2px rgba(60, 64, 67, 0.3), 0px 1px 3px 1px rgba(60, 64, 67, 0.15);\n",
              "      fill: #174EA6;\n",
              "    }\n",
              "\n",
              "    [theme=dark] .colab-df-convert {\n",
              "      background-color: #3B4455;\n",
              "      fill: #D2E3FC;\n",
              "    }\n",
              "\n",
              "    [theme=dark] .colab-df-convert:hover {\n",
              "      background-color: #434B5C;\n",
              "      box-shadow: 0px 1px 3px 1px rgba(0, 0, 0, 0.15);\n",
              "      filter: drop-shadow(0px 1px 2px rgba(0, 0, 0, 0.3));\n",
              "      fill: #FFFFFF;\n",
              "    }\n",
              "  </style>\n",
              "\n",
              "      <script>\n",
              "        const buttonEl =\n",
              "          document.querySelector('#df-056840f7-f8e7-40d7-9989-6e8755cd128c button.colab-df-convert');\n",
              "        buttonEl.style.display =\n",
              "          google.colab.kernel.accessAllowed ? 'block' : 'none';\n",
              "\n",
              "        async function convertToInteractive(key) {\n",
              "          const element = document.querySelector('#df-056840f7-f8e7-40d7-9989-6e8755cd128c');\n",
              "          const dataTable =\n",
              "            await google.colab.kernel.invokeFunction('convertToInteractive',\n",
              "                                                     [key], {});\n",
              "          if (!dataTable) return;\n",
              "\n",
              "          const docLinkHtml = 'Like what you see? Visit the ' +\n",
              "            '<a target=\"_blank\" href=https://colab.research.google.com/notebooks/data_table.ipynb>data table notebook</a>'\n",
              "            + ' to learn more about interactive tables.';\n",
              "          element.innerHTML = '';\n",
              "          dataTable['output_type'] = 'display_data';\n",
              "          await google.colab.output.renderOutput(dataTable, element);\n",
              "          const docLink = document.createElement('div');\n",
              "          docLink.innerHTML = docLinkHtml;\n",
              "          element.appendChild(docLink);\n",
              "        }\n",
              "      </script>\n",
              "    </div>\n",
              "  </div>\n",
              "  "
            ]
          },
          "metadata": {},
          "execution_count": 33
        }
      ],
      "source": [
        "df.describe()"
      ]
    },
    {
      "cell_type": "markdown",
      "metadata": {
        "id": "Kn4h2X3ywH0u"
      },
      "source": [
        "Adicionalmente se elimina el atributo 'veil-type' ya que solamente cuenta con una observación."
      ]
    },
    {
      "cell_type": "code",
      "execution_count": 34,
      "metadata": {
        "id": "7CgtR7uJwMmP"
      },
      "outputs": [],
      "source": [
        "df = df.drop(['veil-type'], axis = 1)"
      ]
    },
    {
      "cell_type": "markdown",
      "metadata": {
        "id": "beAEm8FNh96s"
      },
      "source": [
        "Se realiza un análisis mediante tres funciones diferentes para saber si la base de datos cuenta con datos faltantes."
      ]
    },
    {
      "cell_type": "code",
      "execution_count": 35,
      "metadata": {
        "colab": {
          "base_uri": "https://localhost:8080/"
        },
        "id": "GYMLk-8OLhk3",
        "outputId": "d5db4b67-115b-4a1f-a855-10dcbdfea0dd"
      },
      "outputs": [
        {
          "output_type": "execute_result",
          "data": {
            "text/plain": [
              "class                       0\n",
              "cap-shape                   0\n",
              "cap-surface                 0\n",
              "cap-color                   0\n",
              "bruises                     0\n",
              "odor                        0\n",
              "gill-attachment             0\n",
              "gill-spacing                0\n",
              "gill-size                   0\n",
              "gill-color                  0\n",
              "stalk-shape                 0\n",
              "stalk-root                  0\n",
              "stalk-surface-above-ring    0\n",
              "stalk-surface-below-ring    0\n",
              "stalk-color-above-ring      0\n",
              "stalk-color-below-ring      0\n",
              "veil-color                  0\n",
              "ring-number                 0\n",
              "ring-type                   0\n",
              "spore-print-color           0\n",
              "population                  0\n",
              "habitat                     0\n",
              "dtype: int64"
            ]
          },
          "metadata": {},
          "execution_count": 35
        }
      ],
      "source": [
        "df.isnull().sum()"
      ]
    },
    {
      "cell_type": "code",
      "execution_count": 36,
      "metadata": {
        "colab": {
          "base_uri": "https://localhost:8080/"
        },
        "id": "gPKx-xP8hUE9",
        "outputId": "cf0dd710-263c-4f1c-e976-fe498c5b0af7"
      },
      "outputs": [
        {
          "output_type": "stream",
          "name": "stdout",
          "text": [
            "<class 'pandas.core.frame.DataFrame'>\n",
            "RangeIndex: 8124 entries, 0 to 8123\n",
            "Data columns (total 22 columns):\n",
            " #   Column                    Non-Null Count  Dtype \n",
            "---  ------                    --------------  ----- \n",
            " 0   class                     8124 non-null   object\n",
            " 1   cap-shape                 8124 non-null   object\n",
            " 2   cap-surface               8124 non-null   object\n",
            " 3   cap-color                 8124 non-null   object\n",
            " 4   bruises                   8124 non-null   object\n",
            " 5   odor                      8124 non-null   object\n",
            " 6   gill-attachment           8124 non-null   object\n",
            " 7   gill-spacing              8124 non-null   object\n",
            " 8   gill-size                 8124 non-null   object\n",
            " 9   gill-color                8124 non-null   object\n",
            " 10  stalk-shape               8124 non-null   object\n",
            " 11  stalk-root                8124 non-null   object\n",
            " 12  stalk-surface-above-ring  8124 non-null   object\n",
            " 13  stalk-surface-below-ring  8124 non-null   object\n",
            " 14  stalk-color-above-ring    8124 non-null   object\n",
            " 15  stalk-color-below-ring    8124 non-null   object\n",
            " 16  veil-color                8124 non-null   object\n",
            " 17  ring-number               8124 non-null   object\n",
            " 18  ring-type                 8124 non-null   object\n",
            " 19  spore-print-color         8124 non-null   object\n",
            " 20  population                8124 non-null   object\n",
            " 21  habitat                   8124 non-null   object\n",
            "dtypes: object(22)\n",
            "memory usage: 1.4+ MB\n"
          ]
        }
      ],
      "source": [
        "df.info()"
      ]
    },
    {
      "cell_type": "code",
      "execution_count": 37,
      "metadata": {
        "colab": {
          "base_uri": "https://localhost:8080/"
        },
        "id": "NtBcGF1zhp41",
        "outputId": "48ddb10b-5158-496d-8ede-556845632594"
      },
      "outputs": [
        {
          "output_type": "execute_result",
          "data": {
            "text/plain": [
              "class                       0\n",
              "cap-shape                   0\n",
              "cap-surface                 0\n",
              "cap-color                   0\n",
              "bruises                     0\n",
              "odor                        0\n",
              "gill-attachment             0\n",
              "gill-spacing                0\n",
              "gill-size                   0\n",
              "gill-color                  0\n",
              "stalk-shape                 0\n",
              "stalk-root                  0\n",
              "stalk-surface-above-ring    0\n",
              "stalk-surface-below-ring    0\n",
              "stalk-color-above-ring      0\n",
              "stalk-color-below-ring      0\n",
              "veil-color                  0\n",
              "ring-number                 0\n",
              "ring-type                   0\n",
              "spore-print-color           0\n",
              "population                  0\n",
              "habitat                     0\n",
              "dtype: int64"
            ]
          },
          "metadata": {},
          "execution_count": 37
        }
      ],
      "source": [
        "df.isna().sum()"
      ]
    },
    {
      "cell_type": "markdown",
      "metadata": {
        "id": "w4kfaWGPiTQF"
      },
      "source": [
        "Para corroborar lo anterior se hace un análisis por columna, para ver si no existe alguna codificación que nos indique datos faltantes."
      ]
    },
    {
      "cell_type": "code",
      "execution_count": 38,
      "metadata": {
        "id": "4GZ43xFxLkDY"
      },
      "outputs": [],
      "source": [
        "columnas = df.columns.values\n",
        "elementos_columnas = {}"
      ]
    },
    {
      "cell_type": "code",
      "execution_count": 39,
      "metadata": {
        "id": "vqvRWr8tLml1"
      },
      "outputs": [],
      "source": [
        "from pandas.core.algorithms import unique\n",
        "for c in columnas:\n",
        "  elementos_columnas[c] = df[c].unique()"
      ]
    },
    {
      "cell_type": "code",
      "execution_count": 40,
      "metadata": {
        "colab": {
          "base_uri": "https://localhost:8080/"
        },
        "id": "o011eg1BLoO5",
        "outputId": "6cfe4543-29a3-4dec-b77a-216198a817a7"
      },
      "outputs": [
        {
          "output_type": "execute_result",
          "data": {
            "text/plain": [
              "{'bruises': array(['t', 'f'], dtype=object),\n",
              " 'cap-color': array(['n', 'y', 'w', 'g', 'e', 'p', 'b', 'u', 'c', 'r'], dtype=object),\n",
              " 'cap-shape': array(['x', 'b', 's', 'f', 'k', 'c'], dtype=object),\n",
              " 'cap-surface': array(['s', 'y', 'f', 'g'], dtype=object),\n",
              " 'class': array(['p', 'e'], dtype=object),\n",
              " 'gill-attachment': array(['f', 'a'], dtype=object),\n",
              " 'gill-color': array(['k', 'n', 'g', 'p', 'w', 'h', 'u', 'e', 'b', 'r', 'y', 'o'],\n",
              "       dtype=object),\n",
              " 'gill-size': array(['n', 'b'], dtype=object),\n",
              " 'gill-spacing': array(['c', 'w'], dtype=object),\n",
              " 'habitat': array(['u', 'g', 'm', 'd', 'p', 'w', 'l'], dtype=object),\n",
              " 'odor': array(['p', 'a', 'l', 'n', 'f', 'c', 'y', 's', 'm'], dtype=object),\n",
              " 'population': array(['s', 'n', 'a', 'v', 'y', 'c'], dtype=object),\n",
              " 'ring-number': array(['o', 't', 'n'], dtype=object),\n",
              " 'ring-type': array(['p', 'e', 'l', 'f', 'n'], dtype=object),\n",
              " 'spore-print-color': array(['k', 'n', 'u', 'h', 'w', 'r', 'o', 'y', 'b'], dtype=object),\n",
              " 'stalk-color-above-ring': array(['w', 'g', 'p', 'n', 'b', 'e', 'o', 'c', 'y'], dtype=object),\n",
              " 'stalk-color-below-ring': array(['w', 'p', 'g', 'b', 'n', 'e', 'y', 'o', 'c'], dtype=object),\n",
              " 'stalk-root': array(['e', 'c', 'b', 'r', '?'], dtype=object),\n",
              " 'stalk-shape': array(['e', 't'], dtype=object),\n",
              " 'stalk-surface-above-ring': array(['s', 'f', 'k', 'y'], dtype=object),\n",
              " 'stalk-surface-below-ring': array(['s', 'f', 'y', 'k'], dtype=object),\n",
              " 'veil-color': array(['w', 'n', 'o', 'y'], dtype=object)}"
            ]
          },
          "metadata": {},
          "execution_count": 40
        }
      ],
      "source": [
        "elementos_columnas"
      ]
    },
    {
      "cell_type": "markdown",
      "metadata": {
        "id": "3cgL1PPJirqZ"
      },
      "source": [
        "Mediante el análisis anterior se encontro una codificación que nos indica datos faltantes en el atributo de 'stalk-root', los cuales son resaltados con el signo '?'. Por lo cual se cambian estos signos por valores NaN para poder realizar la pertinente imputación."
      ]
    },
    {
      "cell_type": "code",
      "execution_count": 41,
      "metadata": {
        "id": "Ai2oyVvHftrx"
      },
      "outputs": [],
      "source": [
        "df['stalk-root'] = df['stalk-root'].replace('?', np.NaN)"
      ]
    },
    {
      "cell_type": "markdown",
      "metadata": {
        "id": "GVcugyiEjpfy"
      },
      "source": [
        "Se contabilizan el número de datos faltantes para ver si el atributo que presenta los datos faltantes debe ser omitida o es viable realizar una imputación."
      ]
    },
    {
      "cell_type": "code",
      "execution_count": 42,
      "metadata": {
        "colab": {
          "base_uri": "https://localhost:8080/"
        },
        "id": "tTnt_pd6gM9U",
        "outputId": "44ca7e53-a68c-4f74-95c7-81630db34ea8"
      },
      "outputs": [
        {
          "output_type": "execute_result",
          "data": {
            "text/plain": [
              "class                        0.000000\n",
              "cap-shape                    0.000000\n",
              "cap-surface                  0.000000\n",
              "cap-color                    0.000000\n",
              "bruises                      0.000000\n",
              "odor                         0.000000\n",
              "gill-attachment              0.000000\n",
              "gill-spacing                 0.000000\n",
              "gill-size                    0.000000\n",
              "gill-color                   0.000000\n",
              "stalk-shape                  0.000000\n",
              "stalk-root                  30.526834\n",
              "stalk-surface-above-ring     0.000000\n",
              "stalk-surface-below-ring     0.000000\n",
              "stalk-color-above-ring       0.000000\n",
              "stalk-color-below-ring       0.000000\n",
              "veil-color                   0.000000\n",
              "ring-number                  0.000000\n",
              "ring-type                    0.000000\n",
              "spore-print-color            0.000000\n",
              "population                   0.000000\n",
              "habitat                      0.000000\n",
              "dtype: float64"
            ]
          },
          "metadata": {},
          "execution_count": 42
        }
      ],
      "source": [
        "df.isnull().sum()/df.shape[0]*100"
      ]
    },
    {
      "cell_type": "markdown",
      "metadata": {
        "id": "ACyWv511lKCG"
      },
      "source": [
        "Se analiza la distribución del atributo para poder analizar la imputación y poder saber si no se alteraron significativamente los datos."
      ]
    },
    {
      "cell_type": "code",
      "execution_count": 43,
      "metadata": {
        "colab": {
          "base_uri": "https://localhost:8080/",
          "height": 386
        },
        "id": "mAxxO34xlJWs",
        "outputId": "410a762c-43d8-491d-9061-0a28a279a9a8"
      },
      "outputs": [
        {
          "output_type": "execute_result",
          "data": {
            "text/plain": [
              "<seaborn.axisgrid.FacetGrid at 0x7f20b311f0d0>"
            ]
          },
          "metadata": {},
          "execution_count": 43
        },
        {
          "output_type": "display_data",
          "data": {
            "text/plain": [
              "<Figure size 360x360 with 1 Axes>"
            ],
            "image/png": "[encoded data removed]"
          },
          "metadata": {
            "needs_background": "light"
          }
        }
      ],
      "source": [
        "sns.displot(df['stalk-root'])"
      ]
    },
    {
      "cell_type": "markdown",
      "metadata": {
        "id": "GnJufkCN-47m"
      },
      "source": [
        "### Imputación"
      ]
    },
    {
      "cell_type": "markdown",
      "metadata": {
        "id": "RxF6lpTkqgka"
      },
      "source": [
        "Para poder realizar la imputación de datos cambiamos los datos alfabeticos por númericos y proceder con la imputación por vecinos más cercanos."
      ]
    },
    {
      "cell_type": "code",
      "execution_count": 44,
      "metadata": {
        "id": "mPbrLmq_Lt_u"
      },
      "outputs": [],
      "source": [
        "df_n = df.copy()"
      ]
    },
    {
      "cell_type": "code",
      "execution_count": 102,
      "metadata": {
        "colab": {
          "base_uri": "https://localhost:8080/",
          "height": 454
        },
        "id": "3AYgzte8LvMb",
        "outputId": "df872ad4-3a8f-4bd8-b14f-ab1c58958bea"
      },
      "outputs": [
        {
          "output_type": "execute_result",
          "data": {
            "text/plain": [
              "   class  cap-shape  cap-surface  cap-color  bruises  odor  gill-attachment  \\\n",
              "0      0          0            0          0        0     0                0   \n",
              "1      1          0            0          1        0     1                0   \n",
              "2      1          1            0          2        0     2                0   \n",
              "3      0          0            1          2        0     0                0   \n",
              "4      1          0            0          3        1     3                0   \n",
              "5      1          0            1          1        0     1                0   \n",
              "6      1          1            0          2        0     1                0   \n",
              "7      1          1            1          2        0     2                0   \n",
              "8      0          0            1          2        0     0                0   \n",
              "9      1          1            0          1        0     1                0   \n",
              "\n",
              "   gill-spacing  gill-size  gill-color  ...  stalk-surface-above-ring  \\\n",
              "0             0          0           0  ...                         0   \n",
              "1             0          1           0  ...                         0   \n",
              "2             0          1           1  ...                         0   \n",
              "3             0          0           1  ...                         0   \n",
              "4             1          1           0  ...                         0   \n",
              "5             0          1           1  ...                         0   \n",
              "6             0          1           2  ...                         0   \n",
              "7             0          1           1  ...                         0   \n",
              "8             0          0           3  ...                         0   \n",
              "9             0          1           2  ...                         0   \n",
              "\n",
              "   stalk-surface-below-ring  stalk-color-above-ring  stalk-color-below-ring  \\\n",
              "0                         0                       0                       0   \n",
              "1                         0                       0                       0   \n",
              "2                         0                       0                       0   \n",
              "3                         0                       0                       0   \n",
              "4                         0                       0                       0   \n",
              "5                         0                       0                       0   \n",
              "6                         0                       0                       0   \n",
              "7                         0                       0                       0   \n",
              "8                         0                       0                       0   \n",
              "9                         0                       0                       0   \n",
              "\n",
              "   veil-color  ring-number  ring-type  spore-print-color  population  habitat  \n",
              "0           0            0          0                  0           0        0  \n",
              "1           0            0          0                  1           1        1  \n",
              "2           0            0          0                  1           1        2  \n",
              "3           0            0          0                  0           0        0  \n",
              "4           0            0          1                  1           2        1  \n",
              "5           0            0          0                  0           1        1  \n",
              "6           0            0          0                  0           1        2  \n",
              "7           0            0          0                  1           0        2  \n",
              "8           0            0          0                  0           3        1  \n",
              "9           0            0          0                  0           0        2  \n",
              "\n",
              "[10 rows x 22 columns]"
            ],
            "text/html": [
              "\n",
              "  <div id=\"df-e3019fdf-98c4-4e23-9d33-5629e2de9aea\">\n",
              "    <div class=\"colab-df-container\">\n",
              "      <div>\n",
              "<style scoped>\n",
              "    .dataframe tbody tr th:only-of-type {\n",
              "        vertical-align: middle;\n",
              "    }\n",
              "\n",
              "    .dataframe tbody tr th {\n",
              "        vertical-align: top;\n",
              "    }\n",
              "\n",
              "    .dataframe thead th {\n",
              "        text-align: right;\n",
              "    }\n",
              "</style>\n",
              "<table border=\"1\" class=\"dataframe\">\n",
              "  <thead>\n",
              "    <tr style=\"text-align: right;\">\n",
              "      <th></th>\n",
              "      <th>class</th>\n",
              "      <th>cap-shape</th>\n",
              "      <th>cap-surface</th>\n",
              "      <th>cap-color</th>\n",
              "      <th>bruises</th>\n",
              "      <th>odor</th>\n",
              "      <th>gill-attachment</th>\n",
              "      <th>gill-spacing</th>\n",
              "      <th>gill-size</th>\n",
              "      <th>gill-color</th>\n",
              "      <th>...</th>\n",
              "      <th>stalk-surface-above-ring</th>\n",
              "      <th>stalk-surface-below-ring</th>\n",
              "      <th>stalk-color-above-ring</th>\n",
              "      <th>stalk-color-below-ring</th>\n",
              "      <th>veil-color</th>\n",
              "      <th>ring-number</th>\n",
              "      <th>ring-type</th>\n",
              "      <th>spore-print-color</th>\n",
              "      <th>population</th>\n",
              "      <th>habitat</th>\n",
              "    </tr>\n",
              "  </thead>\n",
              "  <tbody>\n",
              "    <tr>\n",
              "      <th>0</th>\n",
              "      <td>0</td>\n",
              "      <td>0</td>\n",
              "      <td>0</td>\n",
              "      <td>0</td>\n",
              "      <td>0</td>\n",
              "      <td>0</td>\n",
              "      <td>0</td>\n",
              "      <td>0</td>\n",
              "      <td>0</td>\n",
              "      <td>0</td>\n",
              "      <td>...</td>\n",
              "      <td>0</td>\n",
              "      <td>0</td>\n",
              "      <td>0</td>\n",
              "      <td>0</td>\n",
              "      <td>0</td>\n",
              "      <td>0</td>\n",
              "      <td>0</td>\n",
              "      <td>0</td>\n",
              "      <td>0</td>\n",
              "      <td>0</td>\n",
              "    </tr>\n",
              "    <tr>\n",
              "      <th>1</th>\n",
              "      <td>1</td>\n",
              "      <td>0</td>\n",
              "      <td>0</td>\n",
              "      <td>1</td>\n",
              "      <td>0</td>\n",
              "      <td>1</td>\n",
              "      <td>0</td>\n",
              "      <td>0</td>\n",
              "      <td>1</td>\n",
              "      <td>0</td>\n",
              "      <td>...</td>\n",
              "      <td>0</td>\n",
              "      <td>0</td>\n",
              "      <td>0</td>\n",
              "      <td>0</td>\n",
              "      <td>0</td>\n",
              "      <td>0</td>\n",
              "      <td>0</td>\n",
              "      <td>1</td>\n",
              "      <td>1</td>\n",
              "      <td>1</td>\n",
              "    </tr>\n",
              "    <tr>\n",
              "      <th>2</th>\n",
              "      <td>1</td>\n",
              "      <td>1</td>\n",
              "      <td>0</td>\n",
              "      <td>2</td>\n",
              "      <td>0</td>\n",
              "      <td>2</td>\n",
              "      <td>0</td>\n",
              "      <td>0</td>\n",
              "      <td>1</td>\n",
              "      <td>1</td>\n",
              "      <td>...</td>\n",
              "      <td>0</td>\n",
              "      <td>0</td>\n",
              "      <td>0</td>\n",
              "      <td>0</td>\n",
              "      <td>0</td>\n",
              "      <td>0</td>\n",
              "      <td>0</td>\n",
              "      <td>1</td>\n",
              "      <td>1</td>\n",
              "      <td>2</td>\n",
              "    </tr>\n",
              "    <tr>\n",
              "      <th>3</th>\n",
              "      <td>0</td>\n",
              "      <td>0</td>\n",
              "      <td>1</td>\n",
              "      <td>2</td>\n",
              "      <td>0</td>\n",
              "      <td>0</td>\n",
              "      <td>0</td>\n",
              "      <td>0</td>\n",
              "      <td>0</td>\n",
              "      <td>1</td>\n",
              "      <td>...</td>\n",
              "      <td>0</td>\n",
              "      <td>0</td>\n",
              "      <td>0</td>\n",
              "      <td>0</td>\n",
              "      <td>0</td>\n",
              "      <td>0</td>\n",
              "      <td>0</td>\n",
              "      <td>0</td>\n",
              "      <td>0</td>\n",
              "      <td>0</td>\n",
              "    </tr>\n",
              "    <tr>\n",
              "      <th>4</th>\n",
              "      <td>1</td>\n",
              "      <td>0</td>\n",
              "      <td>0</td>\n",
              "      <td>3</td>\n",
              "      <td>1</td>\n",
              "      <td>3</td>\n",
              "      <td>0</td>\n",
              "      <td>1</td>\n",
              "      <td>1</td>\n",
              "      <td>0</td>\n",
              "      <td>...</td>\n",
              "      <td>0</td>\n",
              "      <td>0</td>\n",
              "      <td>0</td>\n",
              "      <td>0</td>\n",
              "      <td>0</td>\n",
              "      <td>0</td>\n",
              "      <td>1</td>\n",
              "      <td>1</td>\n",
              "      <td>2</td>\n",
              "      <td>1</td>\n",
              "    </tr>\n",
              "    <tr>\n",
              "      <th>5</th>\n",
              "      <td>1</td>\n",
              "      <td>0</td>\n",
              "      <td>1</td>\n",
              "      <td>1</td>\n",
              "      <td>0</td>\n",
              "      <td>1</td>\n",
              "      <td>0</td>\n",
              "      <td>0</td>\n",
              "      <td>1</td>\n",
              "      <td>1</td>\n",
              "      <td>...</td>\n",
              "      <td>0</td>\n",
              "      <td>0</td>\n",
              "      <td>0</td>\n",
              "      <td>0</td>\n",
              "      <td>0</td>\n",
              "      <td>0</td>\n",
              "      <td>0</td>\n",
              "      <td>0</td>\n",
              "      <td>1</td>\n",
              "      <td>1</td>\n",
              "    </tr>\n",
              "    <tr>\n",
              "      <th>6</th>\n",
              "      <td>1</td>\n",
              "      <td>1</td>\n",
              "      <td>0</td>\n",
              "      <td>2</td>\n",
              "      <td>0</td>\n",
              "      <td>1</td>\n",
              "      <td>0</td>\n",
              "      <td>0</td>\n",
              "      <td>1</td>\n",
              "      <td>2</td>\n",
              "      <td>...</td>\n",
              "      <td>0</td>\n",
              "      <td>0</td>\n",
              "      <td>0</td>\n",
              "      <td>0</td>\n",
              "      <td>0</td>\n",
              "      <td>0</td>\n",
              "      <td>0</td>\n",
              "      <td>0</td>\n",
              "      <td>1</td>\n",
              "      <td>2</td>\n",
              "    </tr>\n",
              "    <tr>\n",
              "      <th>7</th>\n",
              "      <td>1</td>\n",
              "      <td>1</td>\n",
              "      <td>1</td>\n",
              "      <td>2</td>\n",
              "      <td>0</td>\n",
              "      <td>2</td>\n",
              "      <td>0</td>\n",
              "      <td>0</td>\n",
              "      <td>1</td>\n",
              "      <td>1</td>\n",
              "      <td>...</td>\n",
              "      <td>0</td>\n",
              "      <td>0</td>\n",
              "      <td>0</td>\n",
              "      <td>0</td>\n",
              "      <td>0</td>\n",
              "      <td>0</td>\n",
              "      <td>0</td>\n",
              "      <td>1</td>\n",
              "      <td>0</td>\n",
              "      <td>2</td>\n",
              "    </tr>\n",
              "    <tr>\n",
              "      <th>8</th>\n",
              "      <td>0</td>\n",
              "      <td>0</td>\n",
              "      <td>1</td>\n",
              "      <td>2</td>\n",
              "      <td>0</td>\n",
              "      <td>0</td>\n",
              "      <td>0</td>\n",
              "      <td>0</td>\n",
              "      <td>0</td>\n",
              "      <td>3</td>\n",
              "      <td>...</td>\n",
              "      <td>0</td>\n",
              "      <td>0</td>\n",
              "      <td>0</td>\n",
              "      <td>0</td>\n",
              "      <td>0</td>\n",
              "      <td>0</td>\n",
              "      <td>0</td>\n",
              "      <td>0</td>\n",
              "      <td>3</td>\n",
              "      <td>1</td>\n",
              "    </tr>\n",
              "    <tr>\n",
              "      <th>9</th>\n",
              "      <td>1</td>\n",
              "      <td>1</td>\n",
              "      <td>0</td>\n",
              "      <td>1</td>\n",
              "      <td>0</td>\n",
              "      <td>1</td>\n",
              "      <td>0</td>\n",
              "      <td>0</td>\n",
              "      <td>1</td>\n",
              "      <td>2</td>\n",
              "      <td>...</td>\n",
              "      <td>0</td>\n",
              "      <td>0</td>\n",
              "      <td>0</td>\n",
              "      <td>0</td>\n",
              "      <td>0</td>\n",
              "      <td>0</td>\n",
              "      <td>0</td>\n",
              "      <td>0</td>\n",
              "      <td>0</td>\n",
              "      <td>2</td>\n",
              "    </tr>\n",
              "  </tbody>\n",
              "</table>\n",
              "<p>10 rows × 22 columns</p>\n",
              "</div>\n",
              "      <button class=\"colab-df-convert\" onclick=\"convertToInteractive('df-e3019fdf-98c4-4e23-9d33-5629e2de9aea')\"\n",
              "              title=\"Convert this dataframe to an interactive table.\"\n",
              "              style=\"display:none;\">\n",
              "        \n",
              "  <svg xmlns=\"http://www.w3.org/2000/svg\" height=\"24px\"viewBox=\"0 0 24 24\"\n",
              "       width=\"24px\">\n",
              "    <path d=\"M0 0h24v24H0V0z\" fill=\"none\"/>\n",
              "    <path d=\"M18.56 5.44l.94 2.06.94-2.06 2.06-.94-2.06-.94-.94-2.06-.94 2.06-2.06.94zm-11 1L8.5 8.5l.94-2.06 2.06-.94-2.06-.94L8.5 2.5l-.94 2.06-2.06.94zm10 10l.94 2.06.94-2.06 2.06-.94-2.06-.94-.94-2.06-.94 2.06-2.06.94z\"/><path d=\"M17.41 7.96l-1.37-1.37c-.4-.4-.92-.59-1.43-.59-.52 0-1.04.2-1.43.59L10.3 9.45l-7.72 7.72c-.78.78-.78 2.05 0 2.83L4 21.41c.39.39.9.59 1.41.59.51 0 1.02-.2 1.41-.59l7.78-7.78 2.81-2.81c.8-.78.8-2.07 0-2.86zM5.41 20L4 18.59l7.72-7.72 1.47 1.35L5.41 20z\"/>\n",
              "  </svg>\n",
              "      </button>\n",
              "      \n",
              "  <style>\n",
              "    .colab-df-container {\n",
              "      display:flex;\n",
              "      flex-wrap:wrap;\n",
              "      gap: 12px;\n",
              "    }\n",
              "\n",
              "    .colab-df-convert {\n",
              "      background-color: #E8F0FE;\n",
              "      border: none;\n",
              "      border-radius: 50%;\n",
              "      cursor: pointer;\n",
              "      display: none;\n",
              "      fill: #1967D2;\n",
              "      height: 32px;\n",
              "      padding: 0 0 0 0;\n",
              "      width: 32px;\n",
              "    }\n",
              "\n",
              "    .colab-df-convert:hover {\n",
              "      background-color: #E2EBFA;\n",
              "      box-shadow: 0px 1px 2px rgba(60, 64, 67, 0.3), 0px 1px 3px 1px rgba(60, 64, 67, 0.15);\n",
              "      fill: #174EA6;\n",
              "    }\n",
              "\n",
              "    [theme=dark] .colab-df-convert {\n",
              "      background-color: #3B4455;\n",
              "      fill: #D2E3FC;\n",
              "    }\n",
              "\n",
              "    [theme=dark] .colab-df-convert:hover {\n",
              "      background-color: #434B5C;\n",
              "      box-shadow: 0px 1px 3px 1px rgba(0, 0, 0, 0.15);\n",
              "      filter: drop-shadow(0px 1px 2px rgba(0, 0, 0, 0.3));\n",
              "      fill: #FFFFFF;\n",
              "    }\n",
              "  </style>\n",
              "\n",
              "      <script>\n",
              "        const buttonEl =\n",
              "          document.querySelector('#df-e3019fdf-98c4-4e23-9d33-5629e2de9aea button.colab-df-convert');\n",
              "        buttonEl.style.display =\n",
              "          google.colab.kernel.accessAllowed ? 'block' : 'none';\n",
              "\n",
              "        async function convertToInteractive(key) {\n",
              "          const element = document.querySelector('#df-e3019fdf-98c4-4e23-9d33-5629e2de9aea');\n",
              "          const dataTable =\n",
              "            await google.colab.kernel.invokeFunction('convertToInteractive',\n",
              "                                                     [key], {});\n",
              "          if (!dataTable) return;\n",
              "\n",
              "          const docLinkHtml = 'Like what you see? Visit the ' +\n",
              "            '<a target=\"_blank\" href=https://colab.research.google.com/notebooks/data_table.ipynb>data table notebook</a>'\n",
              "            + ' to learn more about interactive tables.';\n",
              "          element.innerHTML = '';\n",
              "          dataTable['output_type'] = 'display_data';\n",
              "          await google.colab.output.renderOutput(dataTable, element);\n",
              "          const docLink = document.createElement('div');\n",
              "          docLink.innerHTML = docLinkHtml;\n",
              "          element.appendChild(docLink);\n",
              "        }\n",
              "      </script>\n",
              "    </div>\n",
              "  </div>\n",
              "  "
            ]
          },
          "metadata": {},
          "execution_count": 102
        }
      ],
      "source": [
        "for c in columnas:\n",
        "  df_n[c] = df[c].replace(elementos_columnas[c],\n",
        "                          np.arange(elementos_columnas[c].shape[0]))\n",
        "  \n",
        "df_n.head(10)"
      ]
    },
    {
      "cell_type": "code",
      "execution_count": 46,
      "metadata": {
        "colab": {
          "base_uri": "https://localhost:8080/"
        },
        "id": "pfHXVuDY8Pk9",
        "outputId": "1a6cdfcd-5e14-4c4d-94dc-f0b7ee3f9935"
      },
      "outputs": [
        {
          "output_type": "execute_result",
          "data": {
            "text/plain": [
              "class                        1.0\n",
              "cap-shape                    5.0\n",
              "cap-surface                  3.0\n",
              "cap-color                    9.0\n",
              "bruises                      1.0\n",
              "odor                         8.0\n",
              "gill-attachment              1.0\n",
              "gill-spacing                 1.0\n",
              "gill-size                    1.0\n",
              "gill-color                  11.0\n",
              "stalk-shape                  1.0\n",
              "stalk-root                   3.0\n",
              "stalk-surface-above-ring     3.0\n",
              "stalk-surface-below-ring     3.0\n",
              "stalk-color-above-ring       8.0\n",
              "stalk-color-below-ring       8.0\n",
              "veil-color                   3.0\n",
              "ring-number                  2.0\n",
              "ring-type                    4.0\n",
              "spore-print-color            8.0\n",
              "population                   5.0\n",
              "habitat                      6.0\n",
              "dtype: float64"
            ]
          },
          "metadata": {},
          "execution_count": 46
        }
      ],
      "source": [
        "np.max(df_n)"
      ]
    },
    {
      "cell_type": "code",
      "execution_count": 47,
      "metadata": {
        "colab": {
          "base_uri": "https://localhost:8080/",
          "height": 454
        },
        "id": "cXu6mVEML1GM",
        "outputId": "01baffae-7c52-4395-ea23-7ef1278c2a04"
      },
      "outputs": [
        {
          "output_type": "execute_result",
          "data": {
            "text/plain": [
              "   class  cap-shape  cap-surface  cap-color  bruises   odor  gill-attachment  \\\n",
              "0    0.0        0.0     0.000000   0.000000      0.0  0.000              0.0   \n",
              "1    1.0        0.0     0.000000   0.111111      0.0  0.125              0.0   \n",
              "2    1.0        0.2     0.000000   0.222222      0.0  0.250              0.0   \n",
              "3    0.0        0.0     0.333333   0.222222      0.0  0.000              0.0   \n",
              "4    1.0        0.0     0.000000   0.333333      1.0  0.375              0.0   \n",
              "5    1.0        0.0     0.333333   0.111111      0.0  0.125              0.0   \n",
              "6    1.0        0.2     0.000000   0.222222      0.0  0.125              0.0   \n",
              "7    1.0        0.2     0.333333   0.222222      0.0  0.250              0.0   \n",
              "8    0.0        0.0     0.333333   0.222222      0.0  0.000              0.0   \n",
              "9    1.0        0.2     0.000000   0.111111      0.0  0.125              0.0   \n",
              "\n",
              "   gill-spacing  gill-size  gill-color  ...  stalk-surface-above-ring  \\\n",
              "0           0.0        0.0    0.000000  ...                       0.0   \n",
              "1           0.0        1.0    0.000000  ...                       0.0   \n",
              "2           0.0        1.0    0.090909  ...                       0.0   \n",
              "3           0.0        0.0    0.090909  ...                       0.0   \n",
              "4           1.0        1.0    0.000000  ...                       0.0   \n",
              "5           0.0        1.0    0.090909  ...                       0.0   \n",
              "6           0.0        1.0    0.181818  ...                       0.0   \n",
              "7           0.0        1.0    0.090909  ...                       0.0   \n",
              "8           0.0        0.0    0.272727  ...                       0.0   \n",
              "9           0.0        1.0    0.181818  ...                       0.0   \n",
              "\n",
              "   stalk-surface-below-ring  stalk-color-above-ring  stalk-color-below-ring  \\\n",
              "0                       0.0                     0.0                     0.0   \n",
              "1                       0.0                     0.0                     0.0   \n",
              "2                       0.0                     0.0                     0.0   \n",
              "3                       0.0                     0.0                     0.0   \n",
              "4                       0.0                     0.0                     0.0   \n",
              "5                       0.0                     0.0                     0.0   \n",
              "6                       0.0                     0.0                     0.0   \n",
              "7                       0.0                     0.0                     0.0   \n",
              "8                       0.0                     0.0                     0.0   \n",
              "9                       0.0                     0.0                     0.0   \n",
              "\n",
              "   veil-color  ring-number  ring-type  spore-print-color  population   habitat  \n",
              "0         0.0          0.0       0.00              0.000         0.0  0.000000  \n",
              "1         0.0          0.0       0.00              0.125         0.2  0.166667  \n",
              "2         0.0          0.0       0.00              0.125         0.2  0.333333  \n",
              "3         0.0          0.0       0.00              0.000         0.0  0.000000  \n",
              "4         0.0          0.0       0.25              0.125         0.4  0.166667  \n",
              "5         0.0          0.0       0.00              0.000         0.2  0.166667  \n",
              "6         0.0          0.0       0.00              0.000         0.2  0.333333  \n",
              "7         0.0          0.0       0.00              0.125         0.0  0.333333  \n",
              "8         0.0          0.0       0.00              0.000         0.6  0.166667  \n",
              "9         0.0          0.0       0.00              0.000         0.0  0.333333  \n",
              "\n",
              "[10 rows x 22 columns]"
            ],
            "text/html": [
              "\n",
              "  <div id=\"df-50415e14-69a2-45da-98f8-38ecaca4d9d9\">\n",
              "    <div class=\"colab-df-container\">\n",
              "      <div>\n",
              "<style scoped>\n",
              "    .dataframe tbody tr th:only-of-type {\n",
              "        vertical-align: middle;\n",
              "    }\n",
              "\n",
              "    .dataframe tbody tr th {\n",
              "        vertical-align: top;\n",
              "    }\n",
              "\n",
              "    .dataframe thead th {\n",
              "        text-align: right;\n",
              "    }\n",
              "</style>\n",
              "<table border=\"1\" class=\"dataframe\">\n",
              "  <thead>\n",
              "    <tr style=\"text-align: right;\">\n",
              "      <th></th>\n",
              "      <th>class</th>\n",
              "      <th>cap-shape</th>\n",
              "      <th>cap-surface</th>\n",
              "      <th>cap-color</th>\n",
              "      <th>bruises</th>\n",
              "      <th>odor</th>\n",
              "      <th>gill-attachment</th>\n",
              "      <th>gill-spacing</th>\n",
              "      <th>gill-size</th>\n",
              "      <th>gill-color</th>\n",
              "      <th>...</th>\n",
              "      <th>stalk-surface-above-ring</th>\n",
              "      <th>stalk-surface-below-ring</th>\n",
              "      <th>stalk-color-above-ring</th>\n",
              "      <th>stalk-color-below-ring</th>\n",
              "      <th>veil-color</th>\n",
              "      <th>ring-number</th>\n",
              "      <th>ring-type</th>\n",
              "      <th>spore-print-color</th>\n",
              "      <th>population</th>\n",
              "      <th>habitat</th>\n",
              "    </tr>\n",
              "  </thead>\n",
              "  <tbody>\n",
              "    <tr>\n",
              "      <th>0</th>\n",
              "      <td>0.0</td>\n",
              "      <td>0.0</td>\n",
              "      <td>0.000000</td>\n",
              "      <td>0.000000</td>\n",
              "      <td>0.0</td>\n",
              "      <td>0.000</td>\n",
              "      <td>0.0</td>\n",
              "      <td>0.0</td>\n",
              "      <td>0.0</td>\n",
              "      <td>0.000000</td>\n",
              "      <td>...</td>\n",
              "      <td>0.0</td>\n",
              "      <td>0.0</td>\n",
              "      <td>0.0</td>\n",
              "      <td>0.0</td>\n",
              "      <td>0.0</td>\n",
              "      <td>0.0</td>\n",
              "      <td>0.00</td>\n",
              "      <td>0.000</td>\n",
              "      <td>0.0</td>\n",
              "      <td>0.000000</td>\n",
              "    </tr>\n",
              "    <tr>\n",
              "      <th>1</th>\n",
              "      <td>1.0</td>\n",
              "      <td>0.0</td>\n",
              "      <td>0.000000</td>\n",
              "      <td>0.111111</td>\n",
              "      <td>0.0</td>\n",
              "      <td>0.125</td>\n",
              "      <td>0.0</td>\n",
              "      <td>0.0</td>\n",
              "      <td>1.0</td>\n",
              "      <td>0.000000</td>\n",
              "      <td>...</td>\n",
              "      <td>0.0</td>\n",
              "      <td>0.0</td>\n",
              "      <td>0.0</td>\n",
              "      <td>0.0</td>\n",
              "      <td>0.0</td>\n",
              "      <td>0.0</td>\n",
              "      <td>0.00</td>\n",
              "      <td>0.125</td>\n",
              "      <td>0.2</td>\n",
              "      <td>0.166667</td>\n",
              "    </tr>\n",
              "    <tr>\n",
              "      <th>2</th>\n",
              "      <td>1.0</td>\n",
              "      <td>0.2</td>\n",
              "      <td>0.000000</td>\n",
              "      <td>0.222222</td>\n",
              "      <td>0.0</td>\n",
              "      <td>0.250</td>\n",
              "      <td>0.0</td>\n",
              "      <td>0.0</td>\n",
              "      <td>1.0</td>\n",
              "      <td>0.090909</td>\n",
              "      <td>...</td>\n",
              "      <td>0.0</td>\n",
              "      <td>0.0</td>\n",
              "      <td>0.0</td>\n",
              "      <td>0.0</td>\n",
              "      <td>0.0</td>\n",
              "      <td>0.0</td>\n",
              "      <td>0.00</td>\n",
              "      <td>0.125</td>\n",
              "      <td>0.2</td>\n",
              "      <td>0.333333</td>\n",
              "    </tr>\n",
              "    <tr>\n",
              "      <th>3</th>\n",
              "      <td>0.0</td>\n",
              "      <td>0.0</td>\n",
              "      <td>0.333333</td>\n",
              "      <td>0.222222</td>\n",
              "      <td>0.0</td>\n",
              "      <td>0.000</td>\n",
              "      <td>0.0</td>\n",
              "      <td>0.0</td>\n",
              "      <td>0.0</td>\n",
              "      <td>0.090909</td>\n",
              "      <td>...</td>\n",
              "      <td>0.0</td>\n",
              "      <td>0.0</td>\n",
              "      <td>0.0</td>\n",
              "      <td>0.0</td>\n",
              "      <td>0.0</td>\n",
              "      <td>0.0</td>\n",
              "      <td>0.00</td>\n",
              "      <td>0.000</td>\n",
              "      <td>0.0</td>\n",
              "      <td>0.000000</td>\n",
              "    </tr>\n",
              "    <tr>\n",
              "      <th>4</th>\n",
              "      <td>1.0</td>\n",
              "      <td>0.0</td>\n",
              "      <td>0.000000</td>\n",
              "      <td>0.333333</td>\n",
              "      <td>1.0</td>\n",
              "      <td>0.375</td>\n",
              "      <td>0.0</td>\n",
              "      <td>1.0</td>\n",
              "      <td>1.0</td>\n",
              "      <td>0.000000</td>\n",
              "      <td>...</td>\n",
              "      <td>0.0</td>\n",
              "      <td>0.0</td>\n",
              "      <td>0.0</td>\n",
              "      <td>0.0</td>\n",
              "      <td>0.0</td>\n",
              "      <td>0.0</td>\n",
              "      <td>0.25</td>\n",
              "      <td>0.125</td>\n",
              "      <td>0.4</td>\n",
              "      <td>0.166667</td>\n",
              "    </tr>\n",
              "    <tr>\n",
              "      <th>5</th>\n",
              "      <td>1.0</td>\n",
              "      <td>0.0</td>\n",
              "      <td>0.333333</td>\n",
              "      <td>0.111111</td>\n",
              "      <td>0.0</td>\n",
              "      <td>0.125</td>\n",
              "      <td>0.0</td>\n",
              "      <td>0.0</td>\n",
              "      <td>1.0</td>\n",
              "      <td>0.090909</td>\n",
              "      <td>...</td>\n",
              "      <td>0.0</td>\n",
              "      <td>0.0</td>\n",
              "      <td>0.0</td>\n",
              "      <td>0.0</td>\n",
              "      <td>0.0</td>\n",
              "      <td>0.0</td>\n",
              "      <td>0.00</td>\n",
              "      <td>0.000</td>\n",
              "      <td>0.2</td>\n",
              "      <td>0.166667</td>\n",
              "    </tr>\n",
              "    <tr>\n",
              "      <th>6</th>\n",
              "      <td>1.0</td>\n",
              "      <td>0.2</td>\n",
              "      <td>0.000000</td>\n",
              "      <td>0.222222</td>\n",
              "      <td>0.0</td>\n",
              "      <td>0.125</td>\n",
              "      <td>0.0</td>\n",
              "      <td>0.0</td>\n",
              "      <td>1.0</td>\n",
              "      <td>0.181818</td>\n",
              "      <td>...</td>\n",
              "      <td>0.0</td>\n",
              "      <td>0.0</td>\n",
              "      <td>0.0</td>\n",
              "      <td>0.0</td>\n",
              "      <td>0.0</td>\n",
              "      <td>0.0</td>\n",
              "      <td>0.00</td>\n",
              "      <td>0.000</td>\n",
              "      <td>0.2</td>\n",
              "      <td>0.333333</td>\n",
              "    </tr>\n",
              "    <tr>\n",
              "      <th>7</th>\n",
              "      <td>1.0</td>\n",
              "      <td>0.2</td>\n",
              "      <td>0.333333</td>\n",
              "      <td>0.222222</td>\n",
              "      <td>0.0</td>\n",
              "      <td>0.250</td>\n",
              "      <td>0.0</td>\n",
              "      <td>0.0</td>\n",
              "      <td>1.0</td>\n",
              "      <td>0.090909</td>\n",
              "      <td>...</td>\n",
              "      <td>0.0</td>\n",
              "      <td>0.0</td>\n",
              "      <td>0.0</td>\n",
              "      <td>0.0</td>\n",
              "      <td>0.0</td>\n",
              "      <td>0.0</td>\n",
              "      <td>0.00</td>\n",
              "      <td>0.125</td>\n",
              "      <td>0.0</td>\n",
              "      <td>0.333333</td>\n",
              "    </tr>\n",
              "    <tr>\n",
              "      <th>8</th>\n",
              "      <td>0.0</td>\n",
              "      <td>0.0</td>\n",
              "      <td>0.333333</td>\n",
              "      <td>0.222222</td>\n",
              "      <td>0.0</td>\n",
              "      <td>0.000</td>\n",
              "      <td>0.0</td>\n",
              "      <td>0.0</td>\n",
              "      <td>0.0</td>\n",
              "      <td>0.272727</td>\n",
              "      <td>...</td>\n",
              "      <td>0.0</td>\n",
              "      <td>0.0</td>\n",
              "      <td>0.0</td>\n",
              "      <td>0.0</td>\n",
              "      <td>0.0</td>\n",
              "      <td>0.0</td>\n",
              "      <td>0.00</td>\n",
              "      <td>0.000</td>\n",
              "      <td>0.6</td>\n",
              "      <td>0.166667</td>\n",
              "    </tr>\n",
              "    <tr>\n",
              "      <th>9</th>\n",
              "      <td>1.0</td>\n",
              "      <td>0.2</td>\n",
              "      <td>0.000000</td>\n",
              "      <td>0.111111</td>\n",
              "      <td>0.0</td>\n",
              "      <td>0.125</td>\n",
              "      <td>0.0</td>\n",
              "      <td>0.0</td>\n",
              "      <td>1.0</td>\n",
              "      <td>0.181818</td>\n",
              "      <td>...</td>\n",
              "      <td>0.0</td>\n",
              "      <td>0.0</td>\n",
              "      <td>0.0</td>\n",
              "      <td>0.0</td>\n",
              "      <td>0.0</td>\n",
              "      <td>0.0</td>\n",
              "      <td>0.00</td>\n",
              "      <td>0.000</td>\n",
              "      <td>0.0</td>\n",
              "      <td>0.333333</td>\n",
              "    </tr>\n",
              "  </tbody>\n",
              "</table>\n",
              "<p>10 rows × 22 columns</p>\n",
              "</div>\n",
              "      <button class=\"colab-df-convert\" onclick=\"convertToInteractive('df-50415e14-69a2-45da-98f8-38ecaca4d9d9')\"\n",
              "              title=\"Convert this dataframe to an interactive table.\"\n",
              "              style=\"display:none;\">\n",
              "        \n",
              "  <svg xmlns=\"http://www.w3.org/2000/svg\" height=\"24px\"viewBox=\"0 0 24 24\"\n",
              "       width=\"24px\">\n",
              "    <path d=\"M0 0h24v24H0V0z\" fill=\"none\"/>\n",
              "    <path d=\"M18.56 5.44l.94 2.06.94-2.06 2.06-.94-2.06-.94-.94-2.06-.94 2.06-2.06.94zm-11 1L8.5 8.5l.94-2.06 2.06-.94-2.06-.94L8.5 2.5l-.94 2.06-2.06.94zm10 10l.94 2.06.94-2.06 2.06-.94-2.06-.94-.94-2.06-.94 2.06-2.06.94z\"/><path d=\"M17.41 7.96l-1.37-1.37c-.4-.4-.92-.59-1.43-.59-.52 0-1.04.2-1.43.59L10.3 9.45l-7.72 7.72c-.78.78-.78 2.05 0 2.83L4 21.41c.39.39.9.59 1.41.59.51 0 1.02-.2 1.41-.59l7.78-7.78 2.81-2.81c.8-.78.8-2.07 0-2.86zM5.41 20L4 18.59l7.72-7.72 1.47 1.35L5.41 20z\"/>\n",
              "  </svg>\n",
              "      </button>\n",
              "      \n",
              "  <style>\n",
              "    .colab-df-container {\n",
              "      display:flex;\n",
              "      flex-wrap:wrap;\n",
              "      gap: 12px;\n",
              "    }\n",
              "\n",
              "    .colab-df-convert {\n",
              "      background-color: #E8F0FE;\n",
              "      border: none;\n",
              "      border-radius: 50%;\n",
              "      cursor: pointer;\n",
              "      display: none;\n",
              "      fill: #1967D2;\n",
              "      height: 32px;\n",
              "      padding: 0 0 0 0;\n",
              "      width: 32px;\n",
              "    }\n",
              "\n",
              "    .colab-df-convert:hover {\n",
              "      background-color: #E2EBFA;\n",
              "      box-shadow: 0px 1px 2px rgba(60, 64, 67, 0.3), 0px 1px 3px 1px rgba(60, 64, 67, 0.15);\n",
              "      fill: #174EA6;\n",
              "    }\n",
              "\n",
              "    [theme=dark] .colab-df-convert {\n",
              "      background-color: #3B4455;\n",
              "      fill: #D2E3FC;\n",
              "    }\n",
              "\n",
              "    [theme=dark] .colab-df-convert:hover {\n",
              "      background-color: #434B5C;\n",
              "      box-shadow: 0px 1px 3px 1px rgba(0, 0, 0, 0.15);\n",
              "      filter: drop-shadow(0px 1px 2px rgba(0, 0, 0, 0.3));\n",
              "      fill: #FFFFFF;\n",
              "    }\n",
              "  </style>\n",
              "\n",
              "      <script>\n",
              "        const buttonEl =\n",
              "          document.querySelector('#df-50415e14-69a2-45da-98f8-38ecaca4d9d9 button.colab-df-convert');\n",
              "        buttonEl.style.display =\n",
              "          google.colab.kernel.accessAllowed ? 'block' : 'none';\n",
              "\n",
              "        async function convertToInteractive(key) {\n",
              "          const element = document.querySelector('#df-50415e14-69a2-45da-98f8-38ecaca4d9d9');\n",
              "          const dataTable =\n",
              "            await google.colab.kernel.invokeFunction('convertToInteractive',\n",
              "                                                     [key], {});\n",
              "          if (!dataTable) return;\n",
              "\n",
              "          const docLinkHtml = 'Like what you see? Visit the ' +\n",
              "            '<a target=\"_blank\" href=https://colab.research.google.com/notebooks/data_table.ipynb>data table notebook</a>'\n",
              "            + ' to learn more about interactive tables.';\n",
              "          element.innerHTML = '';\n",
              "          dataTable['output_type'] = 'display_data';\n",
              "          await google.colab.output.renderOutput(dataTable, element);\n",
              "          const docLink = document.createElement('div');\n",
              "          docLink.innerHTML = docLinkHtml;\n",
              "          element.appendChild(docLink);\n",
              "        }\n",
              "      </script>\n",
              "    </div>\n",
              "  </div>\n",
              "  "
            ]
          },
          "metadata": {},
          "execution_count": 47
        }
      ],
      "source": [
        "df_n_norm = normalizar(df_n)\n",
        "df_n_norm.head(10)"
      ]
    },
    {
      "cell_type": "markdown",
      "metadata": {
        "id": "m2MMaKssx7Iq"
      },
      "source": [
        "Se extraen los valores donde se va a realizar la imputación, para tener los dos conjuntos, el de entrenamiento del algoritmo y donde se realizarán las imputaciones. "
      ]
    },
    {
      "cell_type": "code",
      "execution_count": 48,
      "metadata": {
        "id": "JTS2_95z7J0_"
      },
      "outputs": [],
      "source": [
        "index_nan = np.where(df.isna())"
      ]
    },
    {
      "cell_type": "code",
      "execution_count": 49,
      "metadata": {
        "colab": {
          "base_uri": "https://localhost:8080/"
        },
        "id": "f4ufq6b28heG",
        "outputId": "9f67415e-2ffc-49f4-c9dd-44d98faecd09"
      },
      "outputs": [
        {
          "output_type": "execute_result",
          "data": {
            "text/plain": [
              "class                       0\n",
              "cap-shape                   0\n",
              "cap-surface                 0\n",
              "cap-color                   0\n",
              "bruises                     0\n",
              "odor                        0\n",
              "gill-attachment             0\n",
              "gill-spacing                0\n",
              "gill-size                   0\n",
              "gill-color                  0\n",
              "stalk-shape                 0\n",
              "stalk-root                  0\n",
              "stalk-surface-above-ring    0\n",
              "stalk-surface-below-ring    0\n",
              "stalk-color-above-ring      0\n",
              "stalk-color-below-ring      0\n",
              "veil-color                  0\n",
              "ring-number                 0\n",
              "ring-type                   0\n",
              "spore-print-color           0\n",
              "population                  0\n",
              "habitat                     0\n",
              "dtype: int64"
            ]
          },
          "metadata": {},
          "execution_count": 49
        }
      ],
      "source": [
        "df_train_imputar = df_n_norm.drop(index_nan[0], axis = 0)\n",
        "df_train_imputar.isnull().sum()"
      ]
    },
    {
      "cell_type": "code",
      "execution_count": 50,
      "metadata": {
        "colab": {
          "base_uri": "https://localhost:8080/",
          "height": 297
        },
        "id": "VmhuXIvt87la",
        "outputId": "811083d1-7438-4800-c4ea-6c86c6b13efa"
      },
      "outputs": [
        {
          "output_type": "execute_result",
          "data": {
            "text/plain": [
              "      class  cap-shape  cap-surface  cap-color  bruises   odor  \\\n",
              "3984    1.0        0.0     0.333333   0.666667      0.0  0.375   \n",
              "4023    0.0        0.0     0.333333   0.444444      1.0  0.750   \n",
              "4076    1.0        0.6     0.333333   0.777778      1.0  0.375   \n",
              "4100    0.0        0.0     0.333333   0.444444      1.0  0.750   \n",
              "4104    0.0        0.0     0.333333   0.000000      1.0  0.500   \n",
              "\n",
              "      gill-attachment  gill-spacing  gill-size  gill-color  ...  \\\n",
              "3984              0.0           0.0        1.0    0.636364  ...   \n",
              "4023              0.0           0.0        0.0    0.727273  ...   \n",
              "4076              0.0           0.0        0.0    0.454545  ...   \n",
              "4100              0.0           0.0        0.0    0.727273  ...   \n",
              "4104              0.0           0.0        0.0    0.727273  ...   \n",
              "\n",
              "      stalk-surface-above-ring  stalk-surface-below-ring  \\\n",
              "3984                  0.000000                  0.000000   \n",
              "4023                  0.666667                  0.000000   \n",
              "4076                  0.000000                  0.333333   \n",
              "4100                  0.666667                  0.000000   \n",
              "4104                  0.000000                  0.000000   \n",
              "\n",
              "      stalk-color-above-ring  stalk-color-below-ring  veil-color  ring-number  \\\n",
              "3984                   0.625                   0.000         0.0          0.5   \n",
              "4023                   0.000                   0.000         0.0          0.0   \n",
              "4076                   0.000                   0.000         0.0          0.0   \n",
              "4100                   0.250                   0.125         0.0          0.0   \n",
              "4104                   0.250                   0.125         0.0          0.0   \n",
              "\n",
              "      ring-type  spore-print-color  population   habitat  \n",
              "3984       0.25              0.500         1.0  0.833333  \n",
              "4023       0.25              0.500         0.6  0.666667  \n",
              "4076       0.75              0.375         0.8  0.500000  \n",
              "4100       0.25              0.500         0.6  0.500000  \n",
              "4104       0.25              0.500         0.6  1.000000  \n",
              "\n",
              "[5 rows x 22 columns]"
            ],
            "text/html": [
              "\n",
              "  <div id=\"df-fcae271b-6de1-4617-ad75-3d6a4856b234\">\n",
              "    <div class=\"colab-df-container\">\n",
              "      <div>\n",
              "<style scoped>\n",
              "    .dataframe tbody tr th:only-of-type {\n",
              "        vertical-align: middle;\n",
              "    }\n",
              "\n",
              "    .dataframe tbody tr th {\n",
              "        vertical-align: top;\n",
              "    }\n",
              "\n",
              "    .dataframe thead th {\n",
              "        text-align: right;\n",
              "    }\n",
              "</style>\n",
              "<table border=\"1\" class=\"dataframe\">\n",
              "  <thead>\n",
              "    <tr style=\"text-align: right;\">\n",
              "      <th></th>\n",
              "      <th>class</th>\n",
              "      <th>cap-shape</th>\n",
              "      <th>cap-surface</th>\n",
              "      <th>cap-color</th>\n",
              "      <th>bruises</th>\n",
              "      <th>odor</th>\n",
              "      <th>gill-attachment</th>\n",
              "      <th>gill-spacing</th>\n",
              "      <th>gill-size</th>\n",
              "      <th>gill-color</th>\n",
              "      <th>...</th>\n",
              "      <th>stalk-surface-above-ring</th>\n",
              "      <th>stalk-surface-below-ring</th>\n",
              "      <th>stalk-color-above-ring</th>\n",
              "      <th>stalk-color-below-ring</th>\n",
              "      <th>veil-color</th>\n",
              "      <th>ring-number</th>\n",
              "      <th>ring-type</th>\n",
              "      <th>spore-print-color</th>\n",
              "      <th>population</th>\n",
              "      <th>habitat</th>\n",
              "    </tr>\n",
              "  </thead>\n",
              "  <tbody>\n",
              "    <tr>\n",
              "      <th>3984</th>\n",
              "      <td>1.0</td>\n",
              "      <td>0.0</td>\n",
              "      <td>0.333333</td>\n",
              "      <td>0.666667</td>\n",
              "      <td>0.0</td>\n",
              "      <td>0.375</td>\n",
              "      <td>0.0</td>\n",
              "      <td>0.0</td>\n",
              "      <td>1.0</td>\n",
              "      <td>0.636364</td>\n",
              "      <td>...</td>\n",
              "      <td>0.000000</td>\n",
              "      <td>0.000000</td>\n",
              "      <td>0.625</td>\n",
              "      <td>0.000</td>\n",
              "      <td>0.0</td>\n",
              "      <td>0.5</td>\n",
              "      <td>0.25</td>\n",
              "      <td>0.500</td>\n",
              "      <td>1.0</td>\n",
              "      <td>0.833333</td>\n",
              "    </tr>\n",
              "    <tr>\n",
              "      <th>4023</th>\n",
              "      <td>0.0</td>\n",
              "      <td>0.0</td>\n",
              "      <td>0.333333</td>\n",
              "      <td>0.444444</td>\n",
              "      <td>1.0</td>\n",
              "      <td>0.750</td>\n",
              "      <td>0.0</td>\n",
              "      <td>0.0</td>\n",
              "      <td>0.0</td>\n",
              "      <td>0.727273</td>\n",
              "      <td>...</td>\n",
              "      <td>0.666667</td>\n",
              "      <td>0.000000</td>\n",
              "      <td>0.000</td>\n",
              "      <td>0.000</td>\n",
              "      <td>0.0</td>\n",
              "      <td>0.0</td>\n",
              "      <td>0.25</td>\n",
              "      <td>0.500</td>\n",
              "      <td>0.6</td>\n",
              "      <td>0.666667</td>\n",
              "    </tr>\n",
              "    <tr>\n",
              "      <th>4076</th>\n",
              "      <td>1.0</td>\n",
              "      <td>0.6</td>\n",
              "      <td>0.333333</td>\n",
              "      <td>0.777778</td>\n",
              "      <td>1.0</td>\n",
              "      <td>0.375</td>\n",
              "      <td>0.0</td>\n",
              "      <td>0.0</td>\n",
              "      <td>0.0</td>\n",
              "      <td>0.454545</td>\n",
              "      <td>...</td>\n",
              "      <td>0.000000</td>\n",
              "      <td>0.333333</td>\n",
              "      <td>0.000</td>\n",
              "      <td>0.000</td>\n",
              "      <td>0.0</td>\n",
              "      <td>0.0</td>\n",
              "      <td>0.75</td>\n",
              "      <td>0.375</td>\n",
              "      <td>0.8</td>\n",
              "      <td>0.500000</td>\n",
              "    </tr>\n",
              "    <tr>\n",
              "      <th>4100</th>\n",
              "      <td>0.0</td>\n",
              "      <td>0.0</td>\n",
              "      <td>0.333333</td>\n",
              "      <td>0.444444</td>\n",
              "      <td>1.0</td>\n",
              "      <td>0.750</td>\n",
              "      <td>0.0</td>\n",
              "      <td>0.0</td>\n",
              "      <td>0.0</td>\n",
              "      <td>0.727273</td>\n",
              "      <td>...</td>\n",
              "      <td>0.666667</td>\n",
              "      <td>0.000000</td>\n",
              "      <td>0.250</td>\n",
              "      <td>0.125</td>\n",
              "      <td>0.0</td>\n",
              "      <td>0.0</td>\n",
              "      <td>0.25</td>\n",
              "      <td>0.500</td>\n",
              "      <td>0.6</td>\n",
              "      <td>0.500000</td>\n",
              "    </tr>\n",
              "    <tr>\n",
              "      <th>4104</th>\n",
              "      <td>0.0</td>\n",
              "      <td>0.0</td>\n",
              "      <td>0.333333</td>\n",
              "      <td>0.000000</td>\n",
              "      <td>1.0</td>\n",
              "      <td>0.500</td>\n",
              "      <td>0.0</td>\n",
              "      <td>0.0</td>\n",
              "      <td>0.0</td>\n",
              "      <td>0.727273</td>\n",
              "      <td>...</td>\n",
              "      <td>0.000000</td>\n",
              "      <td>0.000000</td>\n",
              "      <td>0.250</td>\n",
              "      <td>0.125</td>\n",
              "      <td>0.0</td>\n",
              "      <td>0.0</td>\n",
              "      <td>0.25</td>\n",
              "      <td>0.500</td>\n",
              "      <td>0.6</td>\n",
              "      <td>1.000000</td>\n",
              "    </tr>\n",
              "  </tbody>\n",
              "</table>\n",
              "<p>5 rows × 22 columns</p>\n",
              "</div>\n",
              "      <button class=\"colab-df-convert\" onclick=\"convertToInteractive('df-fcae271b-6de1-4617-ad75-3d6a4856b234')\"\n",
              "              title=\"Convert this dataframe to an interactive table.\"\n",
              "              style=\"display:none;\">\n",
              "        \n",
              "  <svg xmlns=\"http://www.w3.org/2000/svg\" height=\"24px\"viewBox=\"0 0 24 24\"\n",
              "       width=\"24px\">\n",
              "    <path d=\"M0 0h24v24H0V0z\" fill=\"none\"/>\n",
              "    <path d=\"M18.56 5.44l.94 2.06.94-2.06 2.06-.94-2.06-.94-.94-2.06-.94 2.06-2.06.94zm-11 1L8.5 8.5l.94-2.06 2.06-.94-2.06-.94L8.5 2.5l-.94 2.06-2.06.94zm10 10l.94 2.06.94-2.06 2.06-.94-2.06-.94-.94-2.06-.94 2.06-2.06.94z\"/><path d=\"M17.41 7.96l-1.37-1.37c-.4-.4-.92-.59-1.43-.59-.52 0-1.04.2-1.43.59L10.3 9.45l-7.72 7.72c-.78.78-.78 2.05 0 2.83L4 21.41c.39.39.9.59 1.41.59.51 0 1.02-.2 1.41-.59l7.78-7.78 2.81-2.81c.8-.78.8-2.07 0-2.86zM5.41 20L4 18.59l7.72-7.72 1.47 1.35L5.41 20z\"/>\n",
              "  </svg>\n",
              "      </button>\n",
              "      \n",
              "  <style>\n",
              "    .colab-df-container {\n",
              "      display:flex;\n",
              "      flex-wrap:wrap;\n",
              "      gap: 12px;\n",
              "    }\n",
              "\n",
              "    .colab-df-convert {\n",
              "      background-color: #E8F0FE;\n",
              "      border: none;\n",
              "      border-radius: 50%;\n",
              "      cursor: pointer;\n",
              "      display: none;\n",
              "      fill: #1967D2;\n",
              "      height: 32px;\n",
              "      padding: 0 0 0 0;\n",
              "      width: 32px;\n",
              "    }\n",
              "\n",
              "    .colab-df-convert:hover {\n",
              "      background-color: #E2EBFA;\n",
              "      box-shadow: 0px 1px 2px rgba(60, 64, 67, 0.3), 0px 1px 3px 1px rgba(60, 64, 67, 0.15);\n",
              "      fill: #174EA6;\n",
              "    }\n",
              "\n",
              "    [theme=dark] .colab-df-convert {\n",
              "      background-color: #3B4455;\n",
              "      fill: #D2E3FC;\n",
              "    }\n",
              "\n",
              "    [theme=dark] .colab-df-convert:hover {\n",
              "      background-color: #434B5C;\n",
              "      box-shadow: 0px 1px 3px 1px rgba(0, 0, 0, 0.15);\n",
              "      filter: drop-shadow(0px 1px 2px rgba(0, 0, 0, 0.3));\n",
              "      fill: #FFFFFF;\n",
              "    }\n",
              "  </style>\n",
              "\n",
              "      <script>\n",
              "        const buttonEl =\n",
              "          document.querySelector('#df-fcae271b-6de1-4617-ad75-3d6a4856b234 button.colab-df-convert');\n",
              "        buttonEl.style.display =\n",
              "          google.colab.kernel.accessAllowed ? 'block' : 'none';\n",
              "\n",
              "        async function convertToInteractive(key) {\n",
              "          const element = document.querySelector('#df-fcae271b-6de1-4617-ad75-3d6a4856b234');\n",
              "          const dataTable =\n",
              "            await google.colab.kernel.invokeFunction('convertToInteractive',\n",
              "                                                     [key], {});\n",
              "          if (!dataTable) return;\n",
              "\n",
              "          const docLinkHtml = 'Like what you see? Visit the ' +\n",
              "            '<a target=\"_blank\" href=https://colab.research.google.com/notebooks/data_table.ipynb>data table notebook</a>'\n",
              "            + ' to learn more about interactive tables.';\n",
              "          element.innerHTML = '';\n",
              "          dataTable['output_type'] = 'display_data';\n",
              "          await google.colab.output.renderOutput(dataTable, element);\n",
              "          const docLink = document.createElement('div');\n",
              "          docLink.innerHTML = docLinkHtml;\n",
              "          element.appendChild(docLink);\n",
              "        }\n",
              "      </script>\n",
              "    </div>\n",
              "  </div>\n",
              "  "
            ]
          },
          "metadata": {},
          "execution_count": 50
        }
      ],
      "source": [
        "df_imputar = df_n_norm.iloc[index_nan[0]]\n",
        "df_imputar.head()"
      ]
    },
    {
      "cell_type": "markdown",
      "metadata": {
        "id": "lU58034m65aF"
      },
      "source": [
        "#### KNN"
      ]
    },
    {
      "cell_type": "markdown",
      "source": [
        "Se divide la base de datos en al atiqueta que será el dato a imputar y los atributos que se analizarán para encontrar el mejor dato faltante."
      ],
      "metadata": {
        "id": "sGShb0VLCOuw"
      }
    },
    {
      "cell_type": "code",
      "execution_count": 51,
      "metadata": {
        "id": "9_jLIkNX_rVP"
      },
      "outputs": [],
      "source": [
        "x_imp_train = np.asarray(df_train_imputar.drop(['stalk-root'], axis = 1))\n",
        "y_imp_train = np.asarray(df_train_imputar['stalk-root'])\n",
        "x_imp_train, y_imp_train = shuffle(x_imp_train, y_imp_train)"
      ]
    },
    {
      "cell_type": "markdown",
      "source": [
        "Se entrenan con diferentes valores de número de vecinos máximos"
      ],
      "metadata": {
        "id": "u3BB5HiTCOWr"
      }
    },
    {
      "cell_type": "code",
      "execution_count": 52,
      "metadata": {
        "id": "mqbvo_tO_rSY",
        "colab": {
          "base_uri": "https://localhost:8080/"
        },
        "outputId": "1462b58b-2468-46b8-cd0f-79261138c1e4"
      },
      "outputs": [
        {
          "output_type": "stream",
          "name": "stderr",
          "text": [
            "100%|██████████| 26/26 [1:43:02<00:00, 237.80s/it]"
          ]
        },
        {
          "output_type": "stream",
          "name": "stdout",
          "text": [
            "La mejor exactitud se obtiene con 5 vecinos.\n",
            "Con una exactitud de 0.23245924875974486\n"
          ]
        },
        {
          "output_type": "stream",
          "name": "stderr",
          "text": [
            "\n"
          ]
        }
      ],
      "source": [
        "e, me, mv = entrenamiento_KNN(x_imp_train, y_imp_train, 30)\n",
        "print(f'''La mejor exactitud se obtiene con {mv} vecinos.\n",
        "Con una exactitud de {me}''')"
      ]
    },
    {
      "cell_type": "code",
      "execution_count": 54,
      "metadata": {
        "id": "og878mx88_5n"
      },
      "outputs": [],
      "source": [
        "x_imputar = np.asarray(df_imputar.drop(['stalk-root'], axis = 1))"
      ]
    },
    {
      "cell_type": "code",
      "execution_count": 55,
      "metadata": {
        "id": "wcYh0Q4SAzKk",
        "colab": {
          "base_uri": "https://localhost:8080/"
        },
        "outputId": "4d1f15e3-7918-424a-8b94-0d83deb55fdd"
      },
      "outputs": [
        {
          "output_type": "stream",
          "name": "stderr",
          "text": [
            "100%|██████████| 2480/2480 [01:49<00:00, 22.71it/s]\n"
          ]
        }
      ],
      "source": [
        "faltantes_KNN = clasificar_KNN(x_imputar, x_imp_train, y_imp_train, 5)"
      ]
    },
    {
      "cell_type": "markdown",
      "metadata": {
        "id": "TVYBq1jClwYt"
      },
      "source": [
        "Agregar valores"
      ]
    },
    {
      "cell_type": "code",
      "execution_count": 56,
      "metadata": {
        "id": "wGt3rEcsmeUd"
      },
      "outputs": [],
      "source": [
        "df_knn_norm = df_n_norm.copy()"
      ]
    },
    {
      "cell_type": "code",
      "execution_count": 57,
      "metadata": {
        "id": "C7rvcd1umIDB"
      },
      "outputs": [],
      "source": [
        "for ind, val in zip(index_nan[0], faltantes_KNN):\n",
        "  df_knn_norm['stalk-root'][ind] = val"
      ]
    },
    {
      "cell_type": "markdown",
      "metadata": {
        "id": "flWmWS_2rbJJ"
      },
      "source": [
        "Análisis de imputación "
      ]
    },
    {
      "cell_type": "code",
      "execution_count": 58,
      "metadata": {
        "id": "aeeLnvejnyQ6",
        "colab": {
          "base_uri": "https://localhost:8080/"
        },
        "outputId": "4fcfa5df-98a2-4fff-9302-6c92cc22c995"
      },
      "outputs": [
        {
          "output_type": "execute_result",
          "data": {
            "text/plain": [
              "class                       1.000000\n",
              "cap-shape                   0.000000\n",
              "cap-surface                 0.333333\n",
              "cap-color                   0.666667\n",
              "bruises                     0.000000\n",
              "odor                        0.375000\n",
              "gill-attachment             0.000000\n",
              "gill-spacing                0.000000\n",
              "gill-size                   1.000000\n",
              "gill-color                  0.636364\n",
              "stalk-shape                 0.000000\n",
              "stalk-root                  0.000000\n",
              "stalk-surface-above-ring    0.000000\n",
              "stalk-surface-below-ring    0.000000\n",
              "stalk-color-above-ring      0.625000\n",
              "stalk-color-below-ring      0.000000\n",
              "veil-color                  0.000000\n",
              "ring-number                 0.500000\n",
              "ring-type                   0.250000\n",
              "spore-print-color           0.500000\n",
              "population                  1.000000\n",
              "habitat                     0.833333\n",
              "Name: 3984, dtype: float64"
            ]
          },
          "metadata": {},
          "execution_count": 58
        }
      ],
      "source": [
        "df_knn_norm.iloc[index_nan[0][0]]"
      ]
    },
    {
      "cell_type": "code",
      "execution_count": 59,
      "metadata": {
        "id": "sYE_88ZZoUEI",
        "colab": {
          "base_uri": "https://localhost:8080/"
        },
        "outputId": "8e95aade-ac74-419e-aba3-e0897f323968"
      },
      "outputs": [
        {
          "output_type": "execute_result",
          "data": {
            "text/plain": [
              "0.0"
            ]
          },
          "metadata": {},
          "execution_count": 59
        }
      ],
      "source": [
        "np.max(faltantes_KNN)"
      ]
    },
    {
      "cell_type": "code",
      "execution_count": 60,
      "metadata": {
        "id": "74I9ZSU_ub_N",
        "colab": {
          "base_uri": "https://localhost:8080/",
          "height": 386
        },
        "outputId": "8c56db3a-d825-4102-e042-c10ee6e770c0"
      },
      "outputs": [
        {
          "output_type": "execute_result",
          "data": {
            "text/plain": [
              "<seaborn.axisgrid.FacetGrid at 0x7f20af886750>"
            ]
          },
          "metadata": {},
          "execution_count": 60
        },
        {
          "output_type": "display_data",
          "data": {
            "text/plain": [
              "<Figure size 360x360 with 1 Axes>"
            ],
            "image/png": "[encoded data removed]"
          },
          "metadata": {
            "needs_background": "light"
          }
        }
      ],
      "source": [
        "sns.displot(df_knn_norm['stalk-root'])"
      ]
    },
    {
      "cell_type": "markdown",
      "metadata": {
        "id": "X4wxBwXIzUxW"
      },
      "source": [
        "#### Imputación por moda de clase"
      ]
    },
    {
      "cell_type": "markdown",
      "source": [
        "Ya que la imputación por KNN no funciono se intenta por la imputación por moda de clase "
      ],
      "metadata": {
        "id": "9018mVa8EQAD"
      }
    },
    {
      "cell_type": "code",
      "execution_count": 61,
      "metadata": {
        "id": "--aXyp7__rLZ"
      },
      "outputs": [],
      "source": [
        "index_clas_p = np.where(df['class'] == 'p')\n",
        "index_clas_e = np.where(df['class'] == 'e')"
      ]
    },
    {
      "cell_type": "code",
      "execution_count": 62,
      "metadata": {
        "id": "7MV7v5gd_rI8",
        "colab": {
          "base_uri": "https://localhost:8080/"
        },
        "outputId": "7f075efc-71ab-4df5-c1d3-6291c5d14326"
      },
      "outputs": [
        {
          "output_type": "stream",
          "name": "stdout",
          "text": [
            "b    1856\n",
            "e     256\n",
            "c      44\n",
            "Name: stalk-root, dtype: int64\n",
            "b    1920\n",
            "e     864\n",
            "c     512\n",
            "r     192\n",
            "Name: stalk-root, dtype: int64\n"
          ]
        }
      ],
      "source": [
        "df_clase_p = df.iloc[index_clas_p[0]]\n",
        "df_clase_e = df.iloc[index_clas_e[0]]\n",
        "imp_p = df_clase_p['stalk-root'].value_counts()\n",
        "imp_e = df_clase_e['stalk-root'].value_counts()\n",
        "\n",
        "print(imp_p)\n",
        "print(imp_e)"
      ]
    },
    {
      "cell_type": "markdown",
      "metadata": {
        "id": "oN7Z3ZcBXTJp"
      },
      "source": [
        "Como en ambas clases los valores que más se repiten es la observación b los valores, los valores faltantes se cambiaran por dicha observación. Que sería igual a la imputación por moda."
      ]
    },
    {
      "cell_type": "code",
      "execution_count": 63,
      "metadata": {
        "id": "VK1QkG11XSLR"
      },
      "outputs": [],
      "source": [
        "df_moda = df.copy()\n",
        "df_moda['stalk-root'] = df_moda['stalk-root'].fillna('b')"
      ]
    },
    {
      "cell_type": "markdown",
      "source": [
        "Se analíza la imputación realizada."
      ],
      "metadata": {
        "id": "e6ZPYu8CFJ-Q"
      }
    },
    {
      "cell_type": "code",
      "execution_count": 64,
      "metadata": {
        "id": "hlIRXTB6_q-i",
        "colab": {
          "base_uri": "https://localhost:8080/",
          "height": 386
        },
        "outputId": "512fbb72-3d39-4239-960f-d694b23d0cec"
      },
      "outputs": [
        {
          "output_type": "execute_result",
          "data": {
            "text/plain": [
              "<seaborn.axisgrid.FacetGrid at 0x7f20b0745d10>"
            ]
          },
          "metadata": {},
          "execution_count": 64
        },
        {
          "output_type": "display_data",
          "data": {
            "text/plain": [
              "<Figure size 360x360 with 1 Axes>"
            ],
            "image/png": "[encoded data removed]"
          },
          "metadata": {
            "needs_background": "light"
          }
        }
      ],
      "source": [
        "sns.displot(df['stalk-root'])"
      ]
    },
    {
      "cell_type": "code",
      "execution_count": 65,
      "metadata": {
        "id": "MF5HwUT_blaP",
        "colab": {
          "base_uri": "https://localhost:8080/",
          "height": 386
        },
        "outputId": "f1c51819-3d8d-42f8-c71b-0c5fa00af829"
      },
      "outputs": [
        {
          "output_type": "execute_result",
          "data": {
            "text/plain": [
              "<seaborn.axisgrid.FacetGrid at 0x7f20b0759210>"
            ]
          },
          "metadata": {},
          "execution_count": 65
        },
        {
          "output_type": "display_data",
          "data": {
            "text/plain": [
              "<Figure size 360x360 with 1 Axes>"
            ],
            "image/png": "[encoded data removed]"
          },
          "metadata": {
            "needs_background": "light"
          }
        }
      ],
      "source": [
        "sns.displot(df_moda['stalk-root'])"
      ]
    },
    {
      "cell_type": "markdown",
      "metadata": {
        "id": "35O5UpSs_qlE"
      },
      "source": [
        "### PCA"
      ]
    },
    {
      "cell_type": "markdown",
      "source": [
        "Se realiza un PCA para saber cuales son los atributos que nos brindan mayor información"
      ],
      "metadata": {
        "id": "M3qOXsGqGvph"
      }
    },
    {
      "cell_type": "code",
      "execution_count": 66,
      "metadata": {
        "id": "24geGTmVL25W",
        "colab": {
          "base_uri": "https://localhost:8080/",
          "height": 314
        },
        "outputId": "752b4761-dc78-4455-b957-cd5b5d95390a"
      },
      "outputs": [
        {
          "output_type": "execute_result",
          "data": {
            "text/plain": [
              "   cap-shape  cap-surface  cap-color   bruises      odor  gill-attachment  \\\n",
              "0  -0.327523    -0.323978  -0.232617 -0.584441 -0.448671        -0.025849   \n",
              "1  -0.327523    -0.323978  -0.121506 -0.584441 -0.323671        -0.025849   \n",
              "2  -0.127523    -0.323978  -0.010394 -0.584441 -0.198671        -0.025849   \n",
              "3  -0.327523     0.009355  -0.010394 -0.584441 -0.448671        -0.025849   \n",
              "4  -0.327523    -0.323978   0.100717  0.415559 -0.073671        -0.025849   \n",
              "\n",
              "   gill-spacing  gill-size  gill-color  stalk-shape  ...  \\\n",
              "0     -0.161497  -0.690793   -0.388568    -0.567208  ...   \n",
              "1     -0.161497   0.309207   -0.388568    -0.567208  ...   \n",
              "2     -0.161497   0.309207   -0.297659    -0.567208  ...   \n",
              "3     -0.161497  -0.690793   -0.297659    -0.567208  ...   \n",
              "4      0.838503   0.309207   -0.388568     0.432792  ...   \n",
              "\n",
              "   stalk-surface-above-ring  stalk-surface-below-ring  stalk-color-above-ring  \\\n",
              "0                 -0.220253                 -0.331528                -0.14371   \n",
              "1                 -0.220253                 -0.331528                -0.14371   \n",
              "2                 -0.220253                 -0.331528                -0.14371   \n",
              "3                 -0.220253                 -0.331528                -0.14371   \n",
              "4                 -0.220253                 -0.331528                -0.14371   \n",
              "\n",
              "   stalk-color-below-ring  veil-color  ring-number  ring-type  \\\n",
              "0               -0.132693   -0.012802    -0.041359  -0.174052   \n",
              "1               -0.132693   -0.012802    -0.041359  -0.174052   \n",
              "2               -0.132693   -0.012802    -0.041359  -0.174052   \n",
              "3               -0.132693   -0.012802    -0.041359  -0.174052   \n",
              "4               -0.132693   -0.012802    -0.041359   0.075948   \n",
              "\n",
              "   spore-print-color  population   habitat  \n",
              "0          -0.275111   -0.537568 -0.465780  \n",
              "1          -0.150111   -0.337568 -0.299114  \n",
              "2          -0.150111   -0.337568 -0.132447  \n",
              "3          -0.275111   -0.537568 -0.465780  \n",
              "4          -0.150111   -0.137568 -0.299114  \n",
              "\n",
              "[5 rows x 21 columns]"
            ],
            "text/html": [
              "\n",
              "  <div id=\"df-1e2a1daa-eee7-485c-9b0b-e2de5999a588\">\n",
              "    <div class=\"colab-df-container\">\n",
              "      <div>\n",
              "<style scoped>\n",
              "    .dataframe tbody tr th:only-of-type {\n",
              "        vertical-align: middle;\n",
              "    }\n",
              "\n",
              "    .dataframe tbody tr th {\n",
              "        vertical-align: top;\n",
              "    }\n",
              "\n",
              "    .dataframe thead th {\n",
              "        text-align: right;\n",
              "    }\n",
              "</style>\n",
              "<table border=\"1\" class=\"dataframe\">\n",
              "  <thead>\n",
              "    <tr style=\"text-align: right;\">\n",
              "      <th></th>\n",
              "      <th>cap-shape</th>\n",
              "      <th>cap-surface</th>\n",
              "      <th>cap-color</th>\n",
              "      <th>bruises</th>\n",
              "      <th>odor</th>\n",
              "      <th>gill-attachment</th>\n",
              "      <th>gill-spacing</th>\n",
              "      <th>gill-size</th>\n",
              "      <th>gill-color</th>\n",
              "      <th>stalk-shape</th>\n",
              "      <th>...</th>\n",
              "      <th>stalk-surface-above-ring</th>\n",
              "      <th>stalk-surface-below-ring</th>\n",
              "      <th>stalk-color-above-ring</th>\n",
              "      <th>stalk-color-below-ring</th>\n",
              "      <th>veil-color</th>\n",
              "      <th>ring-number</th>\n",
              "      <th>ring-type</th>\n",
              "      <th>spore-print-color</th>\n",
              "      <th>population</th>\n",
              "      <th>habitat</th>\n",
              "    </tr>\n",
              "  </thead>\n",
              "  <tbody>\n",
              "    <tr>\n",
              "      <th>0</th>\n",
              "      <td>-0.327523</td>\n",
              "      <td>-0.323978</td>\n",
              "      <td>-0.232617</td>\n",
              "      <td>-0.584441</td>\n",
              "      <td>-0.448671</td>\n",
              "      <td>-0.025849</td>\n",
              "      <td>-0.161497</td>\n",
              "      <td>-0.690793</td>\n",
              "      <td>-0.388568</td>\n",
              "      <td>-0.567208</td>\n",
              "      <td>...</td>\n",
              "      <td>-0.220253</td>\n",
              "      <td>-0.331528</td>\n",
              "      <td>-0.14371</td>\n",
              "      <td>-0.132693</td>\n",
              "      <td>-0.012802</td>\n",
              "      <td>-0.041359</td>\n",
              "      <td>-0.174052</td>\n",
              "      <td>-0.275111</td>\n",
              "      <td>-0.537568</td>\n",
              "      <td>-0.465780</td>\n",
              "    </tr>\n",
              "    <tr>\n",
              "      <th>1</th>\n",
              "      <td>-0.327523</td>\n",
              "      <td>-0.323978</td>\n",
              "      <td>-0.121506</td>\n",
              "      <td>-0.584441</td>\n",
              "      <td>-0.323671</td>\n",
              "      <td>-0.025849</td>\n",
              "      <td>-0.161497</td>\n",
              "      <td>0.309207</td>\n",
              "      <td>-0.388568</td>\n",
              "      <td>-0.567208</td>\n",
              "      <td>...</td>\n",
              "      <td>-0.220253</td>\n",
              "      <td>-0.331528</td>\n",
              "      <td>-0.14371</td>\n",
              "      <td>-0.132693</td>\n",
              "      <td>-0.012802</td>\n",
              "      <td>-0.041359</td>\n",
              "      <td>-0.174052</td>\n",
              "      <td>-0.150111</td>\n",
              "      <td>-0.337568</td>\n",
              "      <td>-0.299114</td>\n",
              "    </tr>\n",
              "    <tr>\n",
              "      <th>2</th>\n",
              "      <td>-0.127523</td>\n",
              "      <td>-0.323978</td>\n",
              "      <td>-0.010394</td>\n",
              "      <td>-0.584441</td>\n",
              "      <td>-0.198671</td>\n",
              "      <td>-0.025849</td>\n",
              "      <td>-0.161497</td>\n",
              "      <td>0.309207</td>\n",
              "      <td>-0.297659</td>\n",
              "      <td>-0.567208</td>\n",
              "      <td>...</td>\n",
              "      <td>-0.220253</td>\n",
              "      <td>-0.331528</td>\n",
              "      <td>-0.14371</td>\n",
              "      <td>-0.132693</td>\n",
              "      <td>-0.012802</td>\n",
              "      <td>-0.041359</td>\n",
              "      <td>-0.174052</td>\n",
              "      <td>-0.150111</td>\n",
              "      <td>-0.337568</td>\n",
              "      <td>-0.132447</td>\n",
              "    </tr>\n",
              "    <tr>\n",
              "      <th>3</th>\n",
              "      <td>-0.327523</td>\n",
              "      <td>0.009355</td>\n",
              "      <td>-0.010394</td>\n",
              "      <td>-0.584441</td>\n",
              "      <td>-0.448671</td>\n",
              "      <td>-0.025849</td>\n",
              "      <td>-0.161497</td>\n",
              "      <td>-0.690793</td>\n",
              "      <td>-0.297659</td>\n",
              "      <td>-0.567208</td>\n",
              "      <td>...</td>\n",
              "      <td>-0.220253</td>\n",
              "      <td>-0.331528</td>\n",
              "      <td>-0.14371</td>\n",
              "      <td>-0.132693</td>\n",
              "      <td>-0.012802</td>\n",
              "      <td>-0.041359</td>\n",
              "      <td>-0.174052</td>\n",
              "      <td>-0.275111</td>\n",
              "      <td>-0.537568</td>\n",
              "      <td>-0.465780</td>\n",
              "    </tr>\n",
              "    <tr>\n",
              "      <th>4</th>\n",
              "      <td>-0.327523</td>\n",
              "      <td>-0.323978</td>\n",
              "      <td>0.100717</td>\n",
              "      <td>0.415559</td>\n",
              "      <td>-0.073671</td>\n",
              "      <td>-0.025849</td>\n",
              "      <td>0.838503</td>\n",
              "      <td>0.309207</td>\n",
              "      <td>-0.388568</td>\n",
              "      <td>0.432792</td>\n",
              "      <td>...</td>\n",
              "      <td>-0.220253</td>\n",
              "      <td>-0.331528</td>\n",
              "      <td>-0.14371</td>\n",
              "      <td>-0.132693</td>\n",
              "      <td>-0.012802</td>\n",
              "      <td>-0.041359</td>\n",
              "      <td>0.075948</td>\n",
              "      <td>-0.150111</td>\n",
              "      <td>-0.137568</td>\n",
              "      <td>-0.299114</td>\n",
              "    </tr>\n",
              "  </tbody>\n",
              "</table>\n",
              "<p>5 rows × 21 columns</p>\n",
              "</div>\n",
              "      <button class=\"colab-df-convert\" onclick=\"convertToInteractive('df-1e2a1daa-eee7-485c-9b0b-e2de5999a588')\"\n",
              "              title=\"Convert this dataframe to an interactive table.\"\n",
              "              style=\"display:none;\">\n",
              "        \n",
              "  <svg xmlns=\"http://www.w3.org/2000/svg\" height=\"24px\"viewBox=\"0 0 24 24\"\n",
              "       width=\"24px\">\n",
              "    <path d=\"M0 0h24v24H0V0z\" fill=\"none\"/>\n",
              "    <path d=\"M18.56 5.44l.94 2.06.94-2.06 2.06-.94-2.06-.94-.94-2.06-.94 2.06-2.06.94zm-11 1L8.5 8.5l.94-2.06 2.06-.94-2.06-.94L8.5 2.5l-.94 2.06-2.06.94zm10 10l.94 2.06.94-2.06 2.06-.94-2.06-.94-.94-2.06-.94 2.06-2.06.94z\"/><path d=\"M17.41 7.96l-1.37-1.37c-.4-.4-.92-.59-1.43-.59-.52 0-1.04.2-1.43.59L10.3 9.45l-7.72 7.72c-.78.78-.78 2.05 0 2.83L4 21.41c.39.39.9.59 1.41.59.51 0 1.02-.2 1.41-.59l7.78-7.78 2.81-2.81c.8-.78.8-2.07 0-2.86zM5.41 20L4 18.59l7.72-7.72 1.47 1.35L5.41 20z\"/>\n",
              "  </svg>\n",
              "      </button>\n",
              "      \n",
              "  <style>\n",
              "    .colab-df-container {\n",
              "      display:flex;\n",
              "      flex-wrap:wrap;\n",
              "      gap: 12px;\n",
              "    }\n",
              "\n",
              "    .colab-df-convert {\n",
              "      background-color: #E8F0FE;\n",
              "      border: none;\n",
              "      border-radius: 50%;\n",
              "      cursor: pointer;\n",
              "      display: none;\n",
              "      fill: #1967D2;\n",
              "      height: 32px;\n",
              "      padding: 0 0 0 0;\n",
              "      width: 32px;\n",
              "    }\n",
              "\n",
              "    .colab-df-convert:hover {\n",
              "      background-color: #E2EBFA;\n",
              "      box-shadow: 0px 1px 2px rgba(60, 64, 67, 0.3), 0px 1px 3px 1px rgba(60, 64, 67, 0.15);\n",
              "      fill: #174EA6;\n",
              "    }\n",
              "\n",
              "    [theme=dark] .colab-df-convert {\n",
              "      background-color: #3B4455;\n",
              "      fill: #D2E3FC;\n",
              "    }\n",
              "\n",
              "    [theme=dark] .colab-df-convert:hover {\n",
              "      background-color: #434B5C;\n",
              "      box-shadow: 0px 1px 3px 1px rgba(0, 0, 0, 0.15);\n",
              "      filter: drop-shadow(0px 1px 2px rgba(0, 0, 0, 0.3));\n",
              "      fill: #FFFFFF;\n",
              "    }\n",
              "  </style>\n",
              "\n",
              "      <script>\n",
              "        const buttonEl =\n",
              "          document.querySelector('#df-1e2a1daa-eee7-485c-9b0b-e2de5999a588 button.colab-df-convert');\n",
              "        buttonEl.style.display =\n",
              "          google.colab.kernel.accessAllowed ? 'block' : 'none';\n",
              "\n",
              "        async function convertToInteractive(key) {\n",
              "          const element = document.querySelector('#df-1e2a1daa-eee7-485c-9b0b-e2de5999a588');\n",
              "          const dataTable =\n",
              "            await google.colab.kernel.invokeFunction('convertToInteractive',\n",
              "                                                     [key], {});\n",
              "          if (!dataTable) return;\n",
              "\n",
              "          const docLinkHtml = 'Like what you see? Visit the ' +\n",
              "            '<a target=\"_blank\" href=https://colab.research.google.com/notebooks/data_table.ipynb>data table notebook</a>'\n",
              "            + ' to learn more about interactive tables.';\n",
              "          element.innerHTML = '';\n",
              "          dataTable['output_type'] = 'display_data';\n",
              "          await google.colab.output.renderOutput(dataTable, element);\n",
              "          const docLink = document.createElement('div');\n",
              "          docLink.innerHTML = docLinkHtml;\n",
              "          element.appendChild(docLink);\n",
              "        }\n",
              "      </script>\n",
              "    </div>\n",
              "  </div>\n",
              "  "
            ]
          },
          "metadata": {},
          "execution_count": 66
        }
      ],
      "source": [
        "df_pca = df_n_norm.drop(['class'], axis = 1)\n",
        "df_pca -= df_pca.mean()\n",
        "df_pca.head()"
      ]
    },
    {
      "cell_type": "code",
      "execution_count": 67,
      "metadata": {
        "id": "xmqWCpX_XYE8"
      },
      "outputs": [],
      "source": [
        "m_covarianza = matriz_covarianza(df_pca)"
      ]
    },
    {
      "cell_type": "code",
      "execution_count": 68,
      "metadata": {
        "id": "xEJXoaS8XX_C",
        "colab": {
          "base_uri": "https://localhost:8080/"
        },
        "outputId": "d864d9f8-8e03-4f4f-c64a-f76cf7db575b"
      },
      "outputs": [
        {
          "output_type": "stream",
          "name": "stdout",
          "text": [
            "cap-shape: 27.33131629439478\n",
            "cap-surface: 19.116313398009613\n",
            "cap-color: 13.811856127134503\n",
            "bruises: 8.944489167827191\n",
            "odor: 6.278821265690815\n",
            "gill-attachment: 4.960805125956759\n",
            "gill-spacing: 3.73645496039574\n",
            "gill-size: 2.8141949653051843\n",
            "gill-color: 2.6157152649091286\n",
            "stalk-shape: 1.8624035422528316\n",
            "stalk-root: 1.7419561370568812\n",
            "stalk-surface-above-ring: 1.392171726558767\n",
            "stalk-surface-below-ring: 1.2151064285251587\n",
            "stalk-color-above-ring: 1.1125928392614262\n",
            "stalk-color-below-ring: 0.07656254940670525\n",
            "veil-color: 0.21498303357773432\n",
            "ring-number: 0.282237018154296\n",
            "ring-type: 0.7879038696485183\n",
            "spore-print-color: 0.47117519142587877\n",
            "population: 0.6488169142540722\n",
            "habitat: 0.5841241802540197\n"
          ]
        }
      ],
      "source": [
        "L, V = np.linalg.eig(m_covarianza)\n",
        "porcentajes = (L / L.sum()) * 100\n",
        "for col, por in zip(columnas[1:], porcentajes):\n",
        "  print(f'{col}: {por}')"
      ]
    },
    {
      "cell_type": "markdown",
      "source": [
        "Se realiza una suma de n número de atributos que contribuyen con más información para clasificar los hogos."
      ],
      "metadata": {
        "id": "Kysdit_mHVHf"
      }
    },
    {
      "cell_type": "code",
      "execution_count": 69,
      "metadata": {
        "id": "OHFLvOF1XX8M",
        "colab": {
          "base_uri": "https://localhost:8080/"
        },
        "outputId": "d9d44826-c700-49db-e32c-2c4bf9cf595a"
      },
      "outputs": [
        {
          "output_type": "execute_result",
          "data": {
            "text/plain": [
              "89.60996656962371"
            ]
          },
          "metadata": {},
          "execution_count": 69
        }
      ],
      "source": [
        "np.sum(porcentajes[0:9])"
      ]
    },
    {
      "cell_type": "code",
      "source": [
        "np.sum(porcentajes[0:6])"
      ],
      "metadata": {
        "colab": {
          "base_uri": "https://localhost:8080/"
        },
        "id": "Hbi4I5rQAbpG",
        "outputId": "975152ee-9998-483b-a365-41a0494cb358"
      },
      "execution_count": 70,
      "outputs": [
        {
          "output_type": "execute_result",
          "data": {
            "text/plain": [
              "80.44360137901364"
            ]
          },
          "metadata": {},
          "execution_count": 70
        }
      ]
    },
    {
      "cell_type": "markdown",
      "metadata": {
        "id": "H9kremz1mDcy"
      },
      "source": [
        "Se realiza un analisis de PCA con la base de datos original,antes de realizar la imputación, para saber si los valores de porcentaje de información cambian por debido a la imputación."
      ]
    },
    {
      "cell_type": "code",
      "execution_count": 71,
      "metadata": {
        "id": "Infg1SJdmI2H",
        "colab": {
          "base_uri": "https://localhost:8080/",
          "height": 314
        },
        "outputId": "586c3b6e-5631-4b55-b7e8-25b30ba40b26"
      },
      "outputs": [
        {
          "output_type": "execute_result",
          "data": {
            "text/plain": [
              "   cap-shape  cap-surface  cap-color   bruises      odor  gill-attachment  \\\n",
              "0   -0.27725    -0.386960  -0.232459 -0.435861 -0.378987        -0.003189   \n",
              "1   -0.27725    -0.386960  -0.121348 -0.435861 -0.253987        -0.003189   \n",
              "2   -0.07725    -0.386960  -0.010237 -0.435861 -0.128987        -0.003189   \n",
              "3   -0.27725    -0.053626  -0.010237 -0.435861 -0.378987        -0.003189   \n",
              "4   -0.27725    -0.386960   0.100874  0.564139 -0.003987        -0.003189   \n",
              "\n",
              "   gill-spacing  gill-size  gill-color  stalk-shape  ...  \\\n",
              "0     -0.181432  -0.875266   -0.277495    -0.510276  ...   \n",
              "1     -0.181432   0.124734   -0.277495    -0.510276  ...   \n",
              "2     -0.181432   0.124734   -0.186586    -0.510276  ...   \n",
              "3     -0.181432  -0.875266   -0.186586    -0.510276  ...   \n",
              "4      0.818568   0.124734   -0.277495     0.489724  ...   \n",
              "\n",
              "   stalk-surface-above-ring  stalk-surface-below-ring  stalk-color-above-ring  \\\n",
              "0                 -0.194189                 -0.291991               -0.132442   \n",
              "1                 -0.194189                 -0.291991               -0.132442   \n",
              "2                 -0.194189                 -0.291991               -0.132442   \n",
              "3                 -0.194189                 -0.291991               -0.132442   \n",
              "4                 -0.194189                 -0.291991               -0.132442   \n",
              "\n",
              "   stalk-color-below-ring  veil-color  ring-number  ring-type  \\\n",
              "0               -0.127923   -0.001417    -0.017009   -0.15769   \n",
              "1               -0.127923   -0.001417    -0.017009   -0.15769   \n",
              "2               -0.127923   -0.001417    -0.017009   -0.15769   \n",
              "3               -0.127923   -0.001417    -0.017009   -0.15769   \n",
              "4               -0.127923   -0.001417    -0.017009    0.09231   \n",
              "\n",
              "   spore-print-color  population   habitat  \n",
              "0          -0.170978   -0.514387 -0.371368  \n",
              "1          -0.045978   -0.314387 -0.204701  \n",
              "2          -0.045978   -0.314387 -0.038034  \n",
              "3          -0.170978   -0.514387 -0.371368  \n",
              "4          -0.045978   -0.114387 -0.204701  \n",
              "\n",
              "[5 rows x 21 columns]"
            ],
            "text/html": [
              "\n",
              "  <div id=\"df-14fecb36-06ad-4e87-b981-e5fc49238b0b\">\n",
              "    <div class=\"colab-df-container\">\n",
              "      <div>\n",
              "<style scoped>\n",
              "    .dataframe tbody tr th:only-of-type {\n",
              "        vertical-align: middle;\n",
              "    }\n",
              "\n",
              "    .dataframe tbody tr th {\n",
              "        vertical-align: top;\n",
              "    }\n",
              "\n",
              "    .dataframe thead th {\n",
              "        text-align: right;\n",
              "    }\n",
              "</style>\n",
              "<table border=\"1\" class=\"dataframe\">\n",
              "  <thead>\n",
              "    <tr style=\"text-align: right;\">\n",
              "      <th></th>\n",
              "      <th>cap-shape</th>\n",
              "      <th>cap-surface</th>\n",
              "      <th>cap-color</th>\n",
              "      <th>bruises</th>\n",
              "      <th>odor</th>\n",
              "      <th>gill-attachment</th>\n",
              "      <th>gill-spacing</th>\n",
              "      <th>gill-size</th>\n",
              "      <th>gill-color</th>\n",
              "      <th>stalk-shape</th>\n",
              "      <th>...</th>\n",
              "      <th>stalk-surface-above-ring</th>\n",
              "      <th>stalk-surface-below-ring</th>\n",
              "      <th>stalk-color-above-ring</th>\n",
              "      <th>stalk-color-below-ring</th>\n",
              "      <th>veil-color</th>\n",
              "      <th>ring-number</th>\n",
              "      <th>ring-type</th>\n",
              "      <th>spore-print-color</th>\n",
              "      <th>population</th>\n",
              "      <th>habitat</th>\n",
              "    </tr>\n",
              "  </thead>\n",
              "  <tbody>\n",
              "    <tr>\n",
              "      <th>0</th>\n",
              "      <td>-0.27725</td>\n",
              "      <td>-0.386960</td>\n",
              "      <td>-0.232459</td>\n",
              "      <td>-0.435861</td>\n",
              "      <td>-0.378987</td>\n",
              "      <td>-0.003189</td>\n",
              "      <td>-0.181432</td>\n",
              "      <td>-0.875266</td>\n",
              "      <td>-0.277495</td>\n",
              "      <td>-0.510276</td>\n",
              "      <td>...</td>\n",
              "      <td>-0.194189</td>\n",
              "      <td>-0.291991</td>\n",
              "      <td>-0.132442</td>\n",
              "      <td>-0.127923</td>\n",
              "      <td>-0.001417</td>\n",
              "      <td>-0.017009</td>\n",
              "      <td>-0.15769</td>\n",
              "      <td>-0.170978</td>\n",
              "      <td>-0.514387</td>\n",
              "      <td>-0.371368</td>\n",
              "    </tr>\n",
              "    <tr>\n",
              "      <th>1</th>\n",
              "      <td>-0.27725</td>\n",
              "      <td>-0.386960</td>\n",
              "      <td>-0.121348</td>\n",
              "      <td>-0.435861</td>\n",
              "      <td>-0.253987</td>\n",
              "      <td>-0.003189</td>\n",
              "      <td>-0.181432</td>\n",
              "      <td>0.124734</td>\n",
              "      <td>-0.277495</td>\n",
              "      <td>-0.510276</td>\n",
              "      <td>...</td>\n",
              "      <td>-0.194189</td>\n",
              "      <td>-0.291991</td>\n",
              "      <td>-0.132442</td>\n",
              "      <td>-0.127923</td>\n",
              "      <td>-0.001417</td>\n",
              "      <td>-0.017009</td>\n",
              "      <td>-0.15769</td>\n",
              "      <td>-0.045978</td>\n",
              "      <td>-0.314387</td>\n",
              "      <td>-0.204701</td>\n",
              "    </tr>\n",
              "    <tr>\n",
              "      <th>2</th>\n",
              "      <td>-0.07725</td>\n",
              "      <td>-0.386960</td>\n",
              "      <td>-0.010237</td>\n",
              "      <td>-0.435861</td>\n",
              "      <td>-0.128987</td>\n",
              "      <td>-0.003189</td>\n",
              "      <td>-0.181432</td>\n",
              "      <td>0.124734</td>\n",
              "      <td>-0.186586</td>\n",
              "      <td>-0.510276</td>\n",
              "      <td>...</td>\n",
              "      <td>-0.194189</td>\n",
              "      <td>-0.291991</td>\n",
              "      <td>-0.132442</td>\n",
              "      <td>-0.127923</td>\n",
              "      <td>-0.001417</td>\n",
              "      <td>-0.017009</td>\n",
              "      <td>-0.15769</td>\n",
              "      <td>-0.045978</td>\n",
              "      <td>-0.314387</td>\n",
              "      <td>-0.038034</td>\n",
              "    </tr>\n",
              "    <tr>\n",
              "      <th>3</th>\n",
              "      <td>-0.27725</td>\n",
              "      <td>-0.053626</td>\n",
              "      <td>-0.010237</td>\n",
              "      <td>-0.435861</td>\n",
              "      <td>-0.378987</td>\n",
              "      <td>-0.003189</td>\n",
              "      <td>-0.181432</td>\n",
              "      <td>-0.875266</td>\n",
              "      <td>-0.186586</td>\n",
              "      <td>-0.510276</td>\n",
              "      <td>...</td>\n",
              "      <td>-0.194189</td>\n",
              "      <td>-0.291991</td>\n",
              "      <td>-0.132442</td>\n",
              "      <td>-0.127923</td>\n",
              "      <td>-0.001417</td>\n",
              "      <td>-0.017009</td>\n",
              "      <td>-0.15769</td>\n",
              "      <td>-0.170978</td>\n",
              "      <td>-0.514387</td>\n",
              "      <td>-0.371368</td>\n",
              "    </tr>\n",
              "    <tr>\n",
              "      <th>4</th>\n",
              "      <td>-0.27725</td>\n",
              "      <td>-0.386960</td>\n",
              "      <td>0.100874</td>\n",
              "      <td>0.564139</td>\n",
              "      <td>-0.003987</td>\n",
              "      <td>-0.003189</td>\n",
              "      <td>0.818568</td>\n",
              "      <td>0.124734</td>\n",
              "      <td>-0.277495</td>\n",
              "      <td>0.489724</td>\n",
              "      <td>...</td>\n",
              "      <td>-0.194189</td>\n",
              "      <td>-0.291991</td>\n",
              "      <td>-0.132442</td>\n",
              "      <td>-0.127923</td>\n",
              "      <td>-0.001417</td>\n",
              "      <td>-0.017009</td>\n",
              "      <td>0.09231</td>\n",
              "      <td>-0.045978</td>\n",
              "      <td>-0.114387</td>\n",
              "      <td>-0.204701</td>\n",
              "    </tr>\n",
              "  </tbody>\n",
              "</table>\n",
              "<p>5 rows × 21 columns</p>\n",
              "</div>\n",
              "      <button class=\"colab-df-convert\" onclick=\"convertToInteractive('df-14fecb36-06ad-4e87-b981-e5fc49238b0b')\"\n",
              "              title=\"Convert this dataframe to an interactive table.\"\n",
              "              style=\"display:none;\">\n",
              "        \n",
              "  <svg xmlns=\"http://www.w3.org/2000/svg\" height=\"24px\"viewBox=\"0 0 24 24\"\n",
              "       width=\"24px\">\n",
              "    <path d=\"M0 0h24v24H0V0z\" fill=\"none\"/>\n",
              "    <path d=\"M18.56 5.44l.94 2.06.94-2.06 2.06-.94-2.06-.94-.94-2.06-.94 2.06-2.06.94zm-11 1L8.5 8.5l.94-2.06 2.06-.94-2.06-.94L8.5 2.5l-.94 2.06-2.06.94zm10 10l.94 2.06.94-2.06 2.06-.94-2.06-.94-.94-2.06-.94 2.06-2.06.94z\"/><path d=\"M17.41 7.96l-1.37-1.37c-.4-.4-.92-.59-1.43-.59-.52 0-1.04.2-1.43.59L10.3 9.45l-7.72 7.72c-.78.78-.78 2.05 0 2.83L4 21.41c.39.39.9.59 1.41.59.51 0 1.02-.2 1.41-.59l7.78-7.78 2.81-2.81c.8-.78.8-2.07 0-2.86zM5.41 20L4 18.59l7.72-7.72 1.47 1.35L5.41 20z\"/>\n",
              "  </svg>\n",
              "      </button>\n",
              "      \n",
              "  <style>\n",
              "    .colab-df-container {\n",
              "      display:flex;\n",
              "      flex-wrap:wrap;\n",
              "      gap: 12px;\n",
              "    }\n",
              "\n",
              "    .colab-df-convert {\n",
              "      background-color: #E8F0FE;\n",
              "      border: none;\n",
              "      border-radius: 50%;\n",
              "      cursor: pointer;\n",
              "      display: none;\n",
              "      fill: #1967D2;\n",
              "      height: 32px;\n",
              "      padding: 0 0 0 0;\n",
              "      width: 32px;\n",
              "    }\n",
              "\n",
              "    .colab-df-convert:hover {\n",
              "      background-color: #E2EBFA;\n",
              "      box-shadow: 0px 1px 2px rgba(60, 64, 67, 0.3), 0px 1px 3px 1px rgba(60, 64, 67, 0.15);\n",
              "      fill: #174EA6;\n",
              "    }\n",
              "\n",
              "    [theme=dark] .colab-df-convert {\n",
              "      background-color: #3B4455;\n",
              "      fill: #D2E3FC;\n",
              "    }\n",
              "\n",
              "    [theme=dark] .colab-df-convert:hover {\n",
              "      background-color: #434B5C;\n",
              "      box-shadow: 0px 1px 3px 1px rgba(0, 0, 0, 0.15);\n",
              "      filter: drop-shadow(0px 1px 2px rgba(0, 0, 0, 0.3));\n",
              "      fill: #FFFFFF;\n",
              "    }\n",
              "  </style>\n",
              "\n",
              "      <script>\n",
              "        const buttonEl =\n",
              "          document.querySelector('#df-14fecb36-06ad-4e87-b981-e5fc49238b0b button.colab-df-convert');\n",
              "        buttonEl.style.display =\n",
              "          google.colab.kernel.accessAllowed ? 'block' : 'none';\n",
              "\n",
              "        async function convertToInteractive(key) {\n",
              "          const element = document.querySelector('#df-14fecb36-06ad-4e87-b981-e5fc49238b0b');\n",
              "          const dataTable =\n",
              "            await google.colab.kernel.invokeFunction('convertToInteractive',\n",
              "                                                     [key], {});\n",
              "          if (!dataTable) return;\n",
              "\n",
              "          const docLinkHtml = 'Like what you see? Visit the ' +\n",
              "            '<a target=\"_blank\" href=https://colab.research.google.com/notebooks/data_table.ipynb>data table notebook</a>'\n",
              "            + ' to learn more about interactive tables.';\n",
              "          element.innerHTML = '';\n",
              "          dataTable['output_type'] = 'display_data';\n",
              "          await google.colab.output.renderOutput(dataTable, element);\n",
              "          const docLink = document.createElement('div');\n",
              "          docLink.innerHTML = docLinkHtml;\n",
              "          element.appendChild(docLink);\n",
              "        }\n",
              "      </script>\n",
              "    </div>\n",
              "  </div>\n",
              "  "
            ]
          },
          "metadata": {},
          "execution_count": 71
        }
      ],
      "source": [
        "df_pca = df_train_imputar.drop(['class'], axis = 1)\n",
        "df_pca -= df_pca.mean()\n",
        "df_pca.head()"
      ]
    },
    {
      "cell_type": "code",
      "execution_count": 72,
      "metadata": {
        "id": "U26kLV_FmQxz"
      },
      "outputs": [],
      "source": [
        "m_covarianza = matriz_covarianza(df_pca)"
      ]
    },
    {
      "cell_type": "code",
      "execution_count": 73,
      "metadata": {
        "id": "i6XVWBzRmQpb",
        "colab": {
          "base_uri": "https://localhost:8080/"
        },
        "outputId": "1773c64d-6a3b-4158-ec9e-244a62d7623c"
      },
      "outputs": [
        {
          "output_type": "stream",
          "name": "stdout",
          "text": [
            "cap-shape: 37.05355803765021\n",
            "cap-surface: 19.47601531310546\n",
            "cap-color: 14.233990258464713\n",
            "bruises: 6.611456693424127\n",
            "odor: 5.225146073849783\n",
            "gill-attachment: 3.404196603639504\n",
            "gill-spacing: 2.749174442501957\n",
            "gill-size: 2.1728129003900856\n",
            "gill-color: 1.846506681987019\n",
            "stalk-shape: 1.4883975583761133\n",
            "stalk-root: 1.340683456352985\n",
            "stalk-surface-above-ring: 1.2635620199958801\n",
            "stalk-surface-below-ring: 0.885047701869876\n",
            "stalk-color-above-ring: 0.6403216530471578\n",
            "stalk-color-below-ring: 0.49388557078118955\n",
            "veil-color: 0.42701964717774976\n",
            "ring-number: 0.2792079209573595\n",
            "ring-type: 0.15817729319928148\n",
            "spore-print-color: 0.051511615515568925\n",
            "population: 0.09079937945633411\n",
            "habitat: 0.10852917825765208\n"
          ]
        }
      ],
      "source": [
        "L, V = np.linalg.eig(m_covarianza)\n",
        "porcentajes = (L / L.sum()) * 100\n",
        "for col, por in zip(columnas[1:], porcentajes):\n",
        "  print(f'{col}: {por}')"
      ]
    },
    {
      "cell_type": "code",
      "execution_count": 74,
      "metadata": {
        "id": "NTNkj8G0nGZ2",
        "colab": {
          "base_uri": "https://localhost:8080/"
        },
        "outputId": "1a3397fa-8ed0-49c0-daf4-a494edd5de85"
      },
      "outputs": [
        {
          "output_type": "execute_result",
          "data": {
            "text/plain": [
              "92.77285700501287"
            ]
          },
          "metadata": {},
          "execution_count": 74
        }
      ],
      "source": [
        "np.sum(porcentajes[0:9])"
      ]
    },
    {
      "cell_type": "markdown",
      "metadata": {
        "id": "ExINZ9b5t0hJ"
      },
      "source": [
        "Después de realizar un análisis de componentes principales se determino que solo se iban a trabajar con los siguientesatributos:\n",
        "* cap-shape\n",
        "* cap-surface\n",
        "* cap-color\n",
        "* bruises\n",
        "* odor\n",
        "* gill-attachment\n",
        "* gill-spacing\n",
        "* gill-size\n",
        "* gill-color\n",
        "\n",
        "Como se puede observar, el atributo en el cual se realizó la imputación no será ocupado para la clasificación, de forma que la imputación no sesgará la clasificación."
      ]
    },
    {
      "cell_type": "code",
      "execution_count": 75,
      "metadata": {
        "id": "j5R2DxD5v3iF"
      },
      "outputs": [],
      "source": [
        "x_clasificar = np.asarray(df[columnas[1:10]])\n",
        "y_clasificar = np.asarray(df['class'])\n",
        "x_norm_clasificar = np.asarray(df_n_norm[columnas[1:10]])\n",
        "y_norm_clasificar = np.asarray(df_n_norm['class'])\n",
        "x_n_clasificar = np.asarray(df_n[columnas[1:10]])\n",
        "y_n_clasificar = np.asarray(df_n['class'])"
      ]
    },
    {
      "cell_type": "code",
      "source": [
        "x_clasificar_df = df[columnas[1:10]]\n",
        "y_clasificar_df = df['class']"
      ],
      "metadata": {
        "id": "IHkWO4IIIwMw"
      },
      "execution_count": 76,
      "outputs": []
    },
    {
      "cell_type": "markdown",
      "metadata": {
        "id": "jQSRTR9qtu5d"
      },
      "source": [
        "## Clasificación"
      ]
    },
    {
      "cell_type": "code",
      "execution_count": 77,
      "metadata": {
        "id": "AtK2QwZXtujw"
      },
      "outputs": [],
      "source": [
        "x_train, x_test, y_train, y_test = split_80_20(x_clasificar, y_clasificar)\n",
        "x_train_norm, x_test_norm, y_train_norm, y_test_norm = split_80_20(x_norm_clasificar, y_norm_clasificar)\n",
        "x_train_n, x_test_n, y_train_n, y_test_n = split_80_20(x_n_clasificar, y_n_clasificar)"
      ]
    },
    {
      "cell_type": "code",
      "source": [
        "x_train_df, x_test_df, y_train_df, y_test_df = split_80_20_df(x_clasificar_df, y_clasificar_df)"
      ],
      "metadata": {
        "id": "ZLoOMNZRI7yB"
      },
      "execution_count": 78,
      "outputs": []
    },
    {
      "cell_type": "markdown",
      "metadata": {
        "id": "_qux4v_hK-oZ"
      },
      "source": [
        "#### MLP"
      ]
    },
    {
      "cell_type": "code",
      "execution_count": 79,
      "metadata": {
        "id": "f8V4IADDxfQl"
      },
      "outputs": [],
      "source": [
        "# Funciones de activación\n",
        "sigmoide = lambda x: 1 / (1 + np.e ** (-x))\n",
        "sigmoide_derivada = lambda x: x * (1 - x)\n",
        "relu = lambda x: x if x > 0 else 0\n",
        "relu_derivada = lambda x: 0 if x <= 0 else x"
      ]
    },
    {
      "cell_type": "code",
      "execution_count": 80,
      "metadata": {
        "id": "JItn65HRx0Bu"
      },
      "outputs": [],
      "source": [
        "# Funciones de coste\n",
        "l2 = lambda y, y1: np.mean((y - y1) ** 2)\n",
        "l2_derivada = lambda y, y1: (y - y1)"
      ]
    },
    {
      "cell_type": "code",
      "execution_count": 81,
      "metadata": {
        "id": "YxX3541-xz77"
      },
      "outputs": [],
      "source": [
        "learning_rate = 5e-2\n",
        "epocas_entrenamiento = 30000\n",
        "neuronas_por_capa = [9, 6, 3, 2]"
      ]
    },
    {
      "cell_type": "code",
      "execution_count": 82,
      "metadata": {
        "id": "nlD1jRgTRuEd"
      },
      "outputs": [],
      "source": [
        "y_mlp_train = to_categorical(y_train_norm)"
      ]
    },
    {
      "cell_type": "code",
      "source": [
        "y_mlp_test = to_categorical(y_test_norm)"
      ],
      "metadata": {
        "id": "RqGonwNLOxet"
      },
      "execution_count": 98,
      "outputs": []
    },
    {
      "cell_type": "code",
      "execution_count": 83,
      "metadata": {
        "id": "98kxtnQiSvR6",
        "colab": {
          "base_uri": "https://localhost:8080/"
        },
        "outputId": "4343f177-4960-4c94-9eba-900275266d0b"
      },
      "outputs": [
        {
          "output_type": "execute_result",
          "data": {
            "text/plain": [
              "array([[0., 1.],\n",
              "       [0., 1.],\n",
              "       [1., 0.],\n",
              "       ...,\n",
              "       [1., 0.],\n",
              "       [1., 0.],\n",
              "       [0., 1.]], dtype=float32)"
            ]
          },
          "metadata": {},
          "execution_count": 83
        }
      ],
      "source": [
        "y_mlp_train"
      ]
    },
    {
      "cell_type": "code",
      "execution_count": 84,
      "metadata": {
        "id": "DfKsL8vGx_sF"
      },
      "outputs": [],
      "source": [
        "red_neuronal = compilar_red(neuronas_por_capa, sigmoide)"
      ]
    },
    {
      "cell_type": "markdown",
      "metadata": {
        "id": "utcf9yw9xzsf"
      },
      "source": [
        "##### Entrenamineto"
      ]
    },
    {
      "cell_type": "code",
      "execution_count": 85,
      "metadata": {
        "id": "v8GmjSH-TnwI",
        "colab": {
          "base_uri": "https://localhost:8080/"
        },
        "outputId": "bdd08dec-d6ab-4cb9-8d0d-1ac4f5e8b9f2"
      },
      "outputs": [
        {
          "output_type": "stream",
          "name": "stderr",
          "text": [
            "100%|██████████| 30000/30000 [04:49<00:00, 103.71it/s]\n"
          ]
        }
      ],
      "source": [
        "historial_l2 = []\n",
        "for i in tqdm(range(epocas_entrenamiento)):\n",
        "  y_entrenamiento_1 = entrenar_red(x_train_norm, y_mlp_train, red_neuronal, sigmoide_derivada,\n",
        "                           l2_derivada)\n",
        "  historial_l2.append(l2(y_entrenamiento_1, y_mlp_train))"
      ]
    },
    {
      "cell_type": "code",
      "execution_count": 86,
      "metadata": {
        "id": "0VOnQ_N6TnoU"
      },
      "outputs": [],
      "source": [
        "y_entrenamiento_1 = np.round(y_entrenamiento_1)"
      ]
    },
    {
      "cell_type": "code",
      "execution_count": 87,
      "metadata": {
        "id": "mcEil9i2vhoQ",
        "colab": {
          "base_uri": "https://localhost:8080/"
        },
        "outputId": "348df7b2-0abd-42de-ff24-643fa0e0b087"
      },
      "outputs": [
        {
          "output_type": "stream",
          "name": "stdout",
          "text": [
            "Se obtuvo 69.04615384615384% de precisión con un total de 2012 errores.\n"
          ]
        }
      ],
      "source": [
        "num_errores, por100 = precision_mlp(y_entrenamiento_1, y_mlp_train)\n",
        "print(f'Se obtuvo {100-por100}% de precisión con un total de {num_errores} errores.')"
      ]
    },
    {
      "cell_type": "code",
      "execution_count": 88,
      "metadata": {
        "id": "3KfzZXHwv6vt",
        "colab": {
          "base_uri": "https://localhost:8080/",
          "height": 282
        },
        "outputId": "cd821636-3f6c-4aa7-eb50-1f83db884da2"
      },
      "outputs": [
        {
          "output_type": "execute_result",
          "data": {
            "text/plain": [
              "<function matplotlib.pyplot.show>"
            ]
          },
          "metadata": {},
          "execution_count": 88
        },
        {
          "output_type": "display_data",
          "data": {
            "text/plain": [
              "<Figure size 432x288 with 1 Axes>"
            ],
            "image/png": "[encoded data removed]"
          },
          "metadata": {
            "needs_background": "light"
          }
        }
      ],
      "source": [
        "plt.plot(historial_l2)\n",
        "plt.show"
      ]
    },
    {
      "cell_type": "code",
      "source": [
        "y_predict_m = predecir(x_test_norm, red_neuronal)\n",
        "np.round(y_predict_m)"
      ],
      "metadata": {
        "colab": {
          "base_uri": "https://localhost:8080/"
        },
        "id": "atXc2G9VN5bM",
        "outputId": "4fcbed0a-1ae2-402b-d050-3d92dbf919e8"
      },
      "execution_count": 97,
      "outputs": [
        {
          "output_type": "execute_result",
          "data": {
            "text/plain": [
              "array([[1., 0.],\n",
              "       [1., 0.],\n",
              "       [0., 1.],\n",
              "       ...,\n",
              "       [0., 1.],\n",
              "       [1., 0.],\n",
              "       [1., 0.]])"
            ]
          },
          "metadata": {},
          "execution_count": 97
        }
      ]
    },
    {
      "cell_type": "code",
      "source": [
        "num_errores, por100 = precision_mlp(y_predict_m, y_mlp_test)\n",
        "print(f'Se obtuvo {100-por100}% de precisión con un total de {num_errores} errores.')"
      ],
      "metadata": {
        "colab": {
          "base_uri": "https://localhost:8080/"
        },
        "id": "TvRVltFfOfow",
        "outputId": "354159e1-73ea-440e-bed3-7aef661fd1f0"
      },
      "execution_count": 99,
      "outputs": [
        {
          "output_type": "stream",
          "name": "stdout",
          "text": [
            "Se obtuvo 66.7487684729064% de precisión con un total de 540 errores.\n"
          ]
        }
      ]
    },
    {
      "cell_type": "markdown",
      "metadata": {
        "id": "9pcUNs80vfZp"
      },
      "source": [
        "#### KNN"
      ]
    },
    {
      "cell_type": "markdown",
      "source": [
        "##### Entrenamiento"
      ],
      "metadata": {
        "id": "V2IZw97uMskb"
      }
    },
    {
      "cell_type": "code",
      "execution_count": 89,
      "metadata": {
        "id": "jgbq3O7bGcjB",
        "colab": {
          "base_uri": "https://localhost:8080/"
        },
        "outputId": "4702e888-9d62-4ee8-dab0-8b6acec08dc0"
      },
      "outputs": [
        {
          "output_type": "stream",
          "name": "stderr",
          "text": [
            "100%|██████████| 28/28 [2:01:01<00:00, 259.35s/it]"
          ]
        },
        {
          "output_type": "stream",
          "name": "stdout",
          "text": [
            "La mejor exactitud se obtiene con 4 vecinos.\n",
            "Con una exactitud de 0.9969230769230769\n"
          ]
        },
        {
          "output_type": "stream",
          "name": "stderr",
          "text": [
            "\n"
          ]
        }
      ],
      "source": [
        "e, me, mv = entrenamiento_KNN(x_train_n, y_train_n, 30)\n",
        "print(f'''La mejor exactitud se obtiene con {mv} vecinos.\n",
        "Con una exactitud de {me}''')"
      ]
    },
    {
      "cell_type": "code",
      "execution_count": 90,
      "metadata": {
        "id": "4vKJ_ovuGcgI",
        "colab": {
          "base_uri": "https://localhost:8080/",
          "height": 296
        },
        "outputId": "07e93b26-d466-4c89-cf7b-f2d1f0998033"
      },
      "outputs": [
        {
          "output_type": "execute_result",
          "data": {
            "text/plain": [
              "Text(0, 0.5, 'Exactitud')"
            ]
          },
          "metadata": {},
          "execution_count": 90
        },
        {
          "output_type": "display_data",
          "data": {
            "text/plain": [
              "<Figure size 432x288 with 1 Axes>"
            ],
            "image/png": "[encoded data removed]"
          },
          "metadata": {
            "needs_background": "light"
          }
        }
      ],
      "source": [
        "plt.figure()\n",
        "plt.plot(np.arange(3, 31), e)\n",
        "plt.grid(True)\n",
        "plt.xlabel('Número de vecinos')\n",
        "plt.ylabel('Exactitud')"
      ]
    },
    {
      "cell_type": "code",
      "source": [
        "y_clas_train_knn = clasificar_KNN(x_train_n, x_train_n, y_train_n, mv)"
      ],
      "metadata": {
        "colab": {
          "base_uri": "https://localhost:8080/"
        },
        "id": "bEnLDCPFYXY6",
        "outputId": "ad2eab3b-b45b-4087-9b80-a571b556d252"
      },
      "execution_count": 103,
      "outputs": [
        {
          "output_type": "stream",
          "name": "stderr",
          "text": [
            "100%|██████████| 6500/6500 [05:27<00:00, 19.86it/s]\n"
          ]
        }
      ]
    },
    {
      "cell_type": "code",
      "source": [
        "exactitud_train = exactitud(y_clas_train_knn, y_train_n)\n",
        "error_cuad_train = MSE(y_train_n, y_clas_train_knn)\n",
        "precision_train = precision(y_clas_train_knn, y_train_n)\n",
        "sensitividad_train = sensitividad(y_clas_train_knn, y_train_n)\n",
        "especificidad_train = especificidad (y_clas_train_knn, y_train_n)\n",
        "f1_train = puntaje_F1(y_clas_train_knn, y_train_n)"
      ],
      "metadata": {
        "id": "zd5hrvn9YhRB"
      },
      "execution_count": 104,
      "outputs": []
    },
    {
      "cell_type": "code",
      "source": [
        "print(f'''La evaluación del entrenamiento del modelo diseñado nos indica que se tienen las siguientes cifras de mérito:\n",
        "Exactitud: {exactitud_train}\n",
        "Precisión: {precision_train}\n",
        "Sensitividad: {sensitividad_train}\n",
        "Especificidad: {especificidad_train}\n",
        "Puntaje F1: {f1_train}\n",
        "Error cuadrático medio: {error_cuad_train}''')"
      ],
      "metadata": {
        "colab": {
          "base_uri": "https://localhost:8080/"
        },
        "id": "QkKoG0eUY_rX",
        "outputId": "8c5163ba-34ae-444a-ddb3-11f0625cc529"
      },
      "execution_count": 105,
      "outputs": [
        {
          "output_type": "stream",
          "name": "stdout",
          "text": [
            "La evaluación del entrenamiento del modelo diseñado nos indica que se tienen las siguientes cifras de mérito:\n",
            "Exactitud: 0.9969230769230769\n",
            "Precisión: 0.9955778301886793\n",
            "Sensitividad: 0.9985215848610289\n",
            "Especificidad: 0.9951892238614497\n",
            "Puntaje F1: 0.9970475346914673\n",
            "Error cuadrático medio: 0.0015384615384615385\n"
          ]
        }
      ]
    },
    {
      "cell_type": "markdown",
      "source": [
        "##### Clasificar"
      ],
      "metadata": {
        "id": "VccjgLoEMxmA"
      }
    },
    {
      "cell_type": "code",
      "source": [
        "y_clas_knn = clasificar_KNN(x_test_n, x_train_n, y_train_n, mv)"
      ],
      "metadata": {
        "colab": {
          "base_uri": "https://localhost:8080/"
        },
        "id": "eRezw6w6LyNj",
        "outputId": "9ae323c9-c196-4c3d-a390-8ff53147d6a3"
      },
      "execution_count": 91,
      "outputs": [
        {
          "output_type": "stream",
          "name": "stderr",
          "text": [
            "100%|██████████| 1624/1624 [01:08<00:00, 23.80it/s]\n"
          ]
        }
      ]
    },
    {
      "cell_type": "code",
      "source": [
        "exactitud_test = exactitud(y_clas_knn, y_test_n)\n",
        "error_cuad_test = MSE(y_test_n, y_clas_knn)\n",
        "precision_test = precision(y_clas_knn, y_test_n)\n",
        "sensitividad_test = sensitividad(y_clas_knn, y_test_n)\n",
        "especificidad_test = especificidad (y_clas_knn, y_test_n)\n",
        "f1_test = puntaje_F1(y_clas_knn, y_test_n)"
      ],
      "metadata": {
        "id": "27R7vD3BMrFU"
      },
      "execution_count": 92,
      "outputs": []
    },
    {
      "cell_type": "markdown",
      "source": [
        "##### Evaluación"
      ],
      "metadata": {
        "id": "fZ-OnRcnNM5u"
      }
    },
    {
      "cell_type": "code",
      "source": [
        "print(f'''La evaluación del modelo diseñado nos indica que se tienen las siguientes cifras de mérito:\n",
        "Exactitud: {exactitud_test}\n",
        "Precisión: {precision_test}\n",
        "Sensitividad: {sensitividad_test}\n",
        "Especificidad: {especificidad_test}\n",
        "Puntaje F1: {f1_test}\n",
        "Error cuadrático medio: {error_cuad_test}''')"
      ],
      "metadata": {
        "colab": {
          "base_uri": "https://localhost:8080/"
        },
        "id": "NfiyUJrRNJug",
        "outputId": "5fd14ca9-b517-4a71-a85d-785470333789"
      },
      "execution_count": 93,
      "outputs": [
        {
          "output_type": "stream",
          "name": "stdout",
          "text": [
            "La evaluación del modelo diseñado nos indica que se tienen las siguientes cifras de mérito:\n",
            "Exactitud: 0.9932266009852216\n",
            "Precisión: 0.9903730445246691\n",
            "Sensitividad: 0.9963680387409201\n",
            "Especificidad: 0.9899749373433584\n",
            "Puntaje F1: 0.9933614966807484\n",
            "Error cuadrático medio: 0.0033866995073891628\n"
          ]
        }
      ]
    },
    {
      "cell_type": "markdown",
      "metadata": {
        "id": "e6zK_A54n52I"
      },
      "source": [
        "#### ID3"
      ]
    },
    {
      "cell_type": "code",
      "source": [
        "clases = y_train_df.unique()"
      ],
      "metadata": {
        "id": "S1BA1ScUOcIm"
      },
      "execution_count": 94,
      "outputs": []
    },
    {
      "cell_type": "markdown",
      "source": [
        "##### Entrenamiento"
      ],
      "metadata": {
        "id": "Hf9PIFOcO_dP"
      }
    },
    {
      "cell_type": "code",
      "source": [
        "arbol_hongo = {}\n",
        "arbol_hongo = arbol_id3(x_train_df, y_train_df, clases, arbol_hongo)"
      ],
      "metadata": {
        "colab": {
          "base_uri": "https://localhost:8080/",
          "height": 346
        },
        "id": "J_HSTobnO_F5",
        "outputId": "9520dd5c-80ad-4232-8214-6f10d25ce00a"
      },
      "execution_count": 95,
      "outputs": [
        {
          "output_type": "error",
          "ename": "RecursionError",
          "evalue": "ignored",
          "traceback": [
            "\u001b[0;31m---------------------------------------------------------------------------\u001b[0m",
            "\u001b[0;31mRecursionError\u001b[0m                            Traceback (most recent call last)",
            "\u001b[0;32m<ipython-input-95-259725920c68>\u001b[0m in \u001b[0;36m<module>\u001b[0;34m()\u001b[0m\n\u001b[1;32m      1\u001b[0m \u001b[0marbol_hongo\u001b[0m \u001b[0;34m=\u001b[0m \u001b[0;34m{\u001b[0m\u001b[0;34m}\u001b[0m\u001b[0;34m\u001b[0m\u001b[0;34m\u001b[0m\u001b[0m\n\u001b[0;32m----> 2\u001b[0;31m \u001b[0marbol_hongo\u001b[0m \u001b[0;34m=\u001b[0m \u001b[0marbol_id3\u001b[0m\u001b[0;34m(\u001b[0m\u001b[0mx_train_df\u001b[0m\u001b[0;34m,\u001b[0m \u001b[0my_train_df\u001b[0m\u001b[0;34m,\u001b[0m \u001b[0mclases\u001b[0m\u001b[0;34m,\u001b[0m \u001b[0marbol_hongo\u001b[0m\u001b[0;34m)\u001b[0m\u001b[0;34m\u001b[0m\u001b[0;34m\u001b[0m\u001b[0m\n\u001b[0m",
            "\u001b[0;32m<ipython-input-16-aedeadbcf677>\u001b[0m in \u001b[0;36marbol_id3\u001b[0;34m(x_, y_, clases_, arbol_)\u001b[0m\n\u001b[1;32m     14\u001b[0m             \u001b[0marbol_\u001b[0m\u001b[0;34m[\u001b[0m\u001b[0mnodo_raiz_\u001b[0m\u001b[0;34m]\u001b[0m\u001b[0;34m[\u001b[0m\u001b[0mr\u001b[0m\u001b[0;34m]\u001b[0m \u001b[0;34m=\u001b[0m \u001b[0mclase_f_\u001b[0m\u001b[0;34m\u001b[0m\u001b[0;34m\u001b[0m\u001b[0m\n\u001b[1;32m     15\u001b[0m         \u001b[0;32melse\u001b[0m\u001b[0;34m:\u001b[0m\u001b[0;34m\u001b[0m\u001b[0;34m\u001b[0m\u001b[0m\n\u001b[0;32m---> 16\u001b[0;31m             \u001b[0marbol_id3\u001b[0m\u001b[0;34m(\u001b[0m\u001b[0msx\u001b[0m\u001b[0;34m,\u001b[0m \u001b[0msy\u001b[0m\u001b[0;34m,\u001b[0m \u001b[0mclases_\u001b[0m\u001b[0;34m,\u001b[0m \u001b[0marbol_\u001b[0m\u001b[0;34m[\u001b[0m\u001b[0mnodo_raiz_\u001b[0m\u001b[0;34m]\u001b[0m\u001b[0;34m[\u001b[0m\u001b[0mr\u001b[0m\u001b[0;34m]\u001b[0m\u001b[0;34m)\u001b[0m\u001b[0;34m\u001b[0m\u001b[0;34m\u001b[0m\u001b[0m\n\u001b[0m\u001b[1;32m     17\u001b[0m     \u001b[0;32mreturn\u001b[0m \u001b[0marbol_\u001b[0m\u001b[0;34m\u001b[0m\u001b[0;34m\u001b[0m\u001b[0m\n",
            "... last 1 frames repeated, from the frame below ...\n",
            "\u001b[0;32m<ipython-input-16-aedeadbcf677>\u001b[0m in \u001b[0;36marbol_id3\u001b[0;34m(x_, y_, clases_, arbol_)\u001b[0m\n\u001b[1;32m     14\u001b[0m             \u001b[0marbol_\u001b[0m\u001b[0;34m[\u001b[0m\u001b[0mnodo_raiz_\u001b[0m\u001b[0;34m]\u001b[0m\u001b[0;34m[\u001b[0m\u001b[0mr\u001b[0m\u001b[0;34m]\u001b[0m \u001b[0;34m=\u001b[0m \u001b[0mclase_f_\u001b[0m\u001b[0;34m\u001b[0m\u001b[0;34m\u001b[0m\u001b[0m\n\u001b[1;32m     15\u001b[0m         \u001b[0;32melse\u001b[0m\u001b[0;34m:\u001b[0m\u001b[0;34m\u001b[0m\u001b[0;34m\u001b[0m\u001b[0m\n\u001b[0;32m---> 16\u001b[0;31m             \u001b[0marbol_id3\u001b[0m\u001b[0;34m(\u001b[0m\u001b[0msx\u001b[0m\u001b[0;34m,\u001b[0m \u001b[0msy\u001b[0m\u001b[0;34m,\u001b[0m \u001b[0mclases_\u001b[0m\u001b[0;34m,\u001b[0m \u001b[0marbol_\u001b[0m\u001b[0;34m[\u001b[0m\u001b[0mnodo_raiz_\u001b[0m\u001b[0;34m]\u001b[0m\u001b[0;34m[\u001b[0m\u001b[0mr\u001b[0m\u001b[0;34m]\u001b[0m\u001b[0;34m)\u001b[0m\u001b[0;34m\u001b[0m\u001b[0;34m\u001b[0m\u001b[0m\n\u001b[0m\u001b[1;32m     17\u001b[0m     \u001b[0;32mreturn\u001b[0m \u001b[0marbol_\u001b[0m\u001b[0;34m\u001b[0m\u001b[0;34m\u001b[0m\u001b[0m\n",
            "\u001b[0;31mRecursionError\u001b[0m: maximum recursion depth exceeded while calling a Python object"
          ]
        }
      ]
    },
    {
      "cell_type": "markdown",
      "source": [
        "Debido a las características de la base de datos no es posible clasificar los hongos con este tipo de árbol de decisión."
      ],
      "metadata": {
        "id": "JKyDauBBPtoT"
      }
    },
    {
      "cell_type": "markdown",
      "source": [
        "### Conclusión"
      ],
      "metadata": {
        "id": "5uFve5h2Nc40"
      }
    },
    {
      "cell_type": "markdown",
      "source": [
        "El modelo de KNN fue el algoritmo que más se acoplo a la base de datos, teniendo un buen rendimiento, los cual se puede ver en sus cifras de mérito."
      ],
      "metadata": {
        "id": "GE7wX_9aNjkJ"
      }
    }
  ],
  "metadata": {
    "colab": {
      "collapsed_sections": [
        "_BI0H4fJC9Lj",
        "mGqby0vqXnOD",
        "WLwpUCliXxKH",
        "tLouWeB3sCV6",
        "3dNcfVv5EbHQ",
        "7HCcLaiXCFwX",
        "CWE0D7QpCW1V",
        "NCr9LD_ThCxL",
        "GnJufkCN-47m",
        "lU58034m65aF",
        "X4wxBwXIzUxW",
        "35O5UpSs_qlE",
        "_qux4v_hK-oZ"
      ],
      "name": "Examen_Final.ipynb",
      "provenance": []
    },
    "kernelspec": {
      "display_name": "Python 3",
      "name": "python3"
    },
    "language_info": {
      "name": "python"
    }
  },
  "nbformat": 4,
  "nbformat_minor": 0
}