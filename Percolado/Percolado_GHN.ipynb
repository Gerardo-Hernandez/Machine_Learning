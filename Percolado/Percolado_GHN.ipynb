{
 "cells": [
  {
   "cell_type": "markdown",
   "id": "b5497fc2",
   "metadata": {},
   "source": [
    "# Percolado\n",
    "\n",
    "Gerardo Hernandez Nava"
   ]
  },
  {
   "cell_type": "code",
   "execution_count": 1,
   "id": "268fdecf",
   "metadata": {},
   "outputs": [],
   "source": [
    "import numpy as np\n",
    "import matplotlib.pyplot as plt"
   ]
  },
  {
   "cell_type": "code",
   "execution_count": 2,
   "id": "b3223b82",
   "metadata": {},
   "outputs": [],
   "source": [
    "def llenado_matriz(matriz_, porcentaje_):\n",
    "    for i in range(10):\n",
    "        for j in range(0, 10):\n",
    "            p = np.random.randint(100)\n",
    "            if p > porcentaje_:\n",
    "                matriz_[i, j] = 1 # el conducto se encuentra libre\n",
    "            else:\n",
    "                matriz_[i, j] = 0 # el conducto se encuentra bloqueado\n",
    "    return matriz_"
   ]
  },
  {
   "cell_type": "code",
   "execution_count": 3,
   "id": "057c9adf",
   "metadata": {},
   "outputs": [],
   "source": [
    "def analisis_renglon_0(cr0, matriz_ar0, ruta):\n",
    "    if cr0 == 0: # analisis de primer columna\n",
    "        if matriz_ar0[0, 1] == 1:\n",
    "            ruta = np.vstack((ruta, [0, 1]))\n",
    "            matriz_ar0[0, 1] = 0.5\n",
    "        \n",
    "        if matriz_ar0[1, 0] == 1:\n",
    "            ruta = np.vstack((ruta, [1, 0]))\n",
    "            matriz_ar0[1, 0] = 0.5\n",
    "            \n",
    "    elif cr0 == 9: # analisis de ultima columna\n",
    "        if matriz_ar0[0, 8] == 1:\n",
    "            ruta = np.vstack((ruta, [0,8]))\n",
    "            matriz_ar0[0, 8] = 0.5\n",
    "        \n",
    "        if matriz_ar0[1, 9] == 1:\n",
    "            ruta = np.vstack((ruta, [1, 9]))\n",
    "            matriz_ar0[1, 9] = 0.5\n",
    "            \n",
    "    else: # analisis de las columnas centrales del renglon 0\n",
    "        if matriz_ar0[0, cr0 + 1] == 1:\n",
    "            ruta = np.vstack((ruta, [0, cr0 + 1]))\n",
    "            matriz_ar0[0, cr0 + 1] = 0.5\n",
    "            \n",
    "        if matriz_ar0[0, cr0 - 1] == 1:\n",
    "            ruta = np.vstack((ruta, [0, cr0 - 1]))\n",
    "            matriz_ar0[0, cr0 -1] = 0.5\n",
    "            \n",
    "        if matriz_ar0[1, cr0] == 1:\n",
    "            ruta = np.vstack((ruta, [1, cr0]))\n",
    "            matriz_ar0[0, cr0] = 0.5\n",
    "            \n",
    "    return matriz_ar0, ruta"
   ]
  },
  {
   "cell_type": "code",
   "execution_count": 4,
   "id": "bb84677c",
   "metadata": {},
   "outputs": [],
   "source": [
    "def analisis_renglones_centrales(rarc, carc, matriz_arc, ruta):\n",
    "    if carc == 0: # analisis de la primera columna renglones centrales\n",
    "        if matriz_arc[rarc, carc + 1] == 1:\n",
    "            ruta = np.vstack((ruta, [rarc, carc + 1]))\n",
    "            matriz_arc[rarc, carc + 1] = 0.5\n",
    "            \n",
    "        if matriz_arc[rarc + 1, carc] == 1:\n",
    "            ruta = np.vstack((ruta, [rarc + 1, carc]))\n",
    "            matriz_arc[rarc + 1, carc] = 0.5\n",
    "            \n",
    "        if matriz_arc[rarc - 1, carc] == 1:\n",
    "            ruta = np.vstack((ruta, [rarc - 1, carc]))\n",
    "            matriz_arc[rarc - 1, carc] = 0.5\n",
    "        \n",
    "    elif carc == 9: # analisis de la ultima columna renglones centrales\n",
    "        if matriz_arc[rarc, carc - 1] == 1:\n",
    "            ruta = np.vstack((ruta, [rarc, carc - 1]))\n",
    "            matriz_arc[rarc, carc - 1] = 0.5\n",
    "            \n",
    "        if matriz_arc[rarc + 1, carc] == 1:\n",
    "            ruta = np.vstack((ruta, [rarc + 1, carc]))\n",
    "            matriz_arc[rarc + 1, carc] = 0.5\n",
    "            \n",
    "        if matriz_arc[rarc - 1, carc] == 1:\n",
    "            ruta = np.vstack((ruta, [rarc - 1, carc]))\n",
    "            matriz_arc[rarc - 1, carc] = 0.5\n",
    "         \n",
    "    else: # analisis de columnas centrales y renglones centrales\n",
    "        if matriz_arc[rarc, carc + 1] == 1:\n",
    "            ruta = np.vstack((ruta, [rarc, carc + 1]))\n",
    "            matriz_arc[rarc, carc + 1] = 0.5\n",
    "            \n",
    "        if matriz_arc[rarc, carc - 1] == 1:\n",
    "            ruta = np.vstack((ruta, [rarc, carc - 1]))\n",
    "            matriz_arc[rarc, carc - 1] = 0.5\n",
    "        \n",
    "        if matriz_arc[rarc + 1, carc] == 1:\n",
    "            ruta = np.vstack((ruta, [rarc + 1, carc]))\n",
    "            matriz_arc[rarc + 1, carc] = 0.5\n",
    "        \n",
    "        if matriz_arc[rarc - 1, carc] == 1:\n",
    "            ruta = np.vstack((ruta, [rarc - 1, carc]))\n",
    "            matriz_arc[rarc - 1, carc] = 0.5\n",
    "            \n",
    "    return matriz_arc, ruta"
   ]
  },
  {
   "cell_type": "code",
   "execution_count": 5,
   "id": "910ee262",
   "metadata": {},
   "outputs": [],
   "source": [
    "def analisis_renglon_9(cr9, matriz_ar9, ruta):\n",
    "    if cr9 == 0: # analisis de primer columna\n",
    "        if matriz_ar9[9, 1] == 1:\n",
    "            ruta = np.vstack((ruta, [9, 1]))\n",
    "            matriz_ar9[9, 1] = 0.5\n",
    "        \n",
    "        if matriz_ar9[8, 0] == 1:\n",
    "            ruta = np.vstack((ruta, [8, 0]))\n",
    "            matriz_ar9[8, 0] = 0.5\n",
    "            \n",
    "    elif cr9 == 9: # analisis de ultima columna\n",
    "        if matriz_ar9[9, 8] == 1:\n",
    "            ruta = np.vstack((ruta, [9,8]))\n",
    "            matriz_ar9[9, 8] = 0.5\n",
    "        \n",
    "        if matriz_ar9[8, 9] == 1:\n",
    "            ruta = np.vstack((ruta, [8, 9]))\n",
    "            matriz_ar9[8, 9] = 0.5\n",
    "            \n",
    "    else: # analisis de las columnas centrales del renglon 9\n",
    "        if matriz_ar9[9, cr9 + 1] == 1:\n",
    "            ruta = np.vstack((ruta, [9, cr9 + 1]))\n",
    "            matriz_ar9[9, cr9 + 1] = 0.5\n",
    "            \n",
    "        if matriz_ar9[9, cr9 - 1] == 1:\n",
    "            ruta = np.vstack((ruta, [0, cr9 - 1]))\n",
    "            matriz_ar9[9, cr9 - 1] = 0.5\n",
    "            \n",
    "        if matriz_ar9[8, cr9] == 1:\n",
    "            ruta = np.vstack((ruta, [1, cr9]))\n",
    "            matriz_ar9[8, cr9] = 0.5\n",
    "            \n",
    "    return matriz_ar9, ruta"
   ]
  },
  {
   "cell_type": "code",
   "execution_count": 6,
   "id": "b53f9f5a",
   "metadata": {},
   "outputs": [],
   "source": [
    "def analisis_vecinos(r_av, c_av, matriz_av, ruta):\n",
    "    if r_av < 1:\n",
    "        matriz_ruta_av, ruta = analisis_renglon_0(c_av, matriz_av, ruta)\n",
    "        \n",
    "    elif r_av > 8:\n",
    "        matriz_ruta_av, ruta = analisis_renglon_9(c_av, matriz_av, ruta)\n",
    "        \n",
    "    else:\n",
    "        matriz_ruta_av, ruta = analisis_renglones_centrales(r_av, \n",
    "                                                               c_av, \n",
    "                                                               matriz_av, \n",
    "                                                               ruta)\n",
    "    \n",
    "    return matriz_ruta_av, ruta"
   ]
  },
  {
   "cell_type": "code",
   "execution_count": 7,
   "id": "e8161f33",
   "metadata": {},
   "outputs": [],
   "source": [
    "def analisis_percolacion(matriz_analizar):\n",
    "    posibilidades = []\n",
    "    matrices = []\n",
    "    for inicio in range(10):\n",
    "        Recorrido = True\n",
    "        ruta = np.array([0, inicio])\n",
    "        ruta = np.expand_dims(ruta, axis=0)\n",
    "        i = 0\n",
    "        matriz_ruta_ap = matriz_analizar.copy()\n",
    "        if matriz_ruta_ap[ruta[i, 0], ruta[i, 1]] == 1:\n",
    "            while Recorrido:\n",
    "                if len(ruta) > i:\n",
    "                    matriz_ruta_ap, ruta = analisis_vecinos(ruta[i, 0], ruta[i, 1],\n",
    "                                                     matriz_ruta_ap, ruta)\n",
    "                else: Recorrido = False\n",
    "                i += 1\n",
    "            if 9 in ruta[:,0]:\n",
    "                posibilidades.append(inicio)\n",
    "        matrices.append(matriz_ruta_ap)\n",
    "    return posibilidades, matrices"
   ]
  },
  {
   "cell_type": "markdown",
   "id": "a4270e8f",
   "metadata": {},
   "source": [
    "## Esta sección es para correr el análisis de percolación de forma automatizada."
   ]
  },
  {
   "cell_type": "code",
   "execution_count": 12,
   "id": "ea6c112b",
   "metadata": {},
   "outputs": [],
   "source": [
    "probabilidades = np.zeros((100, 100, 2))"
   ]
  },
  {
   "cell_type": "code",
   "execution_count": 13,
   "id": "8d902a29",
   "metadata": {},
   "outputs": [],
   "source": [
    "for i in range(100):\n",
    "    for j in range (100):\n",
    "        M = np.zeros((10, 10))\n",
    "        porcentaje = i\n",
    "        M_bloqueada = llenado_matriz(M, porcentaje)\n",
    "        opciones_i, opciones_m = analisis_percolacion(M_bloqueada)\n",
    "        if len(opciones_i) > 0:\n",
    "            probabilidades[i, j, 0] = 1\n",
    "            probabilidades[i, j, 1] = len(opciones_i)"
   ]
  },
  {
   "cell_type": "code",
   "execution_count": 14,
   "id": "96ea707a",
   "metadata": {},
   "outputs": [],
   "source": [
    "porcentajes = np.zeros((100,2))\n",
    "for i in range(100):\n",
    "    porcentajes[i, 0] = i\n",
    "    porcentajes[i, 1] = np.sum(probabilidades[i, :, 0])"
   ]
  },
  {
   "cell_type": "code",
   "execution_count": 21,
   "id": "9e600d2b",
   "metadata": {},
   "outputs": [
    {
     "data": {
      "image/png": "[encoded data removed]",
      "text/plain": [
       "<Figure size 432x288 with 1 Axes>"
      ]
     },
     "metadata": {
      "needs_background": "light"
     },
     "output_type": "display_data"
    }
   ],
   "source": [
    "plt.plot(porcentajes[:, 0], porcentajes[:, 1])\n",
    "plt.xlabel('Probabilidad de bloqueo de celdas [%]')\n",
    "plt.ylabel('Probabilidad de percolación [%]')\n",
    "plt.title('Probabilidad de percolación vs probabilidad de bloqueo de las celdas')\n",
    "plt.grid()"
   ]
  },
  {
   "cell_type": "code",
   "execution_count": 16,
   "id": "ef095319",
   "metadata": {},
   "outputs": [],
   "source": [
    "num_opciones = np.zeros((100,2))\n",
    "for i in range(100):\n",
    "    num_opciones[i, 0] = i\n",
    "    num_opciones[i, 1] = np.sum(probabilidades[i, :, 1])/100"
   ]
  },
  {
   "cell_type": "code",
   "execution_count": 23,
   "id": "71cab22c",
   "metadata": {},
   "outputs": [
    {
     "data": {
      "image/png": "[encoded data removed]",
      "text/plain": [
       "<Figure size 432x288 with 1 Axes>"
      ]
     },
     "metadata": {
      "needs_background": "light"
     },
     "output_type": "display_data"
    }
   ],
   "source": [
    "plt.plot(num_opciones[:, 0], num_opciones[:, 1])\n",
    "plt.xlabel('Probabilidad de bloqueo de celdas [%]')\n",
    "plt.ylabel('Núm. de opciones de inicio viables')\n",
    "plt.title('Núm. de opciones de inicio viables vs probabilidad de bloqueo de las celdas')\n",
    "plt.grid()"
   ]
  },
  {
   "cell_type": "markdown",
   "id": "335083bf",
   "metadata": {},
   "source": [
    "## En caso que se quiera probar con un porcentaje en especial se debe correr esta sección."
   ]
  },
  {
   "cell_type": "code",
   "execution_count": 8,
   "id": "af57dec9",
   "metadata": {},
   "outputs": [],
   "source": [
    "probabilidades = np.zeros((100, 2))"
   ]
  },
  {
   "cell_type": "code",
   "execution_count": 9,
   "id": "29642fe2",
   "metadata": {},
   "outputs": [],
   "source": [
    "for j in range (100):\n",
    "    M = np.zeros((10, 10))\n",
    "    porcentaje = 35\n",
    "    M_bloqueada = llenado_matriz(M, porcentaje)\n",
    "    opciones_i, opciones_m = analisis_percolacion(M_bloqueada)\n",
    "    if len(opciones_i) > 0:\n",
    "        probabilidades[j, 0] = 1\n",
    "        probabilidades[j, 1] = len(opciones_i)"
   ]
  },
  {
   "cell_type": "code",
   "execution_count": 12,
   "id": "a5a8733f",
   "metadata": {},
   "outputs": [
    {
     "data": {
      "text/plain": [
       "79.0"
      ]
     },
     "execution_count": 12,
     "metadata": {},
     "output_type": "execute_result"
    }
   ],
   "source": [
    "probabilidad_percolado = np.sum(probabilidades[:, 0])\n",
    "probabilidad_percolado"
   ]
  },
  {
   "cell_type": "code",
   "execution_count": 13,
   "id": "ad42ea4d",
   "metadata": {},
   "outputs": [
    {
     "data": {
      "text/plain": [
       "4.33"
      ]
     },
     "execution_count": 13,
     "metadata": {},
     "output_type": "execute_result"
    }
   ],
   "source": [
    "promedio_opciones = np.sum(probabilidades[:, 1])/100\n",
    "promedio_opciones"
   ]
  },
  {
   "cell_type": "markdown",
   "id": "7cc5aad8",
   "metadata": {},
   "source": [
    "## Si solo se busca hacer una iteración se deben corrar las celdas siguientes."
   ]
  },
  {
   "cell_type": "code",
   "execution_count": 45,
   "id": "250202aa",
   "metadata": {},
   "outputs": [
    {
     "data": {
      "text/plain": [
       "<matplotlib.image.AxesImage at 0x20590018e20>"
      ]
     },
     "execution_count": 45,
     "metadata": {},
     "output_type": "execute_result"
    },
    {
     "data": {
      "image/png": "[encoded data removed]",
      "text/plain": [
       "<Figure size 432x288 with 1 Axes>"
      ]
     },
     "metadata": {
      "needs_background": "light"
     },
     "output_type": "display_data"
    }
   ],
   "source": [
    "M = np.zeros((10, 10))\n",
    "porcentaje = 80\n",
    "M_bloqueada = llenado_matriz(M, porcentaje)\n",
    "plt.imshow(M_bloqueada, cmap='gray')"
   ]
  },
  {
   "cell_type": "code",
   "execution_count": 47,
   "id": "b85e51a9",
   "metadata": {},
   "outputs": [],
   "source": [
    "opciones_i, opciones_m = analisis_percolacion(M_bloqueada)"
   ]
  },
  {
   "cell_type": "code",
   "execution_count": 10,
   "id": "5f4a3b16",
   "metadata": {},
   "outputs": [
    {
     "name": "stdout",
     "output_type": "stream",
     "text": [
      "[5, 6]\n"
     ]
    }
   ],
   "source": [
    "print(opciones_i)"
   ]
  },
  {
   "cell_type": "code",
   "execution_count": 48,
   "id": "93137346",
   "metadata": {},
   "outputs": [
    {
     "data": {
      "text/plain": [
       "<matplotlib.image.AxesImage at 0x205900d8970>"
      ]
     },
     "execution_count": 48,
     "metadata": {},
     "output_type": "execute_result"
    },
    {
     "data": {
      "image/png": "[encoded data removed]",
      "text/plain": [
       "<Figure size 432x288 with 1 Axes>"
      ]
     },
     "metadata": {
      "needs_background": "light"
     },
     "output_type": "display_data"
    }
   ],
   "source": [
    "plt.imshow(opciones_m[6], cmap='gray')"
   ]
  }
 ],
 "metadata": {
  "kernelspec": {
   "display_name": "Python 3 (ipykernel)",
   "language": "python",
   "name": "python3"
  },
  "language_info": {
   "codemirror_mode": {
    "name": "ipython",
    "version": 3
   },
   "file_extension": ".py",
   "mimetype": "text/x-python",
   "name": "python",
   "nbconvert_exporter": "python",
   "pygments_lexer": "ipython3",
   "version": "3.9.7"
  }
 },
 "nbformat": 4,
 "nbformat_minor": 5
}
